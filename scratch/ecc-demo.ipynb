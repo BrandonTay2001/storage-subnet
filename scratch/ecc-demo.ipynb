{
 "cells": [
  {
   "cell_type": "code",
   "execution_count": 1,
   "metadata": {},
   "outputs": [],
   "source": [
    "import bittensor as bt\n",
    "import random\n",
    "import os\n",
    "import sys\n",
    "import numpy as np\n",
    "import pandas as pd\n",
    "import hashlib\n",
    "from collections import defaultdict\n",
    "from Crypto import Random\n",
    "from Crypto.Random import random\n",
    "from Crypto.PublicKey import ECC\n",
    "from Crypto.Cipher import AES\n",
    "from Crypto.Random import get_random_bytes\n",
    "from pprint import pprint, pformat\n",
    "import binascii\n"
   ]
  },
  {
   "cell_type": "code",
   "execution_count": 2,
   "metadata": {},
   "outputs": [],
   "source": [
    "class ECCommitment:\n",
    "    def __init__(self, g, h):\n",
    "        self.g = g  # Base point of the curve\n",
    "        self.h = h  # Another random point on the curve\n",
    "\n",
    "    def commit(self, m):  # AKA Seal.\n",
    "        m_val = hash_data(m)  # Compute hash of the data\n",
    "        r = random.randint(1, 2**256)\n",
    "        c1 = self.g.__mul__(m_val)\n",
    "        c2 = self.h.__mul__(r)\n",
    "        c = c1.__add__(c2)\n",
    "        print(\n",
    "            f\"Committing: Data = {m}\\nHashed Value = {m_val}\\nRandom Value = {r}\\nComputed Commitment = {c}\\n\"\n",
    "        )\n",
    "        return c, m_val, r\n",
    "\n",
    "    def open(self, c, m_val, r):\n",
    "        c1 = self.g.__mul__(m_val)\n",
    "        c2 = self.h.__mul__(r)\n",
    "        computed_c = c1.__add__(c2)\n",
    "        print(\n",
    "            f\"\\nOpening: Hashed Value = {m_val}\\nRandom Value = {r}\\nRecomputed Commitment = {computed_c}\\nOriginal Commitment = {c}\"\n",
    "        )\n",
    "        return computed_c == c\n",
    "\n",
    "\n",
    "def setup_CRS():\n",
    "    curve = ECC.generate(curve=\"P-256\")\n",
    "    g = curve.pointQ  # Base point\n",
    "    h = ECC.generate(curve=\"P-256\").pointQ  # Another random point\n",
    "    return g, h\n"
   ]
  },
  {
   "cell_type": "code",
   "execution_count": 3,
   "metadata": {},
   "outputs": [
    {
     "name": "stdout",
     "output_type": "stream",
     "text": [
      "g: <Crypto.PublicKey.ECC.EccPoint object at 0x7f491ae0f0a0>\n",
      "h: <Crypto.PublicKey.ECC.EccPoint object at 0x7f4a8b9c3c70>\n"
     ]
    }
   ],
   "source": [
    "g, h = setup_CRS()\n",
    "print(\"g:\", g)\n",
    "print(\"h:\", h)"
   ]
  },
  {
   "cell_type": "code",
   "execution_count": 4,
   "metadata": {},
   "outputs": [
    {
     "data": {
      "text/plain": [
       "512"
      ]
     },
     "execution_count": 4,
     "metadata": {},
     "output_type": "execute_result"
    }
   ],
   "source": [
    "def make_random_file(name=None, maxsize=1024):\n",
    "    size = random.randint(32, maxsize)\n",
    "    data = os.urandom(size)\n",
    "    if isinstance(name, str):\n",
    "        with open(name, \"wb\") as fout:\n",
    "            fout.write(data)\n",
    "    else:\n",
    "        return data\n",
    "\n",
    "f = random_file = make_random_file()\n",
    "len(f)"
   ]
  },
  {
   "cell_type": "code",
   "execution_count": 5,
   "metadata": {},
   "outputs": [
    {
     "data": {
      "text/plain": [
       "b'\\xa9]\\xc8\\x1d\\xf1\\xa0\\xac\\xf8&\\x93\\xb4\\xd0\\xa8\\x1d_\\x1d(X\\xc7\\'\\xd1\\xa9t0(\\'\\xb6\\x17\\x0e\\x17\\x99bPf\\xe0\\xa0\\xa6\\xc3\\xb9\\xcc\\xe1\\x97,n\\xfd\\xc3.\\x05\\x08\\x14)\\x15\\x8d\\xcf\\x8c8\\xf5\\xee\\x1fRn\\xfa\\xb9\\x96\\xe6\\xb5\\xcf\\x90\\xae\\xa8\\xa7U:``CT[\\x1e\\xcc\\xc2\\xed\\x10\\xe9RR\\xcb>\\xdcsbJ\\x18\\x9f\\x17\\xf0\\xb2\\xe9\\x9b]\\x9c\\xe0\\xd7\\xcbR7\\x99e\\x94qJ\\x83H\\xec\\x85\\xbc\\xda\\x8e\\x82\\x14\\xb8v7`\\xe8\\xc8/(\\xd2B)\\xa9M\\xb1s\\x7f\\xc9\\xda\\x94\\xa2\\xb8\\x84\\xc9\\x9a\\n\\xdb\\xe3\\xff\\xdf\\xfaw\\xf3~\\x1eJ\\xb3J\\xe2\\xfa\\xfc\\xf9\\\\`\\xa0\\xbd\\xdaas\\xf3A\\x94z\\x8e\\xa7\\x15\\xa3\\x1bv\"\\x00\\r\\x01\\xa7\\xda\\xe1t\\x10\\xa3\\x90F\\xbe\\xbc?73\\x01\\xbd\\xce\\xcf\\x9cM\\xc7\\xd2\\xa8\\xdb\\xfd\\x96\\x9c\\xd5\\xc1<\\x16\\xa4h{o\\xe0\\x9f\\xf1\\x9dk\\x9fJ\\xa7\\xdc\\xf6\\x81\\x92\\xb5E\\x127~\\x16%q\\xaaU\\xbc-\\x9d\\xf1\\xa0\\x9d\\x8a\\x01\\nm\\x9cU5pE\\xe6\\xae\\x8c<\\r\\xf8\\x9a\\xa4T\\xa5\\xc2\\xc7\\xe5\\xf1\\xb8\\x94\\xe2g\\x19\\x8f\\x9c;\\x9b\\x7fFO\\xee\\xf6wB\\xe9\\xaf;-\\x86\\x9c\\x81\\xaa\\xac\\x91S\\xc0\\x08(\\x88\\xf8\\x1eJ\\xc6\\x9a\\xf2s\\x85Hj9\\x98\\\\G\"\\x1b\\x90vn&\\x0b\\x1f\\x00\\x16\\x87\\xd9?\\xe3\\xe1\\xc3\\x96\\xeb\\xd4\\xc6Q/\\x14|\\xac\\x1bw\\xd8z0a\\xde@`\\xaa\\x1a\\x86\\x04\\xf9\\xa9\\x9a\\x190[\\x85\\xff\\xcf\\x0fGl\\xe1\\x07\\x9aF\\xb0\\xf4\\xc6Q\\x9e\\xc59Za\\x8e\\xf8|$}\\xcd!\\x83a\\xd2\\xc9A\\xd1\\x88P0\\xcd\\xe3N,\\xd4\\xf0\\x00\\x9e:\\xd2\\x03P\\x9c]\\r&/\\x8b+\\x80\\x16\\n\\xb3f,\\x0c\\x99\\xea\\xb3\\xf2C\\x85\\x9b\\x8e\\xfd\"\\xd8\\xf4\\xe6\\xc4\\xe7RI\\x19\\x7fW\\xb4F\\xf6mb\\xc0\\x9a\\xb0\\x00\\x01\\xdc1xg\\xe28\\x99q\\xf4\\xb5i?r-\\xc3\\xd8\\xf6\\xbe\\x01\\xf45q\\x04\\xb2Hm\\x08\\x15\\\\\\x0c=\\\\\\xcd;\\x9e\\x0casL\\xca\\xb8\\x9e\\x03\\xe1\\'\\xa3\\x04\\xa5\\xad`a\\x1d\\xcc\\x7f\\x97\\x8b\\xceuw\\x98\\xa6\\x89\\xb2F,'"
      ]
     },
     "execution_count": 5,
     "metadata": {},
     "output_type": "execute_result"
    }
   ],
   "source": [
    "def encrypt_data(filename, key):\n",
    "    \"\"\"\n",
    "    Encrypt the data in the given filename using AES-GCM.\n",
    "\n",
    "    Parameters:\n",
    "    - filename: str or bytes. If str, it's considered as a file name. If bytes, as the data itself.\n",
    "    - key: bytes. 16-byte (128-bit), 24-byte (192-bit), or 32-byte (256-bit) secret key.\n",
    "\n",
    "    Returns:\n",
    "    - cipher_text: bytes. The encrypted data.\n",
    "    - nonce: bytes. The nonce used for the GCM mode.\n",
    "    - tag: bytes. The tag for authentication.\n",
    "    \"\"\"\n",
    "\n",
    "    # If filename is a string, treat it as a file name and read the data\n",
    "    if isinstance(filename, str):\n",
    "        with open(filename, \"rb\") as file:\n",
    "            data = file.read()\n",
    "    else:\n",
    "        data = filename\n",
    "\n",
    "    # Initialize AES-GCM cipher\n",
    "    cipher = AES.new(key, AES.MODE_GCM)\n",
    "    \n",
    "    # Encrypt the data\n",
    "    cipher_text, tag = cipher.encrypt_and_digest(data)\n",
    "\n",
    "    return cipher_text, cipher.nonce, tag\n",
    "\n",
    "# Example usage\n",
    "key = get_random_bytes(32)  # 256-bit key\n",
    "encrypted_data, nonce, tag = encrypt_data(random_file, key)\n",
    "encrypted_data"
   ]
  },
  {
   "cell_type": "code",
   "execution_count": 6,
   "metadata": {},
   "outputs": [
    {
     "data": {
      "text/plain": [
       "12117966378284384701652859315035581497141308452771122956723054776000079563328"
      ]
     },
     "execution_count": 6,
     "metadata": {},
     "output_type": "execute_result"
    }
   ],
   "source": [
    "# Hash encrypted data E with SHA3-256 (args: encrypted data E) to get hash H\n",
    "def hash_data(data):\n",
    "    if not isinstance(data, (bytes, bytearray)):\n",
    "        data_str = str(data)\n",
    "        data = data_str.encode()\n",
    "    h = hashlib.sha3_256(data).hexdigest()\n",
    "    return int(h, 16)\n",
    "\n",
    "H = hash_data(encrypted_data)\n",
    "H"
   ]
  },
  {
   "cell_type": "code",
   "execution_count": 7,
   "metadata": {},
   "outputs": [
    {
     "name": "stdout",
     "output_type": "stream",
     "text": [
      "bytesize: 545\n",
      "chunksize: 107\n"
     ]
    }
   ],
   "source": [
    "# Determine a random chunksize between 2kb-128kb (random sample from this range) store as chunksize_E\n",
    "def get_random_chunksize(maxsize=128):\n",
    "    return random.randint(2, maxsize)\n",
    "\n",
    "bytesize = sys.getsizeof(encrypted_data)\n",
    "print(\"bytesize:\", bytesize)\n",
    "chunksize = get_random_chunksize(bytesize // 4)\n",
    "print(\"chunksize:\", chunksize)"
   ]
  },
  {
   "cell_type": "code",
   "execution_count": 8,
   "metadata": {},
   "outputs": [
    {
     "name": "stdout",
     "output_type": "stream",
     "text": [
      "n chunks: 5\n",
      "('chunks: '\n",
      " '[b\"\\\\xa9]\\\\xc8\\\\x1d\\\\xf1\\\\xa0\\\\xac\\\\xf8&\\\\x93\\\\xb4\\\\xd0\\\\xa8\\\\x1d_\\\\x1d(X\\\\xc7\\'\\\\xd1\\\\xa9t0(\\'\\\\xb6\\\\x17\\\\x0e\\\\x17\\\\x99bPf\\\\xe0\\\\xa0\\\\xa6\\\\xc3\\\\xb9\\\\xcc\\\\xe1\\\\x97,n\\\\xfd\\\\xc3.\\\\x05\\\\x08\\\\x14)\\\\x15\\\\x8d\\\\xcf\\\\x8c8\\\\xf5\\\\xee\\\\x1fRn\\\\xfa\\\\xb9\\\\x96\\\\xe6\\\\xb5\\\\xcf\\\\x90\\\\xae\\\\xa8\\\\xa7U:``CT[\\\\x1e\\\\xcc\\\\xc2\\\\xed\\\\x10\\\\xe9RR\\\\xcb>\\\\xdcsbJ\\\\x18\\\\x9f\\\\x17\\\\xf0\\\\xb2\\\\xe9\\\\x9b]\\\\x9c\\\\xe0\\\\xd7\\\\xcbR7\\\\x99\", '\n",
      " 'b\\'e\\\\x94qJ\\\\x83H\\\\xec\\\\x85\\\\xbc\\\\xda\\\\x8e\\\\x82\\\\x14\\\\xb8v7`\\\\xe8\\\\xc8/(\\\\xd2B)\\\\xa9M\\\\xb1s\\\\x7f\\\\xc9\\\\xda\\\\x94\\\\xa2\\\\xb8\\\\x84\\\\xc9\\\\x9a\\\\n\\\\xdb\\\\xe3\\\\xff\\\\xdf\\\\xfaw\\\\xf3~\\\\x1eJ\\\\xb3J\\\\xe2\\\\xfa\\\\xfc\\\\xf9\\\\\\\\`\\\\xa0\\\\xbd\\\\xdaas\\\\xf3A\\\\x94z\\\\x8e\\\\xa7\\\\x15\\\\xa3\\\\x1bv\"\\\\x00\\\\r\\\\x01\\\\xa7\\\\xda\\\\xe1t\\\\x10\\\\xa3\\\\x90F\\\\xbe\\\\xbc?73\\\\x01\\\\xbd\\\\xce\\\\xcf\\\\x9cM\\\\xc7\\\\xd2\\\\xa8\\\\xdb\\\\xfd\\\\x96\\\\x9c\\\\xd5\\\\xc1<\\\\x16\\\\xa4h\\', '\n",
      " 'b\\'{o\\\\xe0\\\\x9f\\\\xf1\\\\x9dk\\\\x9fJ\\\\xa7\\\\xdc\\\\xf6\\\\x81\\\\x92\\\\xb5E\\\\x127~\\\\x16%q\\\\xaaU\\\\xbc-\\\\x9d\\\\xf1\\\\xa0\\\\x9d\\\\x8a\\\\x01\\\\nm\\\\x9cU5pE\\\\xe6\\\\xae\\\\x8c<\\\\r\\\\xf8\\\\x9a\\\\xa4T\\\\xa5\\\\xc2\\\\xc7\\\\xe5\\\\xf1\\\\xb8\\\\x94\\\\xe2g\\\\x19\\\\x8f\\\\x9c;\\\\x9b\\\\x7fFO\\\\xee\\\\xf6wB\\\\xe9\\\\xaf;-\\\\x86\\\\x9c\\\\x81\\\\xaa\\\\xac\\\\x91S\\\\xc0\\\\x08(\\\\x88\\\\xf8\\\\x1eJ\\\\xc6\\\\x9a\\\\xf2s\\\\x85Hj9\\\\x98\\\\\\\\G\"\\\\x1b\\\\x90vn&\\\\x0b\\\\x1f\\\\x00\\', '\n",
      " 'b\\'\\\\x16\\\\x87\\\\xd9?\\\\xe3\\\\xe1\\\\xc3\\\\x96\\\\xeb\\\\xd4\\\\xc6Q/\\\\x14|\\\\xac\\\\x1bw\\\\xd8z0a\\\\xde@`\\\\xaa\\\\x1a\\\\x86\\\\x04\\\\xf9\\\\xa9\\\\x9a\\\\x190[\\\\x85\\\\xff\\\\xcf\\\\x0fGl\\\\xe1\\\\x07\\\\x9aF\\\\xb0\\\\xf4\\\\xc6Q\\\\x9e\\\\xc59Za\\\\x8e\\\\xf8|$}\\\\xcd!\\\\x83a\\\\xd2\\\\xc9A\\\\xd1\\\\x88P0\\\\xcd\\\\xe3N,\\\\xd4\\\\xf0\\\\x00\\\\x9e:\\\\xd2\\\\x03P\\\\x9c]\\\\r&/\\\\x8b+\\\\x80\\\\x16\\\\n\\\\xb3f,\\\\x0c\\\\x99\\\\xea\\\\xb3\\\\xf2C\\\\x85\\\\x9b\\\\x8e\\\\xfd\"\\\\xd8\\', '\n",
      " 'b\"\\\\xf4\\\\xe6\\\\xc4\\\\xe7RI\\\\x19\\\\x7fW\\\\xb4F\\\\xf6mb\\\\xc0\\\\x9a\\\\xb0\\\\x00\\\\x01\\\\xdc1xg\\\\xe28\\\\x99q\\\\xf4\\\\xb5i?r-\\\\xc3\\\\xd8\\\\xf6\\\\xbe\\\\x01\\\\xf45q\\\\x04\\\\xb2Hm\\\\x08\\\\x15\\\\\\\\\\\\x0c=\\\\\\\\\\\\xcd;\\\\x9e\\\\x0casL\\\\xca\\\\xb8\\\\x9e\\\\x03\\\\xe1\\'\\\\xa3\\\\x04\\\\xa5\\\\xad`a\\\\x1d\\\\xcc\\\\x7f\\\\x97\\\\x8b\\\\xceuw\\\\x98\\\\xa6\\\\x89\\\\xb2F,\"]')\n"
     ]
    }
   ],
   "source": [
    "def chunk_data(data, chunksize: int):\n",
    "    for i in range(0, len(data), chunksize):\n",
    "        yield data[i : i + chunksize]\n",
    "\n",
    "chunks = list(chunk_data(encrypted_data, chunksize))\n",
    "print(\"n chunks:\", len(chunks))\n",
    "pprint(f\"chunks: {chunks}\")"
   ]
  },
  {
   "cell_type": "code",
   "execution_count": 9,
   "metadata": {},
   "outputs": [
    {
     "data": {
      "text/plain": [
       "<__main__.ECCommitment at 0x7f4a8b9c2dd0>"
      ]
     },
     "execution_count": 9,
     "metadata": {},
     "output_type": "execute_result"
    }
   ],
   "source": [
    "committer = ECCommitment(g, h)\n",
    "committer"
   ]
  },
  {
   "cell_type": "code",
   "execution_count": 10,
   "metadata": {},
   "outputs": [],
   "source": [
    "class MerkleTree(object):\n",
    "    def __init__(self, hash_type=\"sha3_256\"):\n",
    "        hash_type = hash_type.lower()\n",
    "        if hash_type in [\n",
    "            \"sha256\",\n",
    "            \"sha224\",\n",
    "            \"sha384\",\n",
    "            \"sha512\",\n",
    "            \"sha3_256\",\n",
    "            \"sha3_224\",\n",
    "            \"sha3_384\",\n",
    "            \"sha3_512\",\n",
    "        ]:\n",
    "            self.hash_function = getattr(hashlib, hash_type)\n",
    "        else:\n",
    "            raise Exception(\"`hash_type` {} nor supported\".format(hash_type))\n",
    "\n",
    "        self.reset_tree()\n",
    "\n",
    "    def _to_hex(self, x):\n",
    "        try:  # python3\n",
    "            return x.hex()\n",
    "        except:  # python2\n",
    "            return binascii.hexlify(x)\n",
    "\n",
    "    def reset_tree(self):\n",
    "        self.leaves = list()\n",
    "        self.levels = None\n",
    "        self.is_ready = False\n",
    "\n",
    "    def add_leaf(self, values, do_hash=False):\n",
    "        self.is_ready = False\n",
    "        # check if single leaf\n",
    "        if not isinstance(values, tuple) and not isinstance(values, list):\n",
    "            values = [values]\n",
    "        for v in values:\n",
    "            if do_hash:\n",
    "                v = v.encode(\"utf-8\")\n",
    "                v = self.hash_function(v).hexdigest()\n",
    "            v = bytearray.fromhex(v)\n",
    "            self.leaves.append(v)\n",
    "\n",
    "    def get_leaf(self, index):\n",
    "        return self._to_hex(self.leaves[index])\n",
    "\n",
    "    def get_leaf_count(self):\n",
    "        return len(self.leaves)\n",
    "\n",
    "    def get_tree_ready_state(self):\n",
    "        return self.is_ready\n",
    "\n",
    "    def _calculate_next_level(self):\n",
    "        solo_leave = None\n",
    "        N = len(self.levels[0])  # number of leaves on the level\n",
    "        if N % 2 == 1:  # if odd number of leaves on the level\n",
    "            solo_leave = self.levels[0][-1]\n",
    "            N -= 1\n",
    "\n",
    "        new_level = []\n",
    "        for l, r in zip(self.levels[0][0:N:2], self.levels[0][1:N:2]):\n",
    "            new_level.append(self.hash_function(l + r).digest())\n",
    "        if solo_leave is not None:\n",
    "            new_level.append(solo_leave)\n",
    "        self.levels = [\n",
    "            new_level,\n",
    "        ] + self.levels  # prepend new level\n",
    "\n",
    "    def make_tree(self):\n",
    "        self.is_ready = False\n",
    "        if self.get_leaf_count() > 0:\n",
    "            self.levels = [\n",
    "                self.leaves,\n",
    "            ]\n",
    "            while len(self.levels[0]) > 1:\n",
    "                self._calculate_next_level()\n",
    "        self.is_ready = True\n",
    "\n",
    "    def get_merkle_root(self):\n",
    "        if self.is_ready:\n",
    "            if self.levels is not None:\n",
    "                return self._to_hex(self.levels[0][0])\n",
    "            else:\n",
    "                return None\n",
    "        else:\n",
    "            return None\n",
    "\n",
    "    def get_proof(self, index):\n",
    "        if self.levels is None:\n",
    "            return None\n",
    "        elif not self.is_ready or index > len(self.leaves) - 1 or index < 0:\n",
    "            return None\n",
    "        else:\n",
    "            proof = []\n",
    "            for x in range(len(self.levels) - 1, 0, -1):\n",
    "                level_len = len(self.levels[x])\n",
    "                if (index == level_len - 1) and (\n",
    "                    level_len % 2 == 1\n",
    "                ):  # skip if this is an odd end node\n",
    "                    index = int(index / 2.0)\n",
    "                    continue\n",
    "                is_right_node = index % 2\n",
    "                sibling_index = index - 1 if is_right_node else index + 1\n",
    "                sibling_pos = \"left\" if is_right_node else \"right\"\n",
    "                sibling_value = self._to_hex(self.levels[x][sibling_index])\n",
    "                proof.append({sibling_pos: sibling_value})\n",
    "                index = int(index / 2.0)\n",
    "            return proof\n",
    "\n",
    "\n",
    "    def update_leaf(self, index, new_value):\n",
    "        \"\"\"Update a specific leaf in the tree and propagate changes upwards.\"\"\"\n",
    "        if not self.is_ready:\n",
    "            return None\n",
    "        new_value = bytearray.fromhex(new_value)\n",
    "        self.levels[-1][index] = new_value\n",
    "        for x in range(len(self.levels) - 1, 0, -1):\n",
    "            parent_index = index // 2\n",
    "            left_child = self.levels[x][parent_index * 2]\n",
    "            try:\n",
    "                right_child = self.levels[x][parent_index * 2 + 1]\n",
    "            except IndexError:\n",
    "                right_child = bytearray()\n",
    "            self.levels[x-1][parent_index] = self.hash_function(left_child + right_child).digest()\n",
    "            index = parent_index\n",
    "\n",
    "def validate_merkle_proof(proof, target_hash, merkle_root):\n",
    "    merkle_root = bytearray.fromhex(merkle_root)\n",
    "    target_hash = bytearray.fromhex(target_hash)\n",
    "    if len(proof) == 0:\n",
    "        return target_hash == merkle_root\n",
    "    else:\n",
    "        proof_hash = target_hash\n",
    "        for p in proof:\n",
    "            try:\n",
    "                # the sibling is a left node\n",
    "                sibling = bytearray.fromhex(p[\"left\"])\n",
    "                proof_hash = hashlib.sha3_256(sibling + proof_hash).digest()\n",
    "            except:\n",
    "                # the sibling is a right node\n",
    "                sibling = bytearray.fromhex(p[\"right\"])\n",
    "                proof_hash = hashlib.sha3_256(proof_hash + sibling).digest()\n",
    "        return proof_hash == merkle_root\n"
   ]
  },
  {
   "cell_type": "code",
   "execution_count": 11,
   "metadata": {},
   "outputs": [
    {
     "name": "stdout",
     "output_type": "stream",
     "text": [
      "Committing: Data = b\"\\xa9]\\xc8\\x1d\\xf1\\xa0\\xac\\xf8&\\x93\\xb4\\xd0\\xa8\\x1d_\\x1d(X\\xc7'\\xd1\\xa9t0('\\xb6\\x17\\x0e\\x17\\x99bPf\\xe0\\xa0\\xa6\\xc3\\xb9\\xcc\\xe1\\x97,n\\xfd\\xc3.\\x05\\x08\\x14)\\x15\\x8d\\xcf\\x8c8\\xf5\\xee\\x1fRn\\xfa\\xb9\\x96\\xe6\\xb5\\xcf\\x90\\xae\\xa8\\xa7U:``CT[\\x1e\\xcc\\xc2\\xed\\x10\\xe9RR\\xcb>\\xdcsbJ\\x18\\x9f\\x17\\xf0\\xb2\\xe9\\x9b]\\x9c\\xe0\\xd7\\xcbR7\\x99\"\n",
      "Hashed Value = 112338643405848501298939711485700548512527027948856895189884594257455301547077\n",
      "Random Value = 48440412178191298709631090262485133591133900680607127431851860250135419929156\n",
      "Computed Commitment = <Crypto.PublicKey.ECC.EccPoint object at 0x7f491ab02a70>\n",
      "\n",
      "Committing: Data = b'e\\x94qJ\\x83H\\xec\\x85\\xbc\\xda\\x8e\\x82\\x14\\xb8v7`\\xe8\\xc8/(\\xd2B)\\xa9M\\xb1s\\x7f\\xc9\\xda\\x94\\xa2\\xb8\\x84\\xc9\\x9a\\n\\xdb\\xe3\\xff\\xdf\\xfaw\\xf3~\\x1eJ\\xb3J\\xe2\\xfa\\xfc\\xf9\\\\`\\xa0\\xbd\\xdaas\\xf3A\\x94z\\x8e\\xa7\\x15\\xa3\\x1bv\"\\x00\\r\\x01\\xa7\\xda\\xe1t\\x10\\xa3\\x90F\\xbe\\xbc?73\\x01\\xbd\\xce\\xcf\\x9cM\\xc7\\xd2\\xa8\\xdb\\xfd\\x96\\x9c\\xd5\\xc1<\\x16\\xa4h'\n",
      "Hashed Value = 109206540026592170212928219278061917887631092984523302797960050338917567181456\n",
      "Random Value = 25184145133436869442485965303185691378710770156845104036748345781603129909508\n",
      "Computed Commitment = <Crypto.PublicKey.ECC.EccPoint object at 0x7f491ab00790>\n",
      "\n",
      "Committing: Data = b'{o\\xe0\\x9f\\xf1\\x9dk\\x9fJ\\xa7\\xdc\\xf6\\x81\\x92\\xb5E\\x127~\\x16%q\\xaaU\\xbc-\\x9d\\xf1\\xa0\\x9d\\x8a\\x01\\nm\\x9cU5pE\\xe6\\xae\\x8c<\\r\\xf8\\x9a\\xa4T\\xa5\\xc2\\xc7\\xe5\\xf1\\xb8\\x94\\xe2g\\x19\\x8f\\x9c;\\x9b\\x7fFO\\xee\\xf6wB\\xe9\\xaf;-\\x86\\x9c\\x81\\xaa\\xac\\x91S\\xc0\\x08(\\x88\\xf8\\x1eJ\\xc6\\x9a\\xf2s\\x85Hj9\\x98\\\\G\"\\x1b\\x90vn&\\x0b\\x1f\\x00'\n",
      "Hashed Value = 41735090348060861557900843345714744034813524696793706602693256377055092220916\n",
      "Random Value = 89685289023264127543225287244983688515989016546139344760387003092658794726046\n",
      "Computed Commitment = <Crypto.PublicKey.ECC.EccPoint object at 0x7f491ab01d50>\n",
      "\n",
      "Committing: Data = b'\\x16\\x87\\xd9?\\xe3\\xe1\\xc3\\x96\\xeb\\xd4\\xc6Q/\\x14|\\xac\\x1bw\\xd8z0a\\xde@`\\xaa\\x1a\\x86\\x04\\xf9\\xa9\\x9a\\x190[\\x85\\xff\\xcf\\x0fGl\\xe1\\x07\\x9aF\\xb0\\xf4\\xc6Q\\x9e\\xc59Za\\x8e\\xf8|$}\\xcd!\\x83a\\xd2\\xc9A\\xd1\\x88P0\\xcd\\xe3N,\\xd4\\xf0\\x00\\x9e:\\xd2\\x03P\\x9c]\\r&/\\x8b+\\x80\\x16\\n\\xb3f,\\x0c\\x99\\xea\\xb3\\xf2C\\x85\\x9b\\x8e\\xfd\"\\xd8'\n",
      "Hashed Value = 36070541331308861831022761476241120705779338081975446127393413135405562191239\n",
      "Random Value = 89066594733322523621872160786615075162621444057930565329841164005600775942687\n",
      "Computed Commitment = <Crypto.PublicKey.ECC.EccPoint object at 0x7f491ab01a50>\n",
      "\n",
      "Committing: Data = b\"\\xf4\\xe6\\xc4\\xe7RI\\x19\\x7fW\\xb4F\\xf6mb\\xc0\\x9a\\xb0\\x00\\x01\\xdc1xg\\xe28\\x99q\\xf4\\xb5i?r-\\xc3\\xd8\\xf6\\xbe\\x01\\xf45q\\x04\\xb2Hm\\x08\\x15\\\\\\x0c=\\\\\\xcd;\\x9e\\x0casL\\xca\\xb8\\x9e\\x03\\xe1'\\xa3\\x04\\xa5\\xad`a\\x1d\\xcc\\x7f\\x97\\x8b\\xceuw\\x98\\xa6\\x89\\xb2F,\"\n",
      "Hashed Value = 3665037608368329122603082374612373108783780224551698018960086344764547469940\n",
      "Random Value = 61982132390106698733826886326873658526180213013069942965107507501640849631817\n",
      "Computed Commitment = <Crypto.PublicKey.ECC.EccPoint object at 0x7f491ab00a90>\n",
      "\n"
     ]
    },
    {
     "data": {
      "text/plain": [
       "{'f2804064f642bd401c04b0c629d4ccc311a93f77c66fb058aca333298c25c969': {'commitments': defaultdict(<function __main__.commit_data.<locals>.<lambda>()>,\n",
       "              {0: {'index': 0,\n",
       "                'hash': 112338643405848501298939711485700548512527027948856895189884594257455301547077,\n",
       "                'data_chunk': b\"\\xa9]\\xc8\\x1d\\xf1\\xa0\\xac\\xf8&\\x93\\xb4\\xd0\\xa8\\x1d_\\x1d(X\\xc7'\\xd1\\xa9t0('\\xb6\\x17\\x0e\\x17\\x99bPf\\xe0\\xa0\\xa6\\xc3\\xb9\\xcc\\xe1\\x97,n\\xfd\\xc3.\\x05\\x08\\x14)\\x15\\x8d\\xcf\\x8c8\\xf5\\xee\\x1fRn\\xfa\\xb9\\x96\\xe6\\xb5\\xcf\\x90\\xae\\xa8\\xa7U:``CT[\\x1e\\xcc\\xc2\\xed\\x10\\xe9RR\\xcb>\\xdcsbJ\\x18\\x9f\\x17\\xf0\\xb2\\xe9\\x9b]\\x9c\\xe0\\xd7\\xcbR7\\x99\",\n",
       "                'point': <Crypto.PublicKey.ECC.EccPoint at 0x7f491ab02a70>,\n",
       "                'randomness': 48440412178191298709631090262485133591133900680607127431851860250135419929156,\n",
       "                'merkle_proof': None},\n",
       "               1: {'index': 1,\n",
       "                'hash': 109206540026592170212928219278061917887631092984523302797960050338917567181456,\n",
       "                'data_chunk': b'e\\x94qJ\\x83H\\xec\\x85\\xbc\\xda\\x8e\\x82\\x14\\xb8v7`\\xe8\\xc8/(\\xd2B)\\xa9M\\xb1s\\x7f\\xc9\\xda\\x94\\xa2\\xb8\\x84\\xc9\\x9a\\n\\xdb\\xe3\\xff\\xdf\\xfaw\\xf3~\\x1eJ\\xb3J\\xe2\\xfa\\xfc\\xf9\\\\`\\xa0\\xbd\\xdaas\\xf3A\\x94z\\x8e\\xa7\\x15\\xa3\\x1bv\"\\x00\\r\\x01\\xa7\\xda\\xe1t\\x10\\xa3\\x90F\\xbe\\xbc?73\\x01\\xbd\\xce\\xcf\\x9cM\\xc7\\xd2\\xa8\\xdb\\xfd\\x96\\x9c\\xd5\\xc1<\\x16\\xa4h',\n",
       "                'point': <Crypto.PublicKey.ECC.EccPoint at 0x7f491ab00790>,\n",
       "                'randomness': 25184145133436869442485965303185691378710770156845104036748345781603129909508,\n",
       "                'merkle_proof': None},\n",
       "               2: {'index': 2,\n",
       "                'hash': 41735090348060861557900843345714744034813524696793706602693256377055092220916,\n",
       "                'data_chunk': b'{o\\xe0\\x9f\\xf1\\x9dk\\x9fJ\\xa7\\xdc\\xf6\\x81\\x92\\xb5E\\x127~\\x16%q\\xaaU\\xbc-\\x9d\\xf1\\xa0\\x9d\\x8a\\x01\\nm\\x9cU5pE\\xe6\\xae\\x8c<\\r\\xf8\\x9a\\xa4T\\xa5\\xc2\\xc7\\xe5\\xf1\\xb8\\x94\\xe2g\\x19\\x8f\\x9c;\\x9b\\x7fFO\\xee\\xf6wB\\xe9\\xaf;-\\x86\\x9c\\x81\\xaa\\xac\\x91S\\xc0\\x08(\\x88\\xf8\\x1eJ\\xc6\\x9a\\xf2s\\x85Hj9\\x98\\\\G\"\\x1b\\x90vn&\\x0b\\x1f\\x00',\n",
       "                'point': <Crypto.PublicKey.ECC.EccPoint at 0x7f491ab01d50>,\n",
       "                'randomness': 89685289023264127543225287244983688515989016546139344760387003092658794726046,\n",
       "                'merkle_proof': None},\n",
       "               3: {'index': 3,\n",
       "                'hash': 36070541331308861831022761476241120705779338081975446127393413135405562191239,\n",
       "                'data_chunk': b'\\x16\\x87\\xd9?\\xe3\\xe1\\xc3\\x96\\xeb\\xd4\\xc6Q/\\x14|\\xac\\x1bw\\xd8z0a\\xde@`\\xaa\\x1a\\x86\\x04\\xf9\\xa9\\x9a\\x190[\\x85\\xff\\xcf\\x0fGl\\xe1\\x07\\x9aF\\xb0\\xf4\\xc6Q\\x9e\\xc59Za\\x8e\\xf8|$}\\xcd!\\x83a\\xd2\\xc9A\\xd1\\x88P0\\xcd\\xe3N,\\xd4\\xf0\\x00\\x9e:\\xd2\\x03P\\x9c]\\r&/\\x8b+\\x80\\x16\\n\\xb3f,\\x0c\\x99\\xea\\xb3\\xf2C\\x85\\x9b\\x8e\\xfd\"\\xd8',\n",
       "                'point': <Crypto.PublicKey.ECC.EccPoint at 0x7f491ab01a50>,\n",
       "                'randomness': 89066594733322523621872160786615075162621444057930565329841164005600775942687,\n",
       "                'merkle_proof': None},\n",
       "               4: {'index': 4,\n",
       "                'hash': 3665037608368329122603082374612373108783780224551698018960086344764547469940,\n",
       "                'data_chunk': b\"\\xf4\\xe6\\xc4\\xe7RI\\x19\\x7fW\\xb4F\\xf6mb\\xc0\\x9a\\xb0\\x00\\x01\\xdc1xg\\xe28\\x99q\\xf4\\xb5i?r-\\xc3\\xd8\\xf6\\xbe\\x01\\xf45q\\x04\\xb2Hm\\x08\\x15\\\\\\x0c=\\\\\\xcd;\\x9e\\x0casL\\xca\\xb8\\x9e\\x03\\xe1'\\xa3\\x04\\xa5\\xad`a\\x1d\\xcc\\x7f\\x97\\x8b\\xceuw\\x98\\xa6\\x89\\xb2F,\",\n",
       "                'point': <Crypto.PublicKey.ECC.EccPoint at 0x7f491ab00a90>,\n",
       "                'randomness': 61982132390106698733826886326873658526180213013069942965107507501640849631817,\n",
       "                'merkle_proof': None}}),\n",
       "  'merkle_tree': <__main__.MerkleTree at 0x7f491ab03b20>}}"
      ]
     },
     "execution_count": 11,
     "metadata": {},
     "output_type": "execute_result"
    }
   ],
   "source": [
    "def commit_data(committer, data_chunks):\n",
    "    merkle_tree = MerkleTree()\n",
    "    commitments = defaultdict(lambda: [None] * len(data_chunks))\n",
    "    # commitments = {}\n",
    "\n",
    "    for index, chunk in enumerate(data_chunks):\n",
    "        c, m_val, r = committer.commit(chunk)\n",
    "        commitments[index] = {\n",
    "            \"index\": index,\n",
    "            \"hash\": m_val,\n",
    "            \"data_chunk\": chunk,\n",
    "            \"point\": c,\n",
    "            \"randomness\": r,\n",
    "            \"merkle_proof\": None,\n",
    "        }\n",
    "        merkle_tree.add_leaf(ecc_point_to_hex(c))\n",
    "\n",
    "    merkle_tree.make_tree()\n",
    "    return {merkle_tree.get_merkle_root(): {'commitments': commitments, 'merkle_tree': merkle_tree}}\n",
    "\n",
    "def ecc_point_to_hex(point):\n",
    "    point_str = \"{},{}\".format(point.x, point.y)\n",
    "    return binascii.hexlify(point_str.encode()).decode()\n",
    "\n",
    "def hex_to_ecc_point(hex_str, curve):\n",
    "    point_str = binascii.unhexlify(hex_str).decode()\n",
    "    x, y = map(int, point_str.split(\",\"))\n",
    "    return ECC.EccPoint(curve, x, y)\n",
    "\n",
    "store_data = commit_data\n",
    "commitments_E = store_data(committer, chunks)\n",
    "commitments_E\n",
    "# TODO: once this is generaetd, we send it back to the Validator minus the random values\n",
    "# {merkle_root: (data_chunks, hashes, commitment_points)} "
   ]
  },
  {
   "cell_type": "code",
   "execution_count": 12,
   "metadata": {},
   "outputs": [
    {
     "data": {
      "text/plain": [
       "['f2804064f642bd401c04b0c629d4ccc311a93f77c66fb058aca333298c25c969']"
      ]
     },
     "execution_count": 12,
     "metadata": {},
     "output_type": "execute_result"
    }
   ],
   "source": [
    "keys = list(commitments_E.keys())\n",
    "keys"
   ]
  },
  {
   "cell_type": "code",
   "execution_count": 13,
   "metadata": {},
   "outputs": [
    {
     "data": {
      "text/plain": [
       "{'commitments': defaultdict(<function __main__.commit_data.<locals>.<lambda>()>,\n",
       "             {0: {'index': 0,\n",
       "               'hash': 112338643405848501298939711485700548512527027948856895189884594257455301547077,\n",
       "               'data_chunk': b\"\\xa9]\\xc8\\x1d\\xf1\\xa0\\xac\\xf8&\\x93\\xb4\\xd0\\xa8\\x1d_\\x1d(X\\xc7'\\xd1\\xa9t0('\\xb6\\x17\\x0e\\x17\\x99bPf\\xe0\\xa0\\xa6\\xc3\\xb9\\xcc\\xe1\\x97,n\\xfd\\xc3.\\x05\\x08\\x14)\\x15\\x8d\\xcf\\x8c8\\xf5\\xee\\x1fRn\\xfa\\xb9\\x96\\xe6\\xb5\\xcf\\x90\\xae\\xa8\\xa7U:``CT[\\x1e\\xcc\\xc2\\xed\\x10\\xe9RR\\xcb>\\xdcsbJ\\x18\\x9f\\x17\\xf0\\xb2\\xe9\\x9b]\\x9c\\xe0\\xd7\\xcbR7\\x99\",\n",
       "               'point': <Crypto.PublicKey.ECC.EccPoint at 0x7f491ab02a70>,\n",
       "               'randomness': 48440412178191298709631090262485133591133900680607127431851860250135419929156,\n",
       "               'merkle_proof': None},\n",
       "              1: {'index': 1,\n",
       "               'hash': 109206540026592170212928219278061917887631092984523302797960050338917567181456,\n",
       "               'data_chunk': b'e\\x94qJ\\x83H\\xec\\x85\\xbc\\xda\\x8e\\x82\\x14\\xb8v7`\\xe8\\xc8/(\\xd2B)\\xa9M\\xb1s\\x7f\\xc9\\xda\\x94\\xa2\\xb8\\x84\\xc9\\x9a\\n\\xdb\\xe3\\xff\\xdf\\xfaw\\xf3~\\x1eJ\\xb3J\\xe2\\xfa\\xfc\\xf9\\\\`\\xa0\\xbd\\xdaas\\xf3A\\x94z\\x8e\\xa7\\x15\\xa3\\x1bv\"\\x00\\r\\x01\\xa7\\xda\\xe1t\\x10\\xa3\\x90F\\xbe\\xbc?73\\x01\\xbd\\xce\\xcf\\x9cM\\xc7\\xd2\\xa8\\xdb\\xfd\\x96\\x9c\\xd5\\xc1<\\x16\\xa4h',\n",
       "               'point': <Crypto.PublicKey.ECC.EccPoint at 0x7f491ab00790>,\n",
       "               'randomness': 25184145133436869442485965303185691378710770156845104036748345781603129909508,\n",
       "               'merkle_proof': None},\n",
       "              2: {'index': 2,\n",
       "               'hash': 41735090348060861557900843345714744034813524696793706602693256377055092220916,\n",
       "               'data_chunk': b'{o\\xe0\\x9f\\xf1\\x9dk\\x9fJ\\xa7\\xdc\\xf6\\x81\\x92\\xb5E\\x127~\\x16%q\\xaaU\\xbc-\\x9d\\xf1\\xa0\\x9d\\x8a\\x01\\nm\\x9cU5pE\\xe6\\xae\\x8c<\\r\\xf8\\x9a\\xa4T\\xa5\\xc2\\xc7\\xe5\\xf1\\xb8\\x94\\xe2g\\x19\\x8f\\x9c;\\x9b\\x7fFO\\xee\\xf6wB\\xe9\\xaf;-\\x86\\x9c\\x81\\xaa\\xac\\x91S\\xc0\\x08(\\x88\\xf8\\x1eJ\\xc6\\x9a\\xf2s\\x85Hj9\\x98\\\\G\"\\x1b\\x90vn&\\x0b\\x1f\\x00',\n",
       "               'point': <Crypto.PublicKey.ECC.EccPoint at 0x7f491ab01d50>,\n",
       "               'randomness': 89685289023264127543225287244983688515989016546139344760387003092658794726046,\n",
       "               'merkle_proof': None},\n",
       "              3: {'index': 3,\n",
       "               'hash': 36070541331308861831022761476241120705779338081975446127393413135405562191239,\n",
       "               'data_chunk': b'\\x16\\x87\\xd9?\\xe3\\xe1\\xc3\\x96\\xeb\\xd4\\xc6Q/\\x14|\\xac\\x1bw\\xd8z0a\\xde@`\\xaa\\x1a\\x86\\x04\\xf9\\xa9\\x9a\\x190[\\x85\\xff\\xcf\\x0fGl\\xe1\\x07\\x9aF\\xb0\\xf4\\xc6Q\\x9e\\xc59Za\\x8e\\xf8|$}\\xcd!\\x83a\\xd2\\xc9A\\xd1\\x88P0\\xcd\\xe3N,\\xd4\\xf0\\x00\\x9e:\\xd2\\x03P\\x9c]\\r&/\\x8b+\\x80\\x16\\n\\xb3f,\\x0c\\x99\\xea\\xb3\\xf2C\\x85\\x9b\\x8e\\xfd\"\\xd8',\n",
       "               'point': <Crypto.PublicKey.ECC.EccPoint at 0x7f491ab01a50>,\n",
       "               'randomness': 89066594733322523621872160786615075162621444057930565329841164005600775942687,\n",
       "               'merkle_proof': None},\n",
       "              4: {'index': 4,\n",
       "               'hash': 3665037608368329122603082374612373108783780224551698018960086344764547469940,\n",
       "               'data_chunk': b\"\\xf4\\xe6\\xc4\\xe7RI\\x19\\x7fW\\xb4F\\xf6mb\\xc0\\x9a\\xb0\\x00\\x01\\xdc1xg\\xe28\\x99q\\xf4\\xb5i?r-\\xc3\\xd8\\xf6\\xbe\\x01\\xf45q\\x04\\xb2Hm\\x08\\x15\\\\\\x0c=\\\\\\xcd;\\x9e\\x0casL\\xca\\xb8\\x9e\\x03\\xe1'\\xa3\\x04\\xa5\\xad`a\\x1d\\xcc\\x7f\\x97\\x8b\\xceuw\\x98\\xa6\\x89\\xb2F,\",\n",
       "               'point': <Crypto.PublicKey.ECC.EccPoint at 0x7f491ab00a90>,\n",
       "               'randomness': 61982132390106698733826886326873658526180213013069942965107507501640849631817,\n",
       "               'merkle_proof': None}}),\n",
       " 'merkle_tree': <__main__.MerkleTree at 0x7f491ab03b20>}"
      ]
     },
     "execution_count": 13,
     "metadata": {},
     "output_type": "execute_result"
    }
   ],
   "source": [
    "inner_dict = commitments_E[keys[0]]\n",
    "inner_dict"
   ]
  },
  {
   "cell_type": "code",
   "execution_count": 14,
   "metadata": {},
   "outputs": [],
   "source": [
    "hashes = inner_dict[\"commitments\"][\"hashes\"]\n",
    "assert len(hashes) == len(chunks)"
   ]
  },
  {
   "cell_type": "code",
   "execution_count": 15,
   "metadata": {},
   "outputs": [
    {
     "data": {
      "text/plain": [
       "[0]"
      ]
     },
     "execution_count": 15,
     "metadata": {},
     "output_type": "execute_result"
    }
   ],
   "source": [
    "def get_challenge_indices(num_chunks, factor=0.1):\n",
    "    return random.sample(list(range(num_chunks)), int(1 + num_chunks * factor))\n",
    "\n",
    "ci = challenge_indices = get_challenge_indices(len(chunks))\n",
    "ci"
   ]
  },
  {
   "cell_type": "code",
   "execution_count": 16,
   "metadata": {},
   "outputs": [
    {
     "data": {
      "text/plain": [
       "'f2804064f642bd401c04b0c629d4ccc311a93f77c66fb058aca333298c25c969'"
      ]
     },
     "execution_count": 16,
     "metadata": {},
     "output_type": "execute_result"
    }
   ],
   "source": [
    "def get_merkle_root_to_challenge(commitments):\n",
    "    merkle_roots = list(commitments.keys())\n",
    "    return random.choice(merkle_roots)\n",
    "\n",
    "mrc = merkle_root_challenge = get_merkle_root_to_challenge(commitments_E)\n",
    "mrc"
   ]
  },
  {
   "cell_type": "code",
   "execution_count": 17,
   "metadata": {},
   "outputs": [
    {
     "data": {
      "text/plain": [
       "{'f2804064f642bd401c04b0c629d4ccc311a93f77c66fb058aca333298c25c969': [{'index': 0,\n",
       "   'hash': 112338643405848501298939711485700548512527027948856895189884594257455301547077,\n",
       "   'data_chunk': b\"\\xa9]\\xc8\\x1d\\xf1\\xa0\\xac\\xf8&\\x93\\xb4\\xd0\\xa8\\x1d_\\x1d(X\\xc7'\\xd1\\xa9t0('\\xb6\\x17\\x0e\\x17\\x99bPf\\xe0\\xa0\\xa6\\xc3\\xb9\\xcc\\xe1\\x97,n\\xfd\\xc3.\\x05\\x08\\x14)\\x15\\x8d\\xcf\\x8c8\\xf5\\xee\\x1fRn\\xfa\\xb9\\x96\\xe6\\xb5\\xcf\\x90\\xae\\xa8\\xa7U:``CT[\\x1e\\xcc\\xc2\\xed\\x10\\xe9RR\\xcb>\\xdcsbJ\\x18\\x9f\\x17\\xf0\\xb2\\xe9\\x9b]\\x9c\\xe0\\xd7\\xcbR7\\x99\",\n",
       "   'point': <Crypto.PublicKey.ECC.EccPoint at 0x7f491ab02a70>,\n",
       "   'randomness': 48440412178191298709631090262485133591133900680607127431851860250135419929156,\n",
       "   'merkle_proof': [{'right': '36333833383435373835303233383339333038313139323933303836383134353134383634303530303437333535353737383532393333353736343136303631383239393033303531393439372c313039363539363536383030363833373332373136353539353335373134343036353132383338383230343838353332303235353536373137303239383232373839343831353936333539393439'},\n",
       "    {'right': '4c7a97301f0225a413c8dd96d791943020b546e357a2aa472a0208e1a1fcebf9'},\n",
       "    {'right': '35393937343439313033363833373031303538373135313333373631333032323736373931343939343436333337303737373639343035343332373038373133313636383435303334363535352c3530393131383138383334323033323632303031313039353932383833303239363238323430323638333336363135323031303632373438343931313936363333313530383736383937333539'}]}]}"
      ]
     },
     "execution_count": 17,
     "metadata": {},
     "output_type": "execute_result"
    }
   ],
   "source": [
    "responses = []\n",
    "challenge_data = commitments_E[merkle_root_challenge]\n",
    "merkle_tree = challenge_data['merkle_tree']\n",
    "for i in challenge_indices:\n",
    "    challenge_data['commitments'][i]['merkle_proof'] = merkle_tree.get_proof(i)\n",
    "    responses.append(challenge_data['commitments'][i])\n",
    "\n",
    "challenge_response = {merkle_root_challenge: responses}\n",
    "challenge_response"
   ]
  },
  {
   "cell_type": "code",
   "execution_count": 18,
   "metadata": {},
   "outputs": [
    {
     "name": "stdout",
     "output_type": "stream",
     "text": [
      "merkle_root: f2804064f642bd401c04b0c629d4ccc311a93f77c66fb058aca333298c25c969\n"
     ]
    },
    {
     "data": {
      "text/plain": [
       "[{'index': 0,\n",
       "  'hash': 112338643405848501298939711485700548512527027948856895189884594257455301547077,\n",
       "  'data_chunk': b\"\\xa9]\\xc8\\x1d\\xf1\\xa0\\xac\\xf8&\\x93\\xb4\\xd0\\xa8\\x1d_\\x1d(X\\xc7'\\xd1\\xa9t0('\\xb6\\x17\\x0e\\x17\\x99bPf\\xe0\\xa0\\xa6\\xc3\\xb9\\xcc\\xe1\\x97,n\\xfd\\xc3.\\x05\\x08\\x14)\\x15\\x8d\\xcf\\x8c8\\xf5\\xee\\x1fRn\\xfa\\xb9\\x96\\xe6\\xb5\\xcf\\x90\\xae\\xa8\\xa7U:``CT[\\x1e\\xcc\\xc2\\xed\\x10\\xe9RR\\xcb>\\xdcsbJ\\x18\\x9f\\x17\\xf0\\xb2\\xe9\\x9b]\\x9c\\xe0\\xd7\\xcbR7\\x99\",\n",
       "  'point': <Crypto.PublicKey.ECC.EccPoint at 0x7f491ab02a70>,\n",
       "  'randomness': 48440412178191298709631090262485133591133900680607127431851860250135419929156,\n",
       "  'merkle_proof': [{'right': '36333833383435373835303233383339333038313139323933303836383134353134383634303530303437333535353737383532393333353736343136303631383239393033303531393439372c313039363539363536383030363833373332373136353539353335373134343036353132383338383230343838353332303235353536373137303239383232373839343831353936333539393439'},\n",
       "   {'right': '4c7a97301f0225a413c8dd96d791943020b546e357a2aa472a0208e1a1fcebf9'},\n",
       "   {'right': '35393937343439313033363833373031303538373135313333373631333032323736373931343939343436333337303737373639343035343332373038373133313636383435303334363535352c3530393131383138383334323033323632303031313039353932383833303239363238323430323638333336363135323031303632373438343931313936363333313530383736383937333539'}]}]"
      ]
     },
     "execution_count": 18,
     "metadata": {},
     "output_type": "execute_result"
    }
   ],
   "source": [
    "merkle_root = list(challenge_response.keys())[0]\n",
    "commitments = challenge_response[merkle_root]\n",
    "print(\"merkle_root:\", merkle_root)\n",
    "commitments"
   ]
  },
  {
   "cell_type": "code",
   "execution_count": 19,
   "metadata": {},
   "outputs": [
    {
     "data": {
      "text/plain": [
       "1"
      ]
     },
     "execution_count": 19,
     "metadata": {},
     "output_type": "execute_result"
    }
   ],
   "source": [
    "len(commitments)"
   ]
  },
  {
   "cell_type": "code",
   "execution_count": 20,
   "metadata": {},
   "outputs": [
    {
     "data": {
      "text/plain": [
       "{'index': 0,\n",
       " 'hash': 112338643405848501298939711485700548512527027948856895189884594257455301547077,\n",
       " 'data_chunk': b\"\\xa9]\\xc8\\x1d\\xf1\\xa0\\xac\\xf8&\\x93\\xb4\\xd0\\xa8\\x1d_\\x1d(X\\xc7'\\xd1\\xa9t0('\\xb6\\x17\\x0e\\x17\\x99bPf\\xe0\\xa0\\xa6\\xc3\\xb9\\xcc\\xe1\\x97,n\\xfd\\xc3.\\x05\\x08\\x14)\\x15\\x8d\\xcf\\x8c8\\xf5\\xee\\x1fRn\\xfa\\xb9\\x96\\xe6\\xb5\\xcf\\x90\\xae\\xa8\\xa7U:``CT[\\x1e\\xcc\\xc2\\xed\\x10\\xe9RR\\xcb>\\xdcsbJ\\x18\\x9f\\x17\\xf0\\xb2\\xe9\\x9b]\\x9c\\xe0\\xd7\\xcbR7\\x99\",\n",
       " 'point': <Crypto.PublicKey.ECC.EccPoint at 0x7f491ab02a70>,\n",
       " 'randomness': 48440412178191298709631090262485133591133900680607127431851860250135419929156,\n",
       " 'merkle_proof': [{'right': '36333833383435373835303233383339333038313139323933303836383134353134383634303530303437333535353737383532393333353736343136303631383239393033303531393439372c313039363539363536383030363833373332373136353539353335373134343036353132383338383230343838353332303235353536373137303239383232373839343831353936333539393439'},\n",
       "  {'right': '4c7a97301f0225a413c8dd96d791943020b546e357a2aa472a0208e1a1fcebf9'},\n",
       "  {'right': '35393937343439313033363833373031303538373135313333373631333032323736373931343939343436333337303737373639343035343332373038373133313636383435303334363535352c3530393131383138383334323033323632303031313039353932383833303239363238323430323638333336363135323031303632373438343931313936363333313530383736383937333539'}]}"
      ]
     },
     "execution_count": 20,
     "metadata": {},
     "output_type": "execute_result"
    }
   ],
   "source": [
    "commitment_i = commitments[0]\n",
    "commitment_i"
   ]
  },
  {
   "cell_type": "code",
   "execution_count": 21,
   "metadata": {},
   "outputs": [
    {
     "data": {
      "text/plain": [
       "[{'right': '36333833383435373835303233383339333038313139323933303836383134353134383634303530303437333535353737383532393333353736343136303631383239393033303531393439372c313039363539363536383030363833373332373136353539353335373134343036353132383338383230343838353332303235353536373137303239383232373839343831353936333539393439'},\n",
       " {'right': '4c7a97301f0225a413c8dd96d791943020b546e357a2aa472a0208e1a1fcebf9'},\n",
       " {'right': '35393937343439313033363833373031303538373135313333373631333032323736373931343939343436333337303737373639343035343332373038373133313636383435303334363535352c3530393131383138383334323033323632303031313039353932383833303239363238323430323638333336363135323031303632373438343931313936363333313530383736383937333539'}]"
      ]
     },
     "execution_count": 21,
     "metadata": {},
     "output_type": "execute_result"
    }
   ],
   "source": [
    "merkle_proof_i = commitments[0]['merkle_proof']\n",
    "merkle_proof_i"
   ]
  },
  {
   "cell_type": "code",
   "execution_count": 22,
   "metadata": {},
   "outputs": [
    {
     "data": {
      "text/plain": [
       "{'index': 0,\n",
       " 'hash': 112338643405848501298939711485700548512527027948856895189884594257455301547077,\n",
       " 'data_chunk': b\"\\xa9]\\xc8\\x1d\\xf1\\xa0\\xac\\xf8&\\x93\\xb4\\xd0\\xa8\\x1d_\\x1d(X\\xc7'\\xd1\\xa9t0('\\xb6\\x17\\x0e\\x17\\x99bPf\\xe0\\xa0\\xa6\\xc3\\xb9\\xcc\\xe1\\x97,n\\xfd\\xc3.\\x05\\x08\\x14)\\x15\\x8d\\xcf\\x8c8\\xf5\\xee\\x1fRn\\xfa\\xb9\\x96\\xe6\\xb5\\xcf\\x90\\xae\\xa8\\xa7U:``CT[\\x1e\\xcc\\xc2\\xed\\x10\\xe9RR\\xcb>\\xdcsbJ\\x18\\x9f\\x17\\xf0\\xb2\\xe9\\x9b]\\x9c\\xe0\\xd7\\xcbR7\\x99\",\n",
       " 'point': <Crypto.PublicKey.ECC.EccPoint at 0x7f491ab02a70>,\n",
       " 'randomness': 48440412178191298709631090262485133591133900680607127431851860250135419929156,\n",
       " 'merkle_proof': [{'right': '36333833383435373835303233383339333038313139323933303836383134353134383634303530303437333535353737383532393333353736343136303631383239393033303531393439372c313039363539363536383030363833373332373136353539353335373134343036353132383338383230343838353332303235353536373137303239383232373839343831353936333539393439'},\n",
       "  {'right': '4c7a97301f0225a413c8dd96d791943020b546e357a2aa472a0208e1a1fcebf9'},\n",
       "  {'right': '35393937343439313033363833373031303538373135313333373631333032323736373931343939343436333337303737373639343035343332373038373133313636383435303334363535352c3530393131383138383334323033323632303031313039353932383833303239363238323430323638333336363135323031303632373438343931313936363333313530383736383937333539'}]}"
      ]
     },
     "execution_count": 22,
     "metadata": {},
     "output_type": "execute_result"
    }
   ],
   "source": [
    "commitments[0]"
   ]
  },
  {
   "cell_type": "code",
   "execution_count": 23,
   "metadata": {},
   "outputs": [
    {
     "name": "stdout",
     "output_type": "stream",
     "text": [
      "\n",
      "Opening: Hashed Value = 112338643405848501298939711485700548512527027948856895189884594257455301547077\n",
      "Random Value = 48440412178191298709631090262485133591133900680607127431851860250135419929156\n",
      "Recomputed Commitment = <Crypto.PublicKey.ECC.EccPoint object at 0x7f491ab00100>\n",
      "Original Commitment = <Crypto.PublicKey.ECC.EccPoint object at 0x7f491ab02a70>\n"
     ]
    }
   ],
   "source": [
    "for commitment_i in commitments:\n",
    "    index = commitment_i['index']\n",
    "    commitment = commitment_i['point']\n",
    "    data = commitment_i['data_chunk']\n",
    "    r = commitment_i['randomness']\n",
    "    merkle_proof_i = commitment_i['merkle_proof']\n",
    "\n",
    "    if not committer.open(commitment, hash_data(data), r):\n",
    "        print(f\"Opening commitment {index} failed\")\n",
    "\n",
    "    if not validate_merkle_proof(\n",
    "        merkle_proof_i, ecc_point_to_hex(commitment_i['point']), merkle_root\n",
    "    ):\n",
    "        print(f\"Merkle proof {index} validation failed\")"
   ]
  },
  {
   "cell_type": "code",
   "execution_count": 24,
   "metadata": {},
   "outputs": [],
   "source": [
    "def verify(committer, commitments, merkle_root):\n",
    "    for commitment_i in commitments:\n",
    "        index = commitment_i['index']\n",
    "        commitment = commitment_i['point']\n",
    "        data = commitment_i['data_chunk']\n",
    "        r = commitment_i['randomness']\n",
    "        merkle_proof_i = commitment_i['merkle_proof']\n",
    "\n",
    "        if not committer.open(commitment, hash_data(data), r):\n",
    "            print(f\"Opening commitment {index} failed\")\n",
    "            return False\n",
    "\n",
    "        if not validate_merkle_proof(\n",
    "            merkle_proof_i, ecc_point_to_hex(commitment_i['point']), merkle_root\n",
    "        ):\n",
    "            print(f\"Merkle proof {index} validation failed\")\n",
    "            return False\n",
    "\n",
    "    return True"
   ]
  },
  {
   "cell_type": "code",
   "execution_count": 25,
   "metadata": {},
   "outputs": [
    {
     "name": "stdout",
     "output_type": "stream",
     "text": [
      "\n",
      "Opening: Hashed Value = 112338643405848501298939711485700548512527027948856895189884594257455301547077\n",
      "Random Value = 48440412178191298709631090262485133591133900680607127431851860250135419929156\n",
      "Recomputed Commitment = <Crypto.PublicKey.ECC.EccPoint object at 0x7f491ab02b60>\n",
      "Original Commitment = <Crypto.PublicKey.ECC.EccPoint object at 0x7f491ab02a70>\n"
     ]
    },
    {
     "data": {
      "text/plain": [
       "True"
      ]
     },
     "execution_count": 25,
     "metadata": {},
     "output_type": "execute_result"
    }
   ],
   "source": [
    "verify(committer, commitments, merkle_root)"
   ]
  },
  {
   "cell_type": "code",
   "execution_count": 26,
   "metadata": {},
   "outputs": [
    {
     "name": "stdout",
     "output_type": "stream",
     "text": [
      "Committing: Data = b\"\\xa9]\\xc8\\x1d\\xf1\\xa0\\xac\\xf8&\\x93\\xb4\\xd0\\xa8\\x1d_\\x1d(X\\xc7'\\xd1\\xa9t0('\\xb6\\x17\\x0e\\x17\\x99bPf\\xe0\\xa0\\xa6\\xc3\\xb9\\xcc\\xe1\\x97,n\\xfd\\xc3.\\x05\\x08\\x14)\\x15\\x8d\\xcf\\x8c8\\xf5\\xee\\x1fRn\\xfa\\xb9\\x96\\xe6\\xb5\\xcf\\x90\\xae\\xa8\\xa7U:``CT[\\x1e\\xcc\\xc2\\xed\\x10\\xe9RR\\xcb>\\xdcsbJ\\x18\\x9f\\x17\\xf0\\xb2\\xe9\\x9b]\\x9c\\xe0\\xd7\\xcbR7\\x99\"\n",
      "Hashed Value = 112338643405848501298939711485700548512527027948856895189884594257455301547077\n",
      "Random Value = 84677239110191786396945898098136819935221217544383439955726374883337643675469\n",
      "Computed Commitment = <Crypto.PublicKey.ECC.EccPoint object at 0x7f491ab03010>\n",
      "\n",
      "new_merkle_root: 6c855fdaa908787d27ff727966e43daa083c026bef6b50516d4bd7ac45cc90f9\n"
     ]
    },
    {
     "data": {
      "text/plain": [
       "[{'index': 0,\n",
       "  'hash': 67524870516429278462838599991431937271735840779341060905602231448213289142482,\n",
       "  'data_chunk': b\"\\xa9]\\xc8\\x1d\\xf1\\xa0\\xac\\xf8&\\x93\\xb4\\xd0\\xa8\\x1d_\\x1d(X\\xc7'\\xd1\\xa9t0('\\xb6\\x17\\x0e\\x17\\x99bPf\\xe0\\xa0\\xa6\\xc3\\xb9\\xcc\\xe1\\x97,n\\xfd\\xc3.\\x05\\x08\\x14)\\x15\\x8d\\xcf\\x8c8\\xf5\\xee\\x1fRn\\xfa\\xb9\\x96\\xe6\\xb5\\xcf\\x90\\xae\\xa8\\xa7U:``CT[\\x1e\\xcc\\xc2\\xed\\x10\\xe9RR\\xcb>\\xdcsbJ\\x18\\x9f\\x17\\xf0\\xb2\\xe9\\x9b]\\x9c\\xe0\\xd7\\xcbR7\\x99\",\n",
       "  'point': <Crypto.PublicKey.ECC.EccPoint at 0x7f491ab03010>,\n",
       "  'randomness': 84677239110191786396945898098136819935221217544383439955726374883337643675469,\n",
       "  'merkle_proof': None}]"
      ]
     },
     "execution_count": 26,
     "metadata": {},
     "output_type": "execute_result"
    }
   ],
   "source": [
    "def recommit_data(committer, challenge_indices, merkle_tree, data):\n",
    "    # new_commitments = {}\n",
    "    new_commitments = []\n",
    "    for i in challenge_indices:\n",
    "        c, m_val, r = committer.commit(data[i])\n",
    "        commitment_hash = hash_data(ecc_point_to_hex(c)) # Assuming a hash_function is available.\n",
    "        new_commitments.append( {\n",
    "            \"index\": i,\n",
    "            \"hash\": commitment_hash,\n",
    "            \"data_chunk\": data[i],\n",
    "            \"point\": c,\n",
    "            \"randomness\": r,\n",
    "            \"merkle_proof\": None\n",
    "        })\n",
    "        merkle_tree.update_leaf(i, ecc_point_to_hex(c))\n",
    "    new_merkle_root = merkle_tree.get_merkle_root()\n",
    "    return new_merkle_root, new_commitments\n",
    "\n",
    "new_merkle_root, new_commitments = recommit_data(committer, challenge_indices, merkle_tree, chunks)\n",
    "print(\"new_merkle_root:\", new_merkle_root)\n",
    "new_commitments"
   ]
  },
  {
   "cell_type": "code",
   "execution_count": 27,
   "metadata": {},
   "outputs": [
    {
     "data": {
      "text/plain": [
       "[{'right': '36333833383435373835303233383339333038313139323933303836383134353134383634303530303437333535353737383532393333353736343136303631383239393033303531393439372c313039363539363536383030363833373332373136353539353335373134343036353132383338383230343838353332303235353536373137303239383232373839343831353936333539393439'},\n",
       " {'right': '4c7a97301f0225a413c8dd96d791943020b546e357a2aa472a0208e1a1fcebf9'},\n",
       " {'right': '35393937343439313033363833373031303538373135313333373631333032323736373931343939343436333337303737373639343035343332373038373133313636383435303334363535352c3530393131383138383334323033323632303031313039353932383833303239363238323430323638333336363135323031303632373438343931313936363333313530383736383937333539'}]"
      ]
     },
     "execution_count": 27,
     "metadata": {},
     "output_type": "execute_result"
    }
   ],
   "source": [
    "# Generate merkle proof for updated indices\n",
    "for nc in new_commitments:\n",
    "    nc['merkle_proof'] = merkle_tree.get_proof(nc['index'])\n",
    "nc['merkle_proof']"
   ]
  },
  {
   "cell_type": "code",
   "execution_count": 28,
   "metadata": {},
   "outputs": [
    {
     "name": "stdout",
     "output_type": "stream",
     "text": [
      "\n",
      "Opening: Hashed Value = 112338643405848501298939711485700548512527027948856895189884594257455301547077\n",
      "Random Value = 84677239110191786396945898098136819935221217544383439955726374883337643675469\n",
      "Recomputed Commitment = <Crypto.PublicKey.ECC.EccPoint object at 0x7f491ab019c0>\n",
      "Original Commitment = <Crypto.PublicKey.ECC.EccPoint object at 0x7f491ab03010>\n"
     ]
    },
    {
     "data": {
      "text/plain": [
       "True"
      ]
     },
     "execution_count": 28,
     "metadata": {},
     "output_type": "execute_result"
    }
   ],
   "source": [
    "# Reverify new commitments to make sure we're solid\n",
    "verify(committer, new_commitments, new_merkle_root)"
   ]
  }
 ],
 "metadata": {
  "kernelspec": {
   "display_name": "master",
   "language": "python",
   "name": "python3"
  },
  "language_info": {
   "codemirror_mode": {
    "name": "ipython",
    "version": 3
   },
   "file_extension": ".py",
   "mimetype": "text/x-python",
   "name": "python",
   "nbconvert_exporter": "python",
   "pygments_lexer": "ipython3",
   "version": "3.10.13"
  }
 },
 "nbformat": 4,
 "nbformat_minor": 2
}
