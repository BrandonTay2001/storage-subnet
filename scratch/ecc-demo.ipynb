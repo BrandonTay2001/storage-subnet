{
 "cells": [
  {
   "cell_type": "code",
   "execution_count": 1,
   "metadata": {},
   "outputs": [],
   "source": [
    "import bittensor as bt\n",
    "import random\n",
    "import os\n",
    "import sys\n",
    "import numpy as np\n",
    "import pandas as pd\n",
    "import hashlib\n",
    "from collections import defaultdict\n",
    "from Crypto import Random\n",
    "from Crypto.Random import random\n",
    "from Crypto.PublicKey import ECC\n",
    "from Crypto.Cipher import AES\n",
    "from Crypto.Random import get_random_bytes\n",
    "from pprint import pprint, pformat\n",
    "import binascii\n"
   ]
  },
  {
   "cell_type": "code",
   "execution_count": 2,
   "metadata": {},
   "outputs": [],
   "source": [
    "class ECCommitment:\n",
    "    def __init__(self, g, h):\n",
    "        self.g = g  # Base point of the curve\n",
    "        self.h = h  # Another random point on the curve\n",
    "\n",
    "    def commit(self, m):  # AKA Seal.\n",
    "        m_val = hash_data(m)  # Compute hash of the data\n",
    "        r = random.randint(1, 2**256)\n",
    "        c1 = self.g.__mul__(m_val)\n",
    "        c2 = self.h.__mul__(r)\n",
    "        c = c1.__add__(c2)\n",
    "        print(\n",
    "            f\"Committing: Data = {m}\\nHashed Value = {m_val}\\nRandom Value = {r}\\nComputed Commitment = {c}\\n\"\n",
    "        )\n",
    "        return c, m_val, r\n",
    "\n",
    "    def open(self, c, m_val, r):\n",
    "        c1 = self.g.__mul__(m_val)\n",
    "        c2 = self.h.__mul__(r)\n",
    "        computed_c = c1.__add__(c2)\n",
    "        print(\n",
    "            f\"\\nOpening: Hashed Value = {m_val}\\nRandom Value = {r}\\nRecomputed Commitment = {computed_c}\\nOriginal Commitment = {c}\"\n",
    "        )\n",
    "        return computed_c == c\n",
    "\n",
    "\n",
    "def setup_CRS():\n",
    "    curve = ECC.generate(curve=\"P-256\")\n",
    "    g = curve.pointQ  # Base point\n",
    "    h = ECC.generate(curve=\"P-256\").pointQ  # Another random point\n",
    "    return g, h\n"
   ]
  },
  {
   "cell_type": "code",
   "execution_count": 3,
   "metadata": {},
   "outputs": [
    {
     "name": "stdout",
     "output_type": "stream",
     "text": [
      "g: <Crypto.PublicKey.ECC.EccPoint object at 0x7f6cf20c8e80>\n",
      "h: <Crypto.PublicKey.ECC.EccPoint object at 0x7f6b81521f30>\n"
     ]
    }
   ],
   "source": [
    "g, h = setup_CRS()\n",
    "print(\"g:\", g)\n",
    "print(\"h:\", h)"
   ]
  },
  {
   "cell_type": "code",
   "execution_count": 4,
   "metadata": {},
   "outputs": [
    {
     "data": {
      "text/plain": [
       "576"
      ]
     },
     "execution_count": 4,
     "metadata": {},
     "output_type": "execute_result"
    }
   ],
   "source": [
    "def make_random_file(name=None, maxsize=1024):\n",
    "    size = random.randint(32, maxsize)\n",
    "    data = os.urandom(size)\n",
    "    if isinstance(name, str):\n",
    "        with open(name, \"wb\") as fout:\n",
    "            fout.write(data)\n",
    "    else:\n",
    "        return data\n",
    "\n",
    "f = random_file = make_random_file()\n",
    "len(f)"
   ]
  },
  {
   "cell_type": "code",
   "execution_count": 5,
   "metadata": {},
   "outputs": [
    {
     "data": {
      "text/plain": [
       "b'\\xa8\\'I\\x7f\\xedM~\\xd5\\xf8\\xef\\x960\\xb1#\\xbd}}\\xcdvQ4\\xbd2{\\x95\\tb\\xcb\\x155\\xf1;j3\\xe1\\xbd\\x9d\\x08$:\\x84Ea\\x18\\x8a\\xb8~\\xd0VN\\xccn\\xac\\x11}\\x03\\xf7\\xc2\\x89;+\\xedD\\xb4E\\xc0S\\xa5t\\x0fL\\x81*\\xdc\\xf8eX\\xd7\\x11[\\xfc>P_P\\xfe\\xe1\\xd0\\x1f\\xa1\\x14j\\xf4+\\xb9\\xf0#p0\\x89\\x7f\\xd0\\xbb\\x0c\\x99J^\\xc7\\n\\xb4\\x0e\\xc4q\\x85\\xe8\\x1f\\xd8\\x98\\xf3\\xb8\\xc4\\x9a\\x18\\'\\xae\\x9c\\x04\\x85\\xb8\\x9d\\xa5<\\x0f\\x8e$R\\xd1\\xc5\\x86\\xb38\\x90\\xc3\\x83\\x9br\\x1a\\x8e\\xb0\\xf1\\xb7=u\\xe8N\\x80XU\\x13zy03\\xdf\\xfeXh\\xb9\\xef\\xdbq9=>\\x00\\x9ao\\xbf\\xbc\\xb9L\\x14\\xd3\\xd4K&~\\xa6\\xb1\\xb4\\xb1\\x82\\xb7;U{T\\xe2\\x12\\xad\\xfe\\xa4+\\xc2m\\xd8P\\xe4\\x04\\xe6~\\xc0\\x9a\\x1c\\x11i\\x05sN\\x0c3\\xa3Rn2\\x80\\x03\\x079\\x07a[\\xd0\\xf6\\xfe\\xa0J>HP\\x8eZL\\xaf\\xae\\x17\\xce\\xee\\xa1\\x1f\\xd7?\\xe1M\\xa1\\xef\\xd1\\x1fp8\\x9e\\xbba\\x132\\xca\\x0fS\\xb4\\xed\\xaf-\\xeb\\xdf?!\\xde\\x9d\\xb3\\x8d\\xc4\\x80aW\\x8d|o\\xccw\\xe53\\x97:\\xe6\\xf10\\xd9\\xc8\\x1e\\xb9\\xbd\\x7fs\\xaa!{\\xa1/\\x13\\x0eAC\\xbc\\xb5B\\xc0\\xa1G\\xc5\\xe2\\xcf\\xdd\\xeb\\xc8\\xaf\\xc0\\xd6c\\x18\\xf5\\xe8\\x15!\\xb7\\x90\"\"\\xef\\xd8\\xda\\xbfy\\\\JB\\xdb>\\xddT\\x13\\x0f1s\\xfd\\xf0\\xad\\x17\\xe9x\\x90\\xaf\\x87|\\x1b\\x8f\"\\xed\\xe05\\xf4P\\x8e8\\x85\\xb2\\xf2\\xc5\\x04I\\xaa\\x1a93]c\\x02v$\\x98\\xbf\\xf1;}X\\xa5\\xbf\\x9f\\x9f8\\xf5\\xdbe\\xbf\\xb8\\x98@\\xb3PXX\\x94\\xce\\x0e\\x8f\\xc5\\x8b!\\xcf\\x1c8\\xceS\\n\\xa8\\x81\\t&J\\xf6\\x83\\xccSj\\x15\\x162\\xe7\\x9b7\\x17\\tR\\x8a\\x83\\xb0\\xf0+xeF\\x96\\x0eP\\xa2\\x9c\\xd0t\\x14:\\xd2\\x9d\\x85\\x81uk\\x07\\xeb\\xbd_Q\\xbf\\x17<\\x02\\xe0C\\x89\\x94\\xd2\\x05\\xcd2&>\\x91\\x88\\xcb0\\xf1X\\xef/\\x9a\\x80\\xaa\\xab\\x15\\xc3\\xc3M\\x15\\xfd\\xa4\\xafDJ\\xe9E\\xbeA\\xc5\\xc4\\xb3\\x87\\xd1\\x08\\xd7\\t\\xa8[1\\\\}6UG\\xed\\x80Q]HunF\\xae\\xa8\\x01\\x98\\x9e\\xec<)B\\xdb\\xc0\\xc3k\\x8e\\x03i\\xde%w\\xec\\x95\\xde\\xff\\xf4\\\\\\xdf\\xbbQU\\xa2B0\\n\\xc3pl\\x07\\xab\\x8f\\x0f\\x12\\x1b'"
      ]
     },
     "execution_count": 5,
     "metadata": {},
     "output_type": "execute_result"
    }
   ],
   "source": [
    "def encrypt_data(filename, key):\n",
    "    \"\"\"\n",
    "    Encrypt the data in the given filename using AES-GCM.\n",
    "\n",
    "    Parameters:\n",
    "    - filename: str or bytes. If str, it's considered as a file name. If bytes, as the data itself.\n",
    "    - key: bytes. 16-byte (128-bit), 24-byte (192-bit), or 32-byte (256-bit) secret key.\n",
    "\n",
    "    Returns:\n",
    "    - cipher_text: bytes. The encrypted data.\n",
    "    - nonce: bytes. The nonce used for the GCM mode.\n",
    "    - tag: bytes. The tag for authentication.\n",
    "    \"\"\"\n",
    "\n",
    "    # If filename is a string, treat it as a file name and read the data\n",
    "    if isinstance(filename, str):\n",
    "        with open(filename, \"rb\") as file:\n",
    "            data = file.read()\n",
    "    else:\n",
    "        data = filename\n",
    "\n",
    "    # Initialize AES-GCM cipher\n",
    "    cipher = AES.new(key, AES.MODE_GCM)\n",
    "    \n",
    "    # Encrypt the data\n",
    "    cipher_text, tag = cipher.encrypt_and_digest(data)\n",
    "\n",
    "    return cipher_text, cipher.nonce, tag\n",
    "\n",
    "# Example usage\n",
    "key = get_random_bytes(32)  # 256-bit key\n",
    "encrypted_data, nonce, tag = encrypt_data(random_file, key)\n",
    "encrypted_data"
   ]
  },
  {
   "cell_type": "code",
   "execution_count": 6,
   "metadata": {},
   "outputs": [
    {
     "data": {
      "text/plain": [
       "11571670828956623239669574103713213937807564828886038512947311940781227344988"
      ]
     },
     "execution_count": 6,
     "metadata": {},
     "output_type": "execute_result"
    }
   ],
   "source": [
    "# Hash encrypted data E with SHA3-256 (args: encrypted data E) to get hash H\n",
    "def hash_data(data):\n",
    "    if not isinstance(data, (bytes, bytearray)):\n",
    "        data_str = str(data)\n",
    "        data = data_str.encode()\n",
    "    h = hashlib.sha3_256(data).hexdigest()\n",
    "    return int(h, 16)\n",
    "\n",
    "H = hash_data(encrypted_data)\n",
    "H"
   ]
  },
  {
   "cell_type": "code",
   "execution_count": 7,
   "metadata": {},
   "outputs": [
    {
     "name": "stdout",
     "output_type": "stream",
     "text": [
      "bytesize: 609\n",
      "chunksize: 90\n"
     ]
    }
   ],
   "source": [
    "# Determine a random chunksize between 2kb-128kb (random sample from this range) store as chunksize_E\n",
    "def get_random_chunksize(maxsize=128):\n",
    "    return random.randint(2, maxsize)\n",
    "\n",
    "bytesize = sys.getsizeof(encrypted_data)\n",
    "print(\"bytesize:\", bytesize)\n",
    "chunksize = get_random_chunksize(bytesize // 4)\n",
    "print(\"chunksize:\", chunksize)"
   ]
  },
  {
   "cell_type": "code",
   "execution_count": 8,
   "metadata": {},
   "outputs": [
    {
     "name": "stdout",
     "output_type": "stream",
     "text": [
      "n chunks: 7\n",
      "('chunks: '\n",
      " '[b\"\\\\xa8\\'I\\\\x7f\\\\xedM~\\\\xd5\\\\xf8\\\\xef\\\\x960\\\\xb1#\\\\xbd}}\\\\xcdvQ4\\\\xbd2{\\\\x95\\\\tb\\\\xcb\\\\x155\\\\xf1;j3\\\\xe1\\\\xbd\\\\x9d\\\\x08$:\\\\x84Ea\\\\x18\\\\x8a\\\\xb8~\\\\xd0VN\\\\xccn\\\\xac\\\\x11}\\\\x03\\\\xf7\\\\xc2\\\\x89;+\\\\xedD\\\\xb4E\\\\xc0S\\\\xa5t\\\\x0fL\\\\x81*\\\\xdc\\\\xf8eX\\\\xd7\\\\x11[\\\\xfc>P_P\\\\xfe\\\\xe1\\\\xd0\\\\x1f\\\\xa1\", '\n",
      " 'b\"\\\\x14j\\\\xf4+\\\\xb9\\\\xf0#p0\\\\x89\\\\x7f\\\\xd0\\\\xbb\\\\x0c\\\\x99J^\\\\xc7\\\\n\\\\xb4\\\\x0e\\\\xc4q\\\\x85\\\\xe8\\\\x1f\\\\xd8\\\\x98\\\\xf3\\\\xb8\\\\xc4\\\\x9a\\\\x18\\'\\\\xae\\\\x9c\\\\x04\\\\x85\\\\xb8\\\\x9d\\\\xa5<\\\\x0f\\\\x8e$R\\\\xd1\\\\xc5\\\\x86\\\\xb38\\\\x90\\\\xc3\\\\x83\\\\x9br\\\\x1a\\\\x8e\\\\xb0\\\\xf1\\\\xb7=u\\\\xe8N\\\\x80XU\\\\x13zy03\\\\xdf\\\\xfeXh\\\\xb9\\\\xef\\\\xdbq9=>\\\\x00\\\\x9ao\\\\xbf\\\\xbc\\\\xb9\", '\n",
      " \"b'L\\\\x14\\\\xd3\\\\xd4K&~\\\\xa6\\\\xb1\\\\xb4\\\\xb1\\\\x82\\\\xb7;U{T\\\\xe2\\\\x12\\\\xad\\\\xfe\\\\xa4+\\\\xc2m\\\\xd8P\\\\xe4\\\\x04\\\\xe6~\\\\xc0\\\\x9a\\\\x1c\\\\x11i\\\\x05sN\\\\x0c3\\\\xa3Rn2\\\\x80\\\\x03\\\\x079\\\\x07a[\\\\xd0\\\\xf6\\\\xfe\\\\xa0J>HP\\\\x8eZL\\\\xaf\\\\xae\\\\x17\\\\xce\\\\xee\\\\xa1\\\\x1f\\\\xd7?\\\\xe1M\\\\xa1\\\\xef\\\\xd1\\\\x1fp8\\\\x9e\\\\xbba\\\\x132\\\\xca\\\\x0fS\\\\xb4\\\\xed', \"\n",
      " 'b\\'\\\\xaf-\\\\xeb\\\\xdf?!\\\\xde\\\\x9d\\\\xb3\\\\x8d\\\\xc4\\\\x80aW\\\\x8d|o\\\\xccw\\\\xe53\\\\x97:\\\\xe6\\\\xf10\\\\xd9\\\\xc8\\\\x1e\\\\xb9\\\\xbd\\\\x7fs\\\\xaa!{\\\\xa1/\\\\x13\\\\x0eAC\\\\xbc\\\\xb5B\\\\xc0\\\\xa1G\\\\xc5\\\\xe2\\\\xcf\\\\xdd\\\\xeb\\\\xc8\\\\xaf\\\\xc0\\\\xd6c\\\\x18\\\\xf5\\\\xe8\\\\x15!\\\\xb7\\\\x90\"\"\\\\xef\\\\xd8\\\\xda\\\\xbfy\\\\\\\\JB\\\\xdb>\\\\xddT\\\\x13\\\\x0f1s\\\\xfd\\\\xf0\\\\xad\\\\x17\\\\xe9x\\\\x90\\', '\n",
      " 'b\\'\\\\xaf\\\\x87|\\\\x1b\\\\x8f\"\\\\xed\\\\xe05\\\\xf4P\\\\x8e8\\\\x85\\\\xb2\\\\xf2\\\\xc5\\\\x04I\\\\xaa\\\\x1a93]c\\\\x02v$\\\\x98\\\\xbf\\\\xf1;}X\\\\xa5\\\\xbf\\\\x9f\\\\x9f8\\\\xf5\\\\xdbe\\\\xbf\\\\xb8\\\\x98@\\\\xb3PXX\\\\x94\\\\xce\\\\x0e\\\\x8f\\\\xc5\\\\x8b!\\\\xcf\\\\x1c8\\\\xceS\\\\n\\\\xa8\\\\x81\\\\t&J\\\\xf6\\\\x83\\\\xccSj\\\\x15\\\\x162\\\\xe7\\\\x9b7\\\\x17\\\\tR\\\\x8a\\\\x83\\\\xb0\\\\xf0+xeF\\', '\n",
      " \"b'\\\\x96\\\\x0eP\\\\xa2\\\\x9c\\\\xd0t\\\\x14:\\\\xd2\\\\x9d\\\\x85\\\\x81uk\\\\x07\\\\xeb\\\\xbd_Q\\\\xbf\\\\x17<\\\\x02\\\\xe0C\\\\x89\\\\x94\\\\xd2\\\\x05\\\\xcd2&>\\\\x91\\\\x88\\\\xcb0\\\\xf1X\\\\xef/\\\\x9a\\\\x80\\\\xaa\\\\xab\\\\x15\\\\xc3\\\\xc3M\\\\x15\\\\xfd\\\\xa4\\\\xafDJ\\\\xe9E\\\\xbeA\\\\xc5\\\\xc4\\\\xb3\\\\x87\\\\xd1\\\\x08\\\\xd7\\\\t\\\\xa8[1\\\\\\\\}6UG\\\\xed\\\\x80Q]HunF\\\\xae\\\\xa8\\\\x01\\\\x98\\\\x9e\\\\xec', \"\n",
      " \"b'<)B\\\\xdb\\\\xc0\\\\xc3k\\\\x8e\\\\x03i\\\\xde%w\\\\xec\\\\x95\\\\xde\\\\xff\\\\xf4\\\\\\\\\\\\xdf\\\\xbbQU\\\\xa2B0\\\\n\\\\xc3pl\\\\x07\\\\xab\\\\x8f\\\\x0f\\\\x12\\\\x1b']\")\n"
     ]
    }
   ],
   "source": [
    "def chunk_data(data, chunksize: int):\n",
    "    for i in range(0, len(data), chunksize):\n",
    "        yield data[i : i + chunksize]\n",
    "\n",
    "chunks = list(chunk_data(encrypted_data, chunksize))\n",
    "print(\"n chunks:\", len(chunks))\n",
    "pprint(f\"chunks: {chunks}\")"
   ]
  },
  {
   "cell_type": "code",
   "execution_count": 9,
   "metadata": {},
   "outputs": [
    {
     "data": {
      "text/plain": [
       "<__main__.ECCommitment at 0x7f6b81520f10>"
      ]
     },
     "execution_count": 9,
     "metadata": {},
     "output_type": "execute_result"
    }
   ],
   "source": [
    "committer = ECCommitment(g, h)\n",
    "committer"
   ]
  },
  {
   "cell_type": "code",
   "execution_count": 10,
   "metadata": {},
   "outputs": [],
   "source": [
    "class MerkleTree(object):\n",
    "    def __init__(self, hash_type=\"sha3_256\"):\n",
    "        hash_type = hash_type.lower()\n",
    "        if hash_type in [\n",
    "            \"sha256\",\n",
    "            \"sha224\",\n",
    "            \"sha384\",\n",
    "            \"sha512\",\n",
    "            \"sha3_256\",\n",
    "            \"sha3_224\",\n",
    "            \"sha3_384\",\n",
    "            \"sha3_512\",\n",
    "        ]:\n",
    "            self.hash_function = getattr(hashlib, hash_type)\n",
    "        else:\n",
    "            raise Exception(\"`hash_type` {} nor supported\".format(hash_type))\n",
    "\n",
    "        self.reset_tree()\n",
    "\n",
    "    def _to_hex(self, x):\n",
    "        try:  # python3\n",
    "            return x.hex()\n",
    "        except:  # python2\n",
    "            return binascii.hexlify(x)\n",
    "\n",
    "    def reset_tree(self):\n",
    "        self.leaves = list()\n",
    "        self.levels = None\n",
    "        self.is_ready = False\n",
    "\n",
    "    def add_leaf(self, values, do_hash=False):\n",
    "        self.is_ready = False\n",
    "        # check if single leaf\n",
    "        if not isinstance(values, tuple) and not isinstance(values, list):\n",
    "            values = [values]\n",
    "        for v in values:\n",
    "            if do_hash:\n",
    "                v = v.encode(\"utf-8\")\n",
    "                v = self.hash_function(v).hexdigest()\n",
    "            v = bytearray.fromhex(v)\n",
    "            self.leaves.append(v)\n",
    "\n",
    "    def get_leaf(self, index):\n",
    "        return self._to_hex(self.leaves[index])\n",
    "\n",
    "    def get_leaf_count(self):\n",
    "        return len(self.leaves)\n",
    "\n",
    "    def get_tree_ready_state(self):\n",
    "        return self.is_ready\n",
    "\n",
    "    def _calculate_next_level(self):\n",
    "        solo_leave = None\n",
    "        N = len(self.levels[0])  # number of leaves on the level\n",
    "        if N % 2 == 1:  # if odd number of leaves on the level\n",
    "            solo_leave = self.levels[0][-1]\n",
    "            N -= 1\n",
    "\n",
    "        new_level = []\n",
    "        for l, r in zip(self.levels[0][0:N:2], self.levels[0][1:N:2]):\n",
    "            new_level.append(self.hash_function(l + r).digest())\n",
    "        if solo_leave is not None:\n",
    "            new_level.append(solo_leave)\n",
    "        self.levels = [\n",
    "            new_level,\n",
    "        ] + self.levels  # prepend new level\n",
    "\n",
    "    def make_tree(self):\n",
    "        self.is_ready = False\n",
    "        if self.get_leaf_count() > 0:\n",
    "            self.levels = [\n",
    "                self.leaves,\n",
    "            ]\n",
    "            while len(self.levels[0]) > 1:\n",
    "                self._calculate_next_level()\n",
    "        self.is_ready = True\n",
    "\n",
    "    def get_merkle_root(self):\n",
    "        if self.is_ready:\n",
    "            if self.levels is not None:\n",
    "                return self._to_hex(self.levels[0][0])\n",
    "            else:\n",
    "                return None\n",
    "        else:\n",
    "            return None\n",
    "\n",
    "    def get_proof(self, index):\n",
    "        if self.levels is None:\n",
    "            return None\n",
    "        elif not self.is_ready or index > len(self.leaves) - 1 or index < 0:\n",
    "            return None\n",
    "        else:\n",
    "            proof = []\n",
    "            for x in range(len(self.levels) - 1, 0, -1):\n",
    "                level_len = len(self.levels[x])\n",
    "                if (index == level_len - 1) and (\n",
    "                    level_len % 2 == 1\n",
    "                ):  # skip if this is an odd end node\n",
    "                    index = int(index / 2.0)\n",
    "                    continue\n",
    "                is_right_node = index % 2\n",
    "                sibling_index = index - 1 if is_right_node else index + 1\n",
    "                sibling_pos = \"left\" if is_right_node else \"right\"\n",
    "                sibling_value = self._to_hex(self.levels[x][sibling_index])\n",
    "                proof.append({sibling_pos: sibling_value})\n",
    "                index = int(index / 2.0)\n",
    "            return proof\n",
    "\n",
    "\n",
    "    def update_leaf(self, index, new_value):\n",
    "        \"\"\"Update a specific leaf in the tree and propagate changes upwards.\"\"\"\n",
    "        if not self.is_ready:\n",
    "            return None\n",
    "        new_value = bytearray.fromhex(new_value)\n",
    "        self.levels[-1][index] = new_value\n",
    "        for x in range(len(self.levels) - 1, 0, -1):\n",
    "            parent_index = index // 2\n",
    "            left_child = self.levels[x][parent_index * 2]\n",
    "            try:\n",
    "                right_child = self.levels[x][parent_index * 2 + 1]\n",
    "            except IndexError:\n",
    "                right_child = bytearray()\n",
    "            self.levels[x-1][parent_index] = self.hash_function(left_child + right_child).digest()\n",
    "            index = parent_index\n",
    "\n",
    "def validate_merkle_proof(proof, target_hash, merkle_root):\n",
    "    merkle_root = bytearray.fromhex(merkle_root)\n",
    "    target_hash = bytearray.fromhex(target_hash)\n",
    "    if len(proof) == 0:\n",
    "        return target_hash == merkle_root\n",
    "    else:\n",
    "        proof_hash = target_hash\n",
    "        for p in proof:\n",
    "            try:\n",
    "                # the sibling is a left node\n",
    "                sibling = bytearray.fromhex(p[\"left\"])\n",
    "                proof_hash = hashlib.sha3_256(sibling + proof_hash).digest()\n",
    "            except:\n",
    "                # the sibling is a right node\n",
    "                sibling = bytearray.fromhex(p[\"right\"])\n",
    "                proof_hash = hashlib.sha3_256(proof_hash + sibling).digest()\n",
    "        return proof_hash == merkle_root\n"
   ]
  },
  {
   "cell_type": "code",
   "execution_count": 11,
   "metadata": {},
   "outputs": [
    {
     "name": "stdout",
     "output_type": "stream",
     "text": [
      "Committing: Data = b\"\\xa8'I\\x7f\\xedM~\\xd5\\xf8\\xef\\x960\\xb1#\\xbd}}\\xcdvQ4\\xbd2{\\x95\\tb\\xcb\\x155\\xf1;j3\\xe1\\xbd\\x9d\\x08$:\\x84Ea\\x18\\x8a\\xb8~\\xd0VN\\xccn\\xac\\x11}\\x03\\xf7\\xc2\\x89;+\\xedD\\xb4E\\xc0S\\xa5t\\x0fL\\x81*\\xdc\\xf8eX\\xd7\\x11[\\xfc>P_P\\xfe\\xe1\\xd0\\x1f\\xa1\"\n",
      "Hashed Value = 38950804539089487672099356560253669889976772888895228717164058477895961628876\n",
      "Random Value = 11371969935780734790947111972165227855775441224093653169512382489301334361355\n",
      "Computed Commitment = <Crypto.PublicKey.ECC.EccPoint object at 0x7f6b81211e70>\n",
      "\n",
      "Committing: Data = b\"\\x14j\\xf4+\\xb9\\xf0#p0\\x89\\x7f\\xd0\\xbb\\x0c\\x99J^\\xc7\\n\\xb4\\x0e\\xc4q\\x85\\xe8\\x1f\\xd8\\x98\\xf3\\xb8\\xc4\\x9a\\x18'\\xae\\x9c\\x04\\x85\\xb8\\x9d\\xa5<\\x0f\\x8e$R\\xd1\\xc5\\x86\\xb38\\x90\\xc3\\x83\\x9br\\x1a\\x8e\\xb0\\xf1\\xb7=u\\xe8N\\x80XU\\x13zy03\\xdf\\xfeXh\\xb9\\xef\\xdbq9=>\\x00\\x9ao\\xbf\\xbc\\xb9\"\n",
      "Hashed Value = 100988728033662964795533657568783397964785622474047693607566739886388900398160\n",
      "Random Value = 81550652198281941712483559203026265366378569172166804112827222004288662073383\n",
      "Computed Commitment = <Crypto.PublicKey.ECC.EccPoint object at 0x7f6b812125c0>\n",
      "\n",
      "Committing: Data = b'L\\x14\\xd3\\xd4K&~\\xa6\\xb1\\xb4\\xb1\\x82\\xb7;U{T\\xe2\\x12\\xad\\xfe\\xa4+\\xc2m\\xd8P\\xe4\\x04\\xe6~\\xc0\\x9a\\x1c\\x11i\\x05sN\\x0c3\\xa3Rn2\\x80\\x03\\x079\\x07a[\\xd0\\xf6\\xfe\\xa0J>HP\\x8eZL\\xaf\\xae\\x17\\xce\\xee\\xa1\\x1f\\xd7?\\xe1M\\xa1\\xef\\xd1\\x1fp8\\x9e\\xbba\\x132\\xca\\x0fS\\xb4\\xed'\n",
      "Hashed Value = 43428754564441986954827764361563084349397251263439998399770763116251701502357\n",
      "Random Value = 68271411459762609051564985314243484171486169784786549958086062949631591103490\n",
      "Computed Commitment = <Crypto.PublicKey.ECC.EccPoint object at 0x7f6b812105b0>\n",
      "\n",
      "Committing: Data = b'\\xaf-\\xeb\\xdf?!\\xde\\x9d\\xb3\\x8d\\xc4\\x80aW\\x8d|o\\xccw\\xe53\\x97:\\xe6\\xf10\\xd9\\xc8\\x1e\\xb9\\xbd\\x7fs\\xaa!{\\xa1/\\x13\\x0eAC\\xbc\\xb5B\\xc0\\xa1G\\xc5\\xe2\\xcf\\xdd\\xeb\\xc8\\xaf\\xc0\\xd6c\\x18\\xf5\\xe8\\x15!\\xb7\\x90\"\"\\xef\\xd8\\xda\\xbfy\\\\JB\\xdb>\\xddT\\x13\\x0f1s\\xfd\\xf0\\xad\\x17\\xe9x\\x90'\n",
      "Hashed Value = 81860895706473753679429327238006086398140780867362699394887327898589078671606\n",
      "Random Value = 21948002413522295330610447863369576020197218464937869635060045187223845362536\n",
      "Computed Commitment = <Crypto.PublicKey.ECC.EccPoint object at 0x7f6b81211a50>\n",
      "\n",
      "Committing: Data = b'\\xaf\\x87|\\x1b\\x8f\"\\xed\\xe05\\xf4P\\x8e8\\x85\\xb2\\xf2\\xc5\\x04I\\xaa\\x1a93]c\\x02v$\\x98\\xbf\\xf1;}X\\xa5\\xbf\\x9f\\x9f8\\xf5\\xdbe\\xbf\\xb8\\x98@\\xb3PXX\\x94\\xce\\x0e\\x8f\\xc5\\x8b!\\xcf\\x1c8\\xceS\\n\\xa8\\x81\\t&J\\xf6\\x83\\xccSj\\x15\\x162\\xe7\\x9b7\\x17\\tR\\x8a\\x83\\xb0\\xf0+xeF'\n",
      "Hashed Value = 54932799278949704721779960325822170579116430589976004134192194970948774422159\n",
      "Random Value = 111123569479186723717420818444837359301472279742203229018766741046839244605633\n",
      "Computed Commitment = <Crypto.PublicKey.ECC.EccPoint object at 0x7f6b812114e0>\n",
      "\n",
      "Committing: Data = b'\\x96\\x0eP\\xa2\\x9c\\xd0t\\x14:\\xd2\\x9d\\x85\\x81uk\\x07\\xeb\\xbd_Q\\xbf\\x17<\\x02\\xe0C\\x89\\x94\\xd2\\x05\\xcd2&>\\x91\\x88\\xcb0\\xf1X\\xef/\\x9a\\x80\\xaa\\xab\\x15\\xc3\\xc3M\\x15\\xfd\\xa4\\xafDJ\\xe9E\\xbeA\\xc5\\xc4\\xb3\\x87\\xd1\\x08\\xd7\\t\\xa8[1\\\\}6UG\\xed\\x80Q]HunF\\xae\\xa8\\x01\\x98\\x9e\\xec'\n",
      "Hashed Value = 58759823136492660437955875546910300593624405420820032876480899369228497557688\n",
      "Random Value = 89414787030287347735153962541662876738178162226911838233531622254192223013027\n",
      "Computed Commitment = <Crypto.PublicKey.ECC.EccPoint object at 0x7f6b81210d00>\n",
      "\n",
      "Committing: Data = b'<)B\\xdb\\xc0\\xc3k\\x8e\\x03i\\xde%w\\xec\\x95\\xde\\xff\\xf4\\\\\\xdf\\xbbQU\\xa2B0\\n\\xc3pl\\x07\\xab\\x8f\\x0f\\x12\\x1b'\n",
      "Hashed Value = 73119078650230209455034795763680039431413071460842408196640294539768309646086\n",
      "Random Value = 74232069414795502288939492586738983900689087478752673768215529146640744311455\n",
      "Computed Commitment = <Crypto.PublicKey.ECC.EccPoint object at 0x7f6b81210c10>\n",
      "\n"
     ]
    },
    {
     "data": {
      "text/plain": [
       "{'b15f3300df9da493f499823cb451ba212de07cafbb6414540ddaa801f0e5ccf3': {'commitments': defaultdict(<function __main__.commit_data.<locals>.<lambda>()>,\n",
       "              {0: {'index': 0,\n",
       "                'hash': 38950804539089487672099356560253669889976772888895228717164058477895961628876,\n",
       "                'data_chunk': b\"\\xa8'I\\x7f\\xedM~\\xd5\\xf8\\xef\\x960\\xb1#\\xbd}}\\xcdvQ4\\xbd2{\\x95\\tb\\xcb\\x155\\xf1;j3\\xe1\\xbd\\x9d\\x08$:\\x84Ea\\x18\\x8a\\xb8~\\xd0VN\\xccn\\xac\\x11}\\x03\\xf7\\xc2\\x89;+\\xedD\\xb4E\\xc0S\\xa5t\\x0fL\\x81*\\xdc\\xf8eX\\xd7\\x11[\\xfc>P_P\\xfe\\xe1\\xd0\\x1f\\xa1\",\n",
       "                'point': <Crypto.PublicKey.ECC.EccPoint at 0x7f6b81211e70>,\n",
       "                'randomness': 11371969935780734790947111972165227855775441224093653169512382489301334361355,\n",
       "                'merkle_proof': None},\n",
       "               1: {'index': 1,\n",
       "                'hash': 100988728033662964795533657568783397964785622474047693607566739886388900398160,\n",
       "                'data_chunk': b\"\\x14j\\xf4+\\xb9\\xf0#p0\\x89\\x7f\\xd0\\xbb\\x0c\\x99J^\\xc7\\n\\xb4\\x0e\\xc4q\\x85\\xe8\\x1f\\xd8\\x98\\xf3\\xb8\\xc4\\x9a\\x18'\\xae\\x9c\\x04\\x85\\xb8\\x9d\\xa5<\\x0f\\x8e$R\\xd1\\xc5\\x86\\xb38\\x90\\xc3\\x83\\x9br\\x1a\\x8e\\xb0\\xf1\\xb7=u\\xe8N\\x80XU\\x13zy03\\xdf\\xfeXh\\xb9\\xef\\xdbq9=>\\x00\\x9ao\\xbf\\xbc\\xb9\",\n",
       "                'point': <Crypto.PublicKey.ECC.EccPoint at 0x7f6b812125c0>,\n",
       "                'randomness': 81550652198281941712483559203026265366378569172166804112827222004288662073383,\n",
       "                'merkle_proof': None},\n",
       "               2: {'index': 2,\n",
       "                'hash': 43428754564441986954827764361563084349397251263439998399770763116251701502357,\n",
       "                'data_chunk': b'L\\x14\\xd3\\xd4K&~\\xa6\\xb1\\xb4\\xb1\\x82\\xb7;U{T\\xe2\\x12\\xad\\xfe\\xa4+\\xc2m\\xd8P\\xe4\\x04\\xe6~\\xc0\\x9a\\x1c\\x11i\\x05sN\\x0c3\\xa3Rn2\\x80\\x03\\x079\\x07a[\\xd0\\xf6\\xfe\\xa0J>HP\\x8eZL\\xaf\\xae\\x17\\xce\\xee\\xa1\\x1f\\xd7?\\xe1M\\xa1\\xef\\xd1\\x1fp8\\x9e\\xbba\\x132\\xca\\x0fS\\xb4\\xed',\n",
       "                'point': <Crypto.PublicKey.ECC.EccPoint at 0x7f6b812105b0>,\n",
       "                'randomness': 68271411459762609051564985314243484171486169784786549958086062949631591103490,\n",
       "                'merkle_proof': None},\n",
       "               3: {'index': 3,\n",
       "                'hash': 81860895706473753679429327238006086398140780867362699394887327898589078671606,\n",
       "                'data_chunk': b'\\xaf-\\xeb\\xdf?!\\xde\\x9d\\xb3\\x8d\\xc4\\x80aW\\x8d|o\\xccw\\xe53\\x97:\\xe6\\xf10\\xd9\\xc8\\x1e\\xb9\\xbd\\x7fs\\xaa!{\\xa1/\\x13\\x0eAC\\xbc\\xb5B\\xc0\\xa1G\\xc5\\xe2\\xcf\\xdd\\xeb\\xc8\\xaf\\xc0\\xd6c\\x18\\xf5\\xe8\\x15!\\xb7\\x90\"\"\\xef\\xd8\\xda\\xbfy\\\\JB\\xdb>\\xddT\\x13\\x0f1s\\xfd\\xf0\\xad\\x17\\xe9x\\x90',\n",
       "                'point': <Crypto.PublicKey.ECC.EccPoint at 0x7f6b81211a50>,\n",
       "                'randomness': 21948002413522295330610447863369576020197218464937869635060045187223845362536,\n",
       "                'merkle_proof': None},\n",
       "               4: {'index': 4,\n",
       "                'hash': 54932799278949704721779960325822170579116430589976004134192194970948774422159,\n",
       "                'data_chunk': b'\\xaf\\x87|\\x1b\\x8f\"\\xed\\xe05\\xf4P\\x8e8\\x85\\xb2\\xf2\\xc5\\x04I\\xaa\\x1a93]c\\x02v$\\x98\\xbf\\xf1;}X\\xa5\\xbf\\x9f\\x9f8\\xf5\\xdbe\\xbf\\xb8\\x98@\\xb3PXX\\x94\\xce\\x0e\\x8f\\xc5\\x8b!\\xcf\\x1c8\\xceS\\n\\xa8\\x81\\t&J\\xf6\\x83\\xccSj\\x15\\x162\\xe7\\x9b7\\x17\\tR\\x8a\\x83\\xb0\\xf0+xeF',\n",
       "                'point': <Crypto.PublicKey.ECC.EccPoint at 0x7f6b812114e0>,\n",
       "                'randomness': 111123569479186723717420818444837359301472279742203229018766741046839244605633,\n",
       "                'merkle_proof': None},\n",
       "               5: {'index': 5,\n",
       "                'hash': 58759823136492660437955875546910300593624405420820032876480899369228497557688,\n",
       "                'data_chunk': b'\\x96\\x0eP\\xa2\\x9c\\xd0t\\x14:\\xd2\\x9d\\x85\\x81uk\\x07\\xeb\\xbd_Q\\xbf\\x17<\\x02\\xe0C\\x89\\x94\\xd2\\x05\\xcd2&>\\x91\\x88\\xcb0\\xf1X\\xef/\\x9a\\x80\\xaa\\xab\\x15\\xc3\\xc3M\\x15\\xfd\\xa4\\xafDJ\\xe9E\\xbeA\\xc5\\xc4\\xb3\\x87\\xd1\\x08\\xd7\\t\\xa8[1\\\\}6UG\\xed\\x80Q]HunF\\xae\\xa8\\x01\\x98\\x9e\\xec',\n",
       "                'point': <Crypto.PublicKey.ECC.EccPoint at 0x7f6b81210d00>,\n",
       "                'randomness': 89414787030287347735153962541662876738178162226911838233531622254192223013027,\n",
       "                'merkle_proof': None},\n",
       "               6: {'index': 6,\n",
       "                'hash': 73119078650230209455034795763680039431413071460842408196640294539768309646086,\n",
       "                'data_chunk': b'<)B\\xdb\\xc0\\xc3k\\x8e\\x03i\\xde%w\\xec\\x95\\xde\\xff\\xf4\\\\\\xdf\\xbbQU\\xa2B0\\n\\xc3pl\\x07\\xab\\x8f\\x0f\\x12\\x1b',\n",
       "                'point': <Crypto.PublicKey.ECC.EccPoint at 0x7f6b81210c10>,\n",
       "                'randomness': 74232069414795502288939492586738983900689087478752673768215529146640744311455,\n",
       "                'merkle_proof': None}}),\n",
       "  'merkle_tree': <__main__.MerkleTree at 0x7f6b81213c70>}}"
      ]
     },
     "execution_count": 11,
     "metadata": {},
     "output_type": "execute_result"
    }
   ],
   "source": [
    "def commit_data(committer, data_chunks):\n",
    "    merkle_tree = MerkleTree()\n",
    "    commitments = defaultdict(lambda: [None] * len(data_chunks))\n",
    "    # commitments = {}\n",
    "\n",
    "    for index, chunk in enumerate(data_chunks):\n",
    "        c, m_val, r = committer.commit(chunk)\n",
    "        commitments[index] = {\n",
    "            \"index\": index,\n",
    "            \"hash\": m_val,\n",
    "            \"data_chunk\": chunk,\n",
    "            \"point\": c,\n",
    "            \"randomness\": r,\n",
    "            \"merkle_proof\": None,\n",
    "        }\n",
    "        merkle_tree.add_leaf(ecc_point_to_hex(c))\n",
    "\n",
    "    merkle_tree.make_tree()\n",
    "    return {merkle_tree.get_merkle_root(): {'commitments': commitments, 'merkle_tree': merkle_tree}}\n",
    "\n",
    "def ecc_point_to_hex(point):\n",
    "    point_str = \"{},{}\".format(point.x, point.y)\n",
    "    return binascii.hexlify(point_str.encode()).decode()\n",
    "\n",
    "def hex_to_ecc_point(hex_str, curve):\n",
    "    point_str = binascii.unhexlify(hex_str).decode()\n",
    "    x, y = map(int, point_str.split(\",\"))\n",
    "    return ECC.EccPoint(curve, x, y)\n",
    "\n",
    "store_data = commit_data\n",
    "commitments_E = store_data(committer, chunks)\n",
    "commitments_E\n",
    "# TODO: once this is generaetd, we send it back to the Validator minus the random values\n",
    "# {merkle_root: (data_chunks, hashes, commitment_points)} "
   ]
  },
  {
   "cell_type": "code",
   "execution_count": 12,
   "metadata": {},
   "outputs": [
    {
     "data": {
      "text/plain": [
       "['b15f3300df9da493f499823cb451ba212de07cafbb6414540ddaa801f0e5ccf3']"
      ]
     },
     "execution_count": 12,
     "metadata": {},
     "output_type": "execute_result"
    }
   ],
   "source": [
    "keys = list(commitments_E.keys())\n",
    "keys"
   ]
  },
  {
   "cell_type": "code",
   "execution_count": 13,
   "metadata": {},
   "outputs": [
    {
     "data": {
      "text/plain": [
       "{'commitments': defaultdict(<function __main__.commit_data.<locals>.<lambda>()>,\n",
       "             {0: {'index': 0,\n",
       "               'hash': 38950804539089487672099356560253669889976772888895228717164058477895961628876,\n",
       "               'data_chunk': b\"\\xa8'I\\x7f\\xedM~\\xd5\\xf8\\xef\\x960\\xb1#\\xbd}}\\xcdvQ4\\xbd2{\\x95\\tb\\xcb\\x155\\xf1;j3\\xe1\\xbd\\x9d\\x08$:\\x84Ea\\x18\\x8a\\xb8~\\xd0VN\\xccn\\xac\\x11}\\x03\\xf7\\xc2\\x89;+\\xedD\\xb4E\\xc0S\\xa5t\\x0fL\\x81*\\xdc\\xf8eX\\xd7\\x11[\\xfc>P_P\\xfe\\xe1\\xd0\\x1f\\xa1\",\n",
       "               'point': <Crypto.PublicKey.ECC.EccPoint at 0x7f6b81211e70>,\n",
       "               'randomness': 11371969935780734790947111972165227855775441224093653169512382489301334361355,\n",
       "               'merkle_proof': None},\n",
       "              1: {'index': 1,\n",
       "               'hash': 100988728033662964795533657568783397964785622474047693607566739886388900398160,\n",
       "               'data_chunk': b\"\\x14j\\xf4+\\xb9\\xf0#p0\\x89\\x7f\\xd0\\xbb\\x0c\\x99J^\\xc7\\n\\xb4\\x0e\\xc4q\\x85\\xe8\\x1f\\xd8\\x98\\xf3\\xb8\\xc4\\x9a\\x18'\\xae\\x9c\\x04\\x85\\xb8\\x9d\\xa5<\\x0f\\x8e$R\\xd1\\xc5\\x86\\xb38\\x90\\xc3\\x83\\x9br\\x1a\\x8e\\xb0\\xf1\\xb7=u\\xe8N\\x80XU\\x13zy03\\xdf\\xfeXh\\xb9\\xef\\xdbq9=>\\x00\\x9ao\\xbf\\xbc\\xb9\",\n",
       "               'point': <Crypto.PublicKey.ECC.EccPoint at 0x7f6b812125c0>,\n",
       "               'randomness': 81550652198281941712483559203026265366378569172166804112827222004288662073383,\n",
       "               'merkle_proof': None},\n",
       "              2: {'index': 2,\n",
       "               'hash': 43428754564441986954827764361563084349397251263439998399770763116251701502357,\n",
       "               'data_chunk': b'L\\x14\\xd3\\xd4K&~\\xa6\\xb1\\xb4\\xb1\\x82\\xb7;U{T\\xe2\\x12\\xad\\xfe\\xa4+\\xc2m\\xd8P\\xe4\\x04\\xe6~\\xc0\\x9a\\x1c\\x11i\\x05sN\\x0c3\\xa3Rn2\\x80\\x03\\x079\\x07a[\\xd0\\xf6\\xfe\\xa0J>HP\\x8eZL\\xaf\\xae\\x17\\xce\\xee\\xa1\\x1f\\xd7?\\xe1M\\xa1\\xef\\xd1\\x1fp8\\x9e\\xbba\\x132\\xca\\x0fS\\xb4\\xed',\n",
       "               'point': <Crypto.PublicKey.ECC.EccPoint at 0x7f6b812105b0>,\n",
       "               'randomness': 68271411459762609051564985314243484171486169784786549958086062949631591103490,\n",
       "               'merkle_proof': None},\n",
       "              3: {'index': 3,\n",
       "               'hash': 81860895706473753679429327238006086398140780867362699394887327898589078671606,\n",
       "               'data_chunk': b'\\xaf-\\xeb\\xdf?!\\xde\\x9d\\xb3\\x8d\\xc4\\x80aW\\x8d|o\\xccw\\xe53\\x97:\\xe6\\xf10\\xd9\\xc8\\x1e\\xb9\\xbd\\x7fs\\xaa!{\\xa1/\\x13\\x0eAC\\xbc\\xb5B\\xc0\\xa1G\\xc5\\xe2\\xcf\\xdd\\xeb\\xc8\\xaf\\xc0\\xd6c\\x18\\xf5\\xe8\\x15!\\xb7\\x90\"\"\\xef\\xd8\\xda\\xbfy\\\\JB\\xdb>\\xddT\\x13\\x0f1s\\xfd\\xf0\\xad\\x17\\xe9x\\x90',\n",
       "               'point': <Crypto.PublicKey.ECC.EccPoint at 0x7f6b81211a50>,\n",
       "               'randomness': 21948002413522295330610447863369576020197218464937869635060045187223845362536,\n",
       "               'merkle_proof': None},\n",
       "              4: {'index': 4,\n",
       "               'hash': 54932799278949704721779960325822170579116430589976004134192194970948774422159,\n",
       "               'data_chunk': b'\\xaf\\x87|\\x1b\\x8f\"\\xed\\xe05\\xf4P\\x8e8\\x85\\xb2\\xf2\\xc5\\x04I\\xaa\\x1a93]c\\x02v$\\x98\\xbf\\xf1;}X\\xa5\\xbf\\x9f\\x9f8\\xf5\\xdbe\\xbf\\xb8\\x98@\\xb3PXX\\x94\\xce\\x0e\\x8f\\xc5\\x8b!\\xcf\\x1c8\\xceS\\n\\xa8\\x81\\t&J\\xf6\\x83\\xccSj\\x15\\x162\\xe7\\x9b7\\x17\\tR\\x8a\\x83\\xb0\\xf0+xeF',\n",
       "               'point': <Crypto.PublicKey.ECC.EccPoint at 0x7f6b812114e0>,\n",
       "               'randomness': 111123569479186723717420818444837359301472279742203229018766741046839244605633,\n",
       "               'merkle_proof': None},\n",
       "              5: {'index': 5,\n",
       "               'hash': 58759823136492660437955875546910300593624405420820032876480899369228497557688,\n",
       "               'data_chunk': b'\\x96\\x0eP\\xa2\\x9c\\xd0t\\x14:\\xd2\\x9d\\x85\\x81uk\\x07\\xeb\\xbd_Q\\xbf\\x17<\\x02\\xe0C\\x89\\x94\\xd2\\x05\\xcd2&>\\x91\\x88\\xcb0\\xf1X\\xef/\\x9a\\x80\\xaa\\xab\\x15\\xc3\\xc3M\\x15\\xfd\\xa4\\xafDJ\\xe9E\\xbeA\\xc5\\xc4\\xb3\\x87\\xd1\\x08\\xd7\\t\\xa8[1\\\\}6UG\\xed\\x80Q]HunF\\xae\\xa8\\x01\\x98\\x9e\\xec',\n",
       "               'point': <Crypto.PublicKey.ECC.EccPoint at 0x7f6b81210d00>,\n",
       "               'randomness': 89414787030287347735153962541662876738178162226911838233531622254192223013027,\n",
       "               'merkle_proof': None},\n",
       "              6: {'index': 6,\n",
       "               'hash': 73119078650230209455034795763680039431413071460842408196640294539768309646086,\n",
       "               'data_chunk': b'<)B\\xdb\\xc0\\xc3k\\x8e\\x03i\\xde%w\\xec\\x95\\xde\\xff\\xf4\\\\\\xdf\\xbbQU\\xa2B0\\n\\xc3pl\\x07\\xab\\x8f\\x0f\\x12\\x1b',\n",
       "               'point': <Crypto.PublicKey.ECC.EccPoint at 0x7f6b81210c10>,\n",
       "               'randomness': 74232069414795502288939492586738983900689087478752673768215529146640744311455,\n",
       "               'merkle_proof': None}}),\n",
       " 'merkle_tree': <__main__.MerkleTree at 0x7f6b81213c70>}"
      ]
     },
     "execution_count": 13,
     "metadata": {},
     "output_type": "execute_result"
    }
   ],
   "source": [
    "inner_dict = commitments_E[keys[0]]\n",
    "inner_dict"
   ]
  },
  {
   "cell_type": "code",
   "execution_count": 14,
   "metadata": {},
   "outputs": [],
   "source": [
    "hashes = inner_dict[\"commitments\"][\"hashes\"]\n",
    "assert len(hashes) == len(chunks)"
   ]
  },
  {
   "cell_type": "code",
   "execution_count": 15,
   "metadata": {},
   "outputs": [
    {
     "data": {
      "text/plain": [
       "[5]"
      ]
     },
     "execution_count": 15,
     "metadata": {},
     "output_type": "execute_result"
    }
   ],
   "source": [
    "def get_challenge_indices(num_chunks, factor=0.1):\n",
    "    return random.sample(list(range(num_chunks)), int(1 + num_chunks * factor))\n",
    "\n",
    "ci = challenge_indices = get_challenge_indices(len(chunks))\n",
    "ci"
   ]
  },
  {
   "cell_type": "code",
   "execution_count": 16,
   "metadata": {},
   "outputs": [
    {
     "data": {
      "text/plain": [
       "'b15f3300df9da493f499823cb451ba212de07cafbb6414540ddaa801f0e5ccf3'"
      ]
     },
     "execution_count": 16,
     "metadata": {},
     "output_type": "execute_result"
    }
   ],
   "source": [
    "def get_merkle_root_to_challenge(commitments):\n",
    "    merkle_roots = list(commitments.keys())\n",
    "    return random.choice(merkle_roots)\n",
    "\n",
    "mrc = merkle_root_challenge = get_merkle_root_to_challenge(commitments_E)\n",
    "mrc"
   ]
  },
  {
   "cell_type": "code",
   "execution_count": 17,
   "metadata": {},
   "outputs": [
    {
     "data": {
      "text/plain": [
       "{'b15f3300df9da493f499823cb451ba212de07cafbb6414540ddaa801f0e5ccf3': [{'index': 5,\n",
       "   'hash': 58759823136492660437955875546910300593624405420820032876480899369228497557688,\n",
       "   'data_chunk': b'\\x96\\x0eP\\xa2\\x9c\\xd0t\\x14:\\xd2\\x9d\\x85\\x81uk\\x07\\xeb\\xbd_Q\\xbf\\x17<\\x02\\xe0C\\x89\\x94\\xd2\\x05\\xcd2&>\\x91\\x88\\xcb0\\xf1X\\xef/\\x9a\\x80\\xaa\\xab\\x15\\xc3\\xc3M\\x15\\xfd\\xa4\\xafDJ\\xe9E\\xbeA\\xc5\\xc4\\xb3\\x87\\xd1\\x08\\xd7\\t\\xa8[1\\\\}6UG\\xed\\x80Q]HunF\\xae\\xa8\\x01\\x98\\x9e\\xec',\n",
       "   'point': <Crypto.PublicKey.ECC.EccPoint at 0x7f6b81210d00>,\n",
       "   'randomness': 89414787030287347735153962541662876738178162226911838233531622254192223013027,\n",
       "   'merkle_proof': [{'left': '31383735383838323632343337313031363630343539363136363534363339333833363435313437343634353439303330323632393533373231353036343434323539363332313930313139312c3137353238323738383232343132323837313238393235343533303338393236383038383236323238333339363739303633383230313334393937303438373434303832373331393638353531'},\n",
       "    {'right': '31373933333033343533383932383830303434383439333436353238363130353638353232313738353136383137353731333332353831303433323534393230383830353335373633333234342c3635313833373730393539383232343736323830303531363039393338343834373038323032303931363831303834313932353431313939373937333433353133303733303637353531303836'},\n",
       "    {'left': 'f1301a836e0bf77765849712787d24d3c76262fb4fe2e27f4b348b5df27e34fa'}]}]}"
      ]
     },
     "execution_count": 17,
     "metadata": {},
     "output_type": "execute_result"
    }
   ],
   "source": [
    "responses = []\n",
    "challenge_data = commitments_E[merkle_root_challenge]\n",
    "merkle_tree = challenge_data['merkle_tree']\n",
    "for i in challenge_indices:\n",
    "    challenge_data['commitments'][i]['merkle_proof'] = merkle_tree.get_proof(i)\n",
    "    responses.append(challenge_data['commitments'][i])\n",
    "\n",
    "challenge_response = {merkle_root_challenge: responses}\n",
    "challenge_response"
   ]
  },
  {
   "cell_type": "code",
   "execution_count": 18,
   "metadata": {},
   "outputs": [
    {
     "name": "stdout",
     "output_type": "stream",
     "text": [
      "merkle_root: b15f3300df9da493f499823cb451ba212de07cafbb6414540ddaa801f0e5ccf3\n"
     ]
    },
    {
     "data": {
      "text/plain": [
       "[{'index': 5,\n",
       "  'hash': 58759823136492660437955875546910300593624405420820032876480899369228497557688,\n",
       "  'data_chunk': b'\\x96\\x0eP\\xa2\\x9c\\xd0t\\x14:\\xd2\\x9d\\x85\\x81uk\\x07\\xeb\\xbd_Q\\xbf\\x17<\\x02\\xe0C\\x89\\x94\\xd2\\x05\\xcd2&>\\x91\\x88\\xcb0\\xf1X\\xef/\\x9a\\x80\\xaa\\xab\\x15\\xc3\\xc3M\\x15\\xfd\\xa4\\xafDJ\\xe9E\\xbeA\\xc5\\xc4\\xb3\\x87\\xd1\\x08\\xd7\\t\\xa8[1\\\\}6UG\\xed\\x80Q]HunF\\xae\\xa8\\x01\\x98\\x9e\\xec',\n",
       "  'point': <Crypto.PublicKey.ECC.EccPoint at 0x7f6b81210d00>,\n",
       "  'randomness': 89414787030287347735153962541662876738178162226911838233531622254192223013027,\n",
       "  'merkle_proof': [{'left': '31383735383838323632343337313031363630343539363136363534363339333833363435313437343634353439303330323632393533373231353036343434323539363332313930313139312c3137353238323738383232343132323837313238393235343533303338393236383038383236323238333339363739303633383230313334393937303438373434303832373331393638353531'},\n",
       "   {'right': '31373933333033343533383932383830303434383439333436353238363130353638353232313738353136383137353731333332353831303433323534393230383830353335373633333234342c3635313833373730393539383232343736323830303531363039393338343834373038323032303931363831303834313932353431313939373937333433353133303733303637353531303836'},\n",
       "   {'left': 'f1301a836e0bf77765849712787d24d3c76262fb4fe2e27f4b348b5df27e34fa'}]}]"
      ]
     },
     "execution_count": 18,
     "metadata": {},
     "output_type": "execute_result"
    }
   ],
   "source": [
    "merkle_root = list(challenge_response.keys())[0]\n",
    "commitments = challenge_response[merkle_root]\n",
    "print(\"merkle_root:\", merkle_root)\n",
    "commitments"
   ]
  },
  {
   "cell_type": "code",
   "execution_count": 19,
   "metadata": {},
   "outputs": [
    {
     "data": {
      "text/plain": [
       "1"
      ]
     },
     "execution_count": 19,
     "metadata": {},
     "output_type": "execute_result"
    }
   ],
   "source": [
    "len(commitments)"
   ]
  },
  {
   "cell_type": "code",
   "execution_count": 20,
   "metadata": {},
   "outputs": [
    {
     "data": {
      "text/plain": [
       "{'index': 5,\n",
       " 'hash': 58759823136492660437955875546910300593624405420820032876480899369228497557688,\n",
       " 'data_chunk': b'\\x96\\x0eP\\xa2\\x9c\\xd0t\\x14:\\xd2\\x9d\\x85\\x81uk\\x07\\xeb\\xbd_Q\\xbf\\x17<\\x02\\xe0C\\x89\\x94\\xd2\\x05\\xcd2&>\\x91\\x88\\xcb0\\xf1X\\xef/\\x9a\\x80\\xaa\\xab\\x15\\xc3\\xc3M\\x15\\xfd\\xa4\\xafDJ\\xe9E\\xbeA\\xc5\\xc4\\xb3\\x87\\xd1\\x08\\xd7\\t\\xa8[1\\\\}6UG\\xed\\x80Q]HunF\\xae\\xa8\\x01\\x98\\x9e\\xec',\n",
       " 'point': <Crypto.PublicKey.ECC.EccPoint at 0x7f6b81210d00>,\n",
       " 'randomness': 89414787030287347735153962541662876738178162226911838233531622254192223013027,\n",
       " 'merkle_proof': [{'left': '31383735383838323632343337313031363630343539363136363534363339333833363435313437343634353439303330323632393533373231353036343434323539363332313930313139312c3137353238323738383232343132323837313238393235343533303338393236383038383236323238333339363739303633383230313334393937303438373434303832373331393638353531'},\n",
       "  {'right': '31373933333033343533383932383830303434383439333436353238363130353638353232313738353136383137353731333332353831303433323534393230383830353335373633333234342c3635313833373730393539383232343736323830303531363039393338343834373038323032303931363831303834313932353431313939373937333433353133303733303637353531303836'},\n",
       "  {'left': 'f1301a836e0bf77765849712787d24d3c76262fb4fe2e27f4b348b5df27e34fa'}]}"
      ]
     },
     "execution_count": 20,
     "metadata": {},
     "output_type": "execute_result"
    }
   ],
   "source": [
    "commitment_i = commitments[0]\n",
    "commitment_i"
   ]
  },
  {
   "cell_type": "code",
   "execution_count": 21,
   "metadata": {},
   "outputs": [
    {
     "data": {
      "text/plain": [
       "[{'left': '31383735383838323632343337313031363630343539363136363534363339333833363435313437343634353439303330323632393533373231353036343434323539363332313930313139312c3137353238323738383232343132323837313238393235343533303338393236383038383236323238333339363739303633383230313334393937303438373434303832373331393638353531'},\n",
       " {'right': '31373933333033343533383932383830303434383439333436353238363130353638353232313738353136383137353731333332353831303433323534393230383830353335373633333234342c3635313833373730393539383232343736323830303531363039393338343834373038323032303931363831303834313932353431313939373937333433353133303733303637353531303836'},\n",
       " {'left': 'f1301a836e0bf77765849712787d24d3c76262fb4fe2e27f4b348b5df27e34fa'}]"
      ]
     },
     "execution_count": 21,
     "metadata": {},
     "output_type": "execute_result"
    }
   ],
   "source": [
    "merkle_proof_i = commitments[0]['merkle_proof']\n",
    "merkle_proof_i"
   ]
  },
  {
   "cell_type": "code",
   "execution_count": 22,
   "metadata": {},
   "outputs": [
    {
     "data": {
      "text/plain": [
       "{'index': 5,\n",
       " 'hash': 58759823136492660437955875546910300593624405420820032876480899369228497557688,\n",
       " 'data_chunk': b'\\x96\\x0eP\\xa2\\x9c\\xd0t\\x14:\\xd2\\x9d\\x85\\x81uk\\x07\\xeb\\xbd_Q\\xbf\\x17<\\x02\\xe0C\\x89\\x94\\xd2\\x05\\xcd2&>\\x91\\x88\\xcb0\\xf1X\\xef/\\x9a\\x80\\xaa\\xab\\x15\\xc3\\xc3M\\x15\\xfd\\xa4\\xafDJ\\xe9E\\xbeA\\xc5\\xc4\\xb3\\x87\\xd1\\x08\\xd7\\t\\xa8[1\\\\}6UG\\xed\\x80Q]HunF\\xae\\xa8\\x01\\x98\\x9e\\xec',\n",
       " 'point': <Crypto.PublicKey.ECC.EccPoint at 0x7f6b81210d00>,\n",
       " 'randomness': 89414787030287347735153962541662876738178162226911838233531622254192223013027,\n",
       " 'merkle_proof': [{'left': '31383735383838323632343337313031363630343539363136363534363339333833363435313437343634353439303330323632393533373231353036343434323539363332313930313139312c3137353238323738383232343132323837313238393235343533303338393236383038383236323238333339363739303633383230313334393937303438373434303832373331393638353531'},\n",
       "  {'right': '31373933333033343533383932383830303434383439333436353238363130353638353232313738353136383137353731333332353831303433323534393230383830353335373633333234342c3635313833373730393539383232343736323830303531363039393338343834373038323032303931363831303834313932353431313939373937333433353133303733303637353531303836'},\n",
       "  {'left': 'f1301a836e0bf77765849712787d24d3c76262fb4fe2e27f4b348b5df27e34fa'}]}"
      ]
     },
     "execution_count": 22,
     "metadata": {},
     "output_type": "execute_result"
    }
   ],
   "source": [
    "commitments[0]"
   ]
  },
  {
   "cell_type": "code",
   "execution_count": 23,
   "metadata": {},
   "outputs": [
    {
     "name": "stdout",
     "output_type": "stream",
     "text": [
      "\n",
      "Opening: Hashed Value = 58759823136492660437955875546910300593624405420820032876480899369228497557688\n",
      "Random Value = 89414787030287347735153962541662876738178162226911838233531622254192223013027\n",
      "Recomputed Commitment = <Crypto.PublicKey.ECC.EccPoint object at 0x7f6b81210e50>\n",
      "Original Commitment = <Crypto.PublicKey.ECC.EccPoint object at 0x7f6b81210d00>\n"
     ]
    }
   ],
   "source": [
    "for commitment_i in commitments:\n",
    "    index = commitment_i['index']\n",
    "    commitment = commitment_i['point']\n",
    "    data = commitment_i['data_chunk']\n",
    "    r = commitment_i['randomness']\n",
    "    merkle_proof_i = commitment_i['merkle_proof']\n",
    "\n",
    "    if not committer.open(commitment, hash_data(data), r):\n",
    "        print(f\"Opening commitment {index} failed\")\n",
    "\n",
    "    if not validate_merkle_proof(\n",
    "        merkle_proof_i, ecc_point_to_hex(commitment_i['point']), merkle_root\n",
    "    ):\n",
    "        print(f\"Merkle proof {index} validation failed\")"
   ]
  },
  {
   "cell_type": "code",
   "execution_count": 24,
   "metadata": {},
   "outputs": [],
   "source": [
    "def verify(committer, commitments, merkle_root):\n",
    "    for commitment_i in commitments:\n",
    "        index = commitment_i['index']\n",
    "        commitment = commitment_i['point']\n",
    "        data = commitment_i['data_chunk']\n",
    "        r = commitment_i['randomness']\n",
    "        merkle_proof_i = commitment_i['merkle_proof']\n",
    "\n",
    "        if not committer.open(commitment, hash_data(data), r):\n",
    "            print(f\"Opening commitment {index} failed\")\n",
    "            return False\n",
    "\n",
    "        if not validate_merkle_proof(\n",
    "            merkle_proof_i, ecc_point_to_hex(commitment_i['point']), merkle_root\n",
    "        ):\n",
    "            print(f\"Merkle proof {index} validation failed\")\n",
    "            return False\n",
    "\n",
    "    return True"
   ]
  },
  {
   "cell_type": "code",
   "execution_count": 25,
   "metadata": {},
   "outputs": [
    {
     "name": "stdout",
     "output_type": "stream",
     "text": [
      "\n",
      "Opening: Hashed Value = 58759823136492660437955875546910300593624405420820032876480899369228497557688\n",
      "Random Value = 89414787030287347735153962541662876738178162226911838233531622254192223013027\n",
      "Recomputed Commitment = <Crypto.PublicKey.ECC.EccPoint object at 0x7f6b81211cc0>\n",
      "Original Commitment = <Crypto.PublicKey.ECC.EccPoint object at 0x7f6b81210d00>\n"
     ]
    },
    {
     "data": {
      "text/plain": [
       "True"
      ]
     },
     "execution_count": 25,
     "metadata": {},
     "output_type": "execute_result"
    }
   ],
   "source": [
    "verify(committer, commitments, merkle_root)"
   ]
  },
  {
   "cell_type": "code",
   "execution_count": 31,
   "metadata": {},
   "outputs": [
    {
     "name": "stdout",
     "output_type": "stream",
     "text": [
      "Committing: Data = b'\\x96\\x0eP\\xa2\\x9c\\xd0t\\x14:\\xd2\\x9d\\x85\\x81uk\\x07\\xeb\\xbd_Q\\xbf\\x17<\\x02\\xe0C\\x89\\x94\\xd2\\x05\\xcd2&>\\x91\\x88\\xcb0\\xf1X\\xef/\\x9a\\x80\\xaa\\xab\\x15\\xc3\\xc3M\\x15\\xfd\\xa4\\xafDJ\\xe9E\\xbeA\\xc5\\xc4\\xb3\\x87\\xd1\\x08\\xd7\\t\\xa8[1\\\\}6UG\\xed\\x80Q]HunF\\xae\\xa8\\x01\\x98\\x9e\\xec'\n",
      "Hashed Value = 58759823136492660437955875546910300593624405420820032876480899369228497557688\n",
      "Random Value = 39709856185307719836227206246681288794464590277289443003111865814609719469406\n",
      "Computed Commitment = <Crypto.PublicKey.ECC.EccPoint object at 0x7f6b80f83070>\n",
      "\n",
      "new_merkle_root: dcb77c6f959032000abbfb616a16d89576851f3fcce2eea9f043d587e5a072d0\n"
     ]
    },
    {
     "data": {
      "text/plain": [
       "{5: {'commitment': <Crypto.PublicKey.ECC.EccPoint at 0x7f6b80f83070>,\n",
       "  'random_vals': 39709856185307719836227206246681288794464590277289443003111865814609719469406}}"
      ]
     },
     "execution_count": 31,
     "metadata": {},
     "output_type": "execute_result"
    }
   ],
   "source": [
    "def recommit_data(committer, challenge_indices, merkle_tree, data):\n",
    "    new_commitments = {}\n",
    "    for i in challenge_indices:\n",
    "        c, m_val, r = committer.commit(data[i])\n",
    "        new_commitments[i] = {\n",
    "            \"commitment\": c,\n",
    "            \"random_vals\": r\n",
    "        }\n",
    "        merkle_tree.update_leaf(i, ecc_point_to_hex(c))\n",
    "    new_merkle_root = merkle_tree.get_merkle_root()\n",
    "    return new_merkle_root, new_commitments\n",
    "\n",
    "new_merkle_root, new_commitments = recommit_data(committer, challenge_indices, merkle_tree, chunks)\n",
    "print(\"new_merkle_root:\", new_merkle_root)\n",
    "new_commitments"
   ]
  },
  {
   "cell_type": "code",
   "execution_count": 34,
   "metadata": {},
   "outputs": [
    {
     "name": "stdout",
     "output_type": "stream",
     "text": [
      "Committing: Data = b'\\x96\\x0eP\\xa2\\x9c\\xd0t\\x14:\\xd2\\x9d\\x85\\x81uk\\x07\\xeb\\xbd_Q\\xbf\\x17<\\x02\\xe0C\\x89\\x94\\xd2\\x05\\xcd2&>\\x91\\x88\\xcb0\\xf1X\\xef/\\x9a\\x80\\xaa\\xab\\x15\\xc3\\xc3M\\x15\\xfd\\xa4\\xafDJ\\xe9E\\xbeA\\xc5\\xc4\\xb3\\x87\\xd1\\x08\\xd7\\t\\xa8[1\\\\}6UG\\xed\\x80Q]HunF\\xae\\xa8\\x01\\x98\\x9e\\xec'\n",
      "Hashed Value = 58759823136492660437955875546910300593624405420820032876480899369228497557688\n",
      "Random Value = 54812417033580816286149853050786078707957688766681092235687675287123461770141\n",
      "Computed Commitment = <Crypto.PublicKey.ECC.EccPoint object at 0x7f6b80f46aa0>\n",
      "\n",
      "new_merkle_root: 2036d3eaabf9dd4b94b9bff504f923c53059a354b202e51d25865864ae991021\n"
     ]
    },
    {
     "data": {
      "text/plain": [
       "[{'index': 5,\n",
       "  'hash': 24937984349728792724423481539765211658033397470603861219919190764465445669713,\n",
       "  'data_chunk': b'\\x96\\x0eP\\xa2\\x9c\\xd0t\\x14:\\xd2\\x9d\\x85\\x81uk\\x07\\xeb\\xbd_Q\\xbf\\x17<\\x02\\xe0C\\x89\\x94\\xd2\\x05\\xcd2&>\\x91\\x88\\xcb0\\xf1X\\xef/\\x9a\\x80\\xaa\\xab\\x15\\xc3\\xc3M\\x15\\xfd\\xa4\\xafDJ\\xe9E\\xbeA\\xc5\\xc4\\xb3\\x87\\xd1\\x08\\xd7\\t\\xa8[1\\\\}6UG\\xed\\x80Q]HunF\\xae\\xa8\\x01\\x98\\x9e\\xec',\n",
       "  'point': <Crypto.PublicKey.ECC.EccPoint at 0x7f6b80f46aa0>,\n",
       "  'randomness': 54812417033580816286149853050786078707957688766681092235687675287123461770141,\n",
       "  'merkle_proof': None}]"
      ]
     },
     "execution_count": 34,
     "metadata": {},
     "output_type": "execute_result"
    }
   ],
   "source": [
    "def recommit_data(committer, challenge_indices, merkle_tree, data):\n",
    "    # new_commitments = {}\n",
    "    new_commitments = []\n",
    "    for i in challenge_indices:\n",
    "        c, m_val, r = committer.commit(data[i])\n",
    "        commitment_hash = hash_data(ecc_point_to_hex(c)) # Assuming a hash_function is available.\n",
    "        new_commitments.append( {\n",
    "            \"index\": i,\n",
    "            \"hash\": commitment_hash,\n",
    "            \"data_chunk\": data[i],\n",
    "            \"point\": c,\n",
    "            \"randomness\": r,\n",
    "            \"merkle_proof\": None\n",
    "        })\n",
    "        merkle_tree.update_leaf(i, ecc_point_to_hex(c))\n",
    "    new_merkle_root = merkle_tree.get_merkle_root()\n",
    "    return new_merkle_root, new_commitments\n",
    "\n",
    "new_merkle_root, new_commitments = recommit_data(committer, challenge_indices, merkle_tree, chunks)\n",
    "print(\"new_merkle_root:\", new_merkle_root)\n",
    "new_commitments"
   ]
  },
  {
   "cell_type": "code",
   "execution_count": 38,
   "metadata": {},
   "outputs": [
    {
     "data": {
      "text/plain": [
       "[{'left': '31383735383838323632343337313031363630343539363136363534363339333833363435313437343634353439303330323632393533373231353036343434323539363332313930313139312c3137353238323738383232343132323837313238393235343533303338393236383038383236323238333339363739303633383230313334393937303438373434303832373331393638353531'},\n",
       " {'right': '31373933333033343533383932383830303434383439333436353238363130353638353232313738353136383137353731333332353831303433323534393230383830353335373633333234342c3635313833373730393539383232343736323830303531363039393338343834373038323032303931363831303834313932353431313939373937333433353133303733303637353531303836'},\n",
       " {'left': 'f1301a836e0bf77765849712787d24d3c76262fb4fe2e27f4b348b5df27e34fa'}]"
      ]
     },
     "execution_count": 38,
     "metadata": {},
     "output_type": "execute_result"
    }
   ],
   "source": [
    "# Generate merkle proof for updated indices\n",
    "for nc in new_commitments:\n",
    "    nc['merkle_proof'] = merkle_tree.get_proof(nc['index'])\n",
    "nc['merkle_proof']"
   ]
  },
  {
   "cell_type": "code",
   "execution_count": 39,
   "metadata": {},
   "outputs": [
    {
     "name": "stdout",
     "output_type": "stream",
     "text": [
      "\n",
      "Opening: Hashed Value = 58759823136492660437955875546910300593624405420820032876480899369228497557688\n",
      "Random Value = 54812417033580816286149853050786078707957688766681092235687675287123461770141\n",
      "Recomputed Commitment = <Crypto.PublicKey.ECC.EccPoint object at 0x7f6b80f6cd60>\n",
      "Original Commitment = <Crypto.PublicKey.ECC.EccPoint object at 0x7f6b80f46aa0>\n"
     ]
    },
    {
     "data": {
      "text/plain": [
       "True"
      ]
     },
     "execution_count": 39,
     "metadata": {},
     "output_type": "execute_result"
    }
   ],
   "source": [
    "# Reverify new commitments to make sure we're solid\n",
    "verify(committer, new_commitments, new_merkle_root)"
   ]
  },
  {
   "cell_type": "code",
   "execution_count": 29,
   "metadata": {},
   "outputs": [],
   "source": [
    "# NOTE:\n",
    "# The hash of the full data object should be used for storage location/lookup\n",
    "# The merkle tree root will keep updating each round so it's not a good idea to use that\n",
    "# otherwise we will keep moving the data around in the big-ass merkle tree or database (GUN)"
   ]
  },
  {
   "cell_type": "code",
   "execution_count": null,
   "metadata": {},
   "outputs": [],
   "source": []
  }
 ],
 "metadata": {
  "kernelspec": {
   "display_name": "master",
   "language": "python",
   "name": "python3"
  },
  "language_info": {
   "codemirror_mode": {
    "name": "ipython",
    "version": 3
   },
   "file_extension": ".py",
   "mimetype": "text/x-python",
   "name": "python",
   "nbconvert_exporter": "python",
   "pygments_lexer": "ipython3",
   "version": "3.10.13"
  }
 },
 "nbformat": 4,
 "nbformat_minor": 2
}
