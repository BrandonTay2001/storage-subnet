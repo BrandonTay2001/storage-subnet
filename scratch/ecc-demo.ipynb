{
 "cells": [
  {
   "cell_type": "code",
   "execution_count": 26,
   "metadata": {},
   "outputs": [],
   "source": [
    "import bittensor as bt\n",
    "import random\n",
    "import os\n",
    "import sys\n",
    "import numpy as np\n",
    "import pandas as pd\n",
    "import hashlib\n",
    "from collections import defaultdict\n",
    "from Crypto import Random\n",
    "from Crypto.Random import random\n",
    "from Crypto.PublicKey import ECC\n",
    "from Crypto.Cipher import AES\n",
    "from Crypto.Random import get_random_bytes\n",
    "from pprint import pprint, pformat\n",
    "import binascii\n"
   ]
  },
  {
   "cell_type": "code",
   "execution_count": 27,
   "metadata": {},
   "outputs": [],
   "source": [
    "class ECCommitment:\n",
    "    def __init__(self, g, h):\n",
    "        self.g = g  # Base point of the curve\n",
    "        self.h = h  # Another random point on the curve\n",
    "\n",
    "    def commit(self, m):  # AKA Seal.\n",
    "        m_val = hash_data(m)  # Compute hash of the data\n",
    "        r = random.randint(1, 2**256)\n",
    "        c1 = self.g.__mul__(m_val)\n",
    "        c2 = self.h.__mul__(r)\n",
    "        c = c1.__add__(c2)\n",
    "        print(\n",
    "            f\"Committing: Data = {m}\\nHashed Value = {m_val}\\nRandom Value = {r}\\nComputed Commitment = {c}\\n\"\n",
    "        )\n",
    "        return c, m_val, r\n",
    "\n",
    "    def open(self, c, m_val, r):\n",
    "        c1 = self.g.__mul__(m_val)\n",
    "        c2 = self.h.__mul__(r)\n",
    "        computed_c = c1.__add__(c2)\n",
    "        print(\n",
    "            f\"\\nOpening: Hashed Value = {m_val}\\nRandom Value = {r}\\nRecomputed Commitment = {computed_c}\\nOriginal Commitment = {c}\"\n",
    "        )\n",
    "        return computed_c == c\n",
    "\n",
    "\n",
    "def setup_CRS():\n",
    "    curve = ECC.generate(curve=\"P-256\")\n",
    "    g = curve.pointQ  # Base point\n",
    "    h = ECC.generate(curve=\"P-256\").pointQ  # Another random point\n",
    "    return g, h\n"
   ]
  },
  {
   "cell_type": "code",
   "execution_count": 28,
   "metadata": {},
   "outputs": [
    {
     "name": "stdout",
     "output_type": "stream",
     "text": [
      "g: <Crypto.PublicKey.ECC.EccPoint object at 0x7ff556fa1d80>\n",
      "h: <Crypto.PublicKey.ECC.EccPoint object at 0x7ff556fa33a0>\n"
     ]
    }
   ],
   "source": [
    "g, h = setup_CRS()\n",
    "print(\"g:\", g)\n",
    "print(\"h:\", h)"
   ]
  },
  {
   "cell_type": "code",
   "execution_count": 29,
   "metadata": {},
   "outputs": [
    {
     "data": {
      "text/plain": [
       "369"
      ]
     },
     "execution_count": 29,
     "metadata": {},
     "output_type": "execute_result"
    }
   ],
   "source": [
    "def make_random_file(name=None, maxsize=1024):\n",
    "    size = random.randint(32, maxsize)\n",
    "    data = os.urandom(size)\n",
    "    if isinstance(name, str):\n",
    "        with open(name, \"wb\") as fout:\n",
    "            fout.write(data)\n",
    "    else:\n",
    "        return data\n",
    "\n",
    "f = random_file = make_random_file()\n",
    "len(f)"
   ]
  },
  {
   "cell_type": "code",
   "execution_count": 30,
   "metadata": {},
   "outputs": [
    {
     "data": {
      "text/plain": [
       "b'\\x8c\\x00\\x9c[\\xd3\\x84\\xe9\\xd9\\xf6\\x1a\\x98\\xb7\\xcb\\xc9\\xb9\\x0c9\\x03L\\xad\\x1f\\xd3\\xba[\\x96\\x17\\xb1\\xa3\\x93\\xde\\xd1\\xf2\\xfdy\\xb3\\xd5a(\\xdd\\xeb3D\\xc5C\\xfcLc\\xd8d\\x9d\\x86O-A\\x19\\xbe\\xe6On\\x83\\x1cUT\\xb4\\x12\\x8c\\xfdQ{\\x98\\xec3\\xd2\\xbe\\xd9\\xc4\\xcc]\\xff{,\\x00\\x80\\'\\x87\\x86b \\x14\\xc6ZAl\\xceC\\xc6\\x9d\\x81\\xfa\\xd6\\x1fH\\x0f#O\\x84\\x93\\xb1\\xd4\\x87\\xe8\\x85a\\xfd\\x99-\\xdd\\xeak\\xa0\\xaf\\x12\\xd2A\\x15\\\\\\x92*\\x99\\xb2>\\xb4\\x14\\x14C\\x122\\xe0\\xe6\\xf6s\\x8f\\xc4K\\x92:\\xf8f\\x92\\x87\\xfd\\x8eM\\xfdd\"z\\xbb\\xb9-\\x9b\\x15\\xa1\\xee\\x12\\x1d\\xc4i 5\\xe8\\x1a\\x9b/\\xd4\\xaeC+&\\x85\\xcf\"!(SMB\\xca=\\xc1\\xa4h\\xdak$)\\xf2-#\\xb9;\\x00\\xff\\xd6I\\xa4\\xa5\\xc8\\xf9\\x9e\\x87kx\\xb1\\xa2\\xdf\\x93\\xcf\\xf4\\x8f5BP\\xb5\\x1cc\\x11\\x88!%\\x0cs\\xabp2\\n,;\\xccu\\xe3\\xf0\\xb6\\xea\\xa0F02t\\x92t\\x94\\xa7kj\\x8f\\xe0\\x83\\xc3\\x88\\\\5\\x8e\\x89J\\xec\\x0b;})6\\xa1W\"R\\x95#2\\xab\\xd8\\x01\\xdf\\xe8X\\xb3!\\t\\xff\\xec\"\\xaam\\x18\\x00\\x87f\\xac9\\x907\\xab-\\xb3\\x1a\\x15E\\xfb\\x82\\xd8L\\'\\x16\\xda\\xb8\\xb1f\\xe7lMw\\x01\\xbb\\x00S\\x83\\xeb\\xa0\\x8c\\xff3=\\xf5\\xd5A\\x17\\xc78\\x11\\xdb\\x90=f\\x0bC1\\xec6\\x0b<\\xa4\\x99lXIS\\xe5\\n\\xdb\\x94\\x90F\\xbccs\\n\\x1e\\x1d\\x81l'"
      ]
     },
     "execution_count": 30,
     "metadata": {},
     "output_type": "execute_result"
    }
   ],
   "source": [
    "def encrypt_data(filename, key):\n",
    "    \"\"\"\n",
    "    Encrypt the data in the given filename using AES-GCM.\n",
    "\n",
    "    Parameters:\n",
    "    - filename: str or bytes. If str, it's considered as a file name. If bytes, as the data itself.\n",
    "    - key: bytes. 16-byte (128-bit), 24-byte (192-bit), or 32-byte (256-bit) secret key.\n",
    "\n",
    "    Returns:\n",
    "    - cipher_text: bytes. The encrypted data.\n",
    "    - nonce: bytes. The nonce used for the GCM mode.\n",
    "    - tag: bytes. The tag for authentication.\n",
    "    \"\"\"\n",
    "\n",
    "    # If filename is a string, treat it as a file name and read the data\n",
    "    if isinstance(filename, str):\n",
    "        with open(filename, \"rb\") as file:\n",
    "            data = file.read()\n",
    "    else:\n",
    "        data = filename\n",
    "\n",
    "    # Initialize AES-GCM cipher\n",
    "    cipher = AES.new(key, AES.MODE_GCM)\n",
    "    \n",
    "    # Encrypt the data\n",
    "    cipher_text, tag = cipher.encrypt_and_digest(data)\n",
    "\n",
    "    return cipher_text, cipher.nonce, tag\n",
    "\n",
    "# Example usage\n",
    "key = get_random_bytes(32)  # 256-bit key\n",
    "encrypted_data, nonce, tag = encrypt_data(random_file, key)\n",
    "encrypted_data"
   ]
  },
  {
   "cell_type": "code",
   "execution_count": 31,
   "metadata": {},
   "outputs": [
    {
     "data": {
      "text/plain": [
       "103840597209884809975283021825466613051704358558676079751266779814020477816203"
      ]
     },
     "execution_count": 31,
     "metadata": {},
     "output_type": "execute_result"
    }
   ],
   "source": [
    "# Hash encrypted data E with SHA3-256 (args: encrypted data E) to get hash H\n",
    "def hash_data(data):\n",
    "    if not isinstance(data, (bytes, bytearray)):\n",
    "        data_str = str(data)\n",
    "        data = data_str.encode()\n",
    "    h = hashlib.sha3_256(data).hexdigest()\n",
    "    return int(h, 16)\n",
    "\n",
    "H = hash_data(encrypted_data)\n",
    "H"
   ]
  },
  {
   "cell_type": "code",
   "execution_count": 32,
   "metadata": {},
   "outputs": [
    {
     "name": "stdout",
     "output_type": "stream",
     "text": [
      "bytesize: 402\n",
      "chunksize: 32\n"
     ]
    }
   ],
   "source": [
    "# Determine a random chunksize between 2kb-128kb (random sample from this range) store as chunksize_E\n",
    "def get_random_chunksize(maxsize=128):\n",
    "    return random.randint(2, maxsize)\n",
    "\n",
    "bytesize = sys.getsizeof(encrypted_data)\n",
    "print(\"bytesize:\", bytesize)\n",
    "chunksize = get_random_chunksize(bytesize // 4)\n",
    "print(\"chunksize:\", chunksize)"
   ]
  },
  {
   "cell_type": "code",
   "execution_count": 33,
   "metadata": {},
   "outputs": [
    {
     "name": "stdout",
     "output_type": "stream",
     "text": [
      "n chunks: 12\n",
      "('chunks: '\n",
      " \"[b'\\\\x8c\\\\x00\\\\x9c[\\\\xd3\\\\x84\\\\xe9\\\\xd9\\\\xf6\\\\x1a\\\\x98\\\\xb7\\\\xcb\\\\xc9\\\\xb9\\\\x0c9\\\\x03L\\\\xad\\\\x1f\\\\xd3\\\\xba[\\\\x96\\\\x17\\\\xb1\\\\xa3\\\\x93\\\\xde\\\\xd1\\\\xf2', \"\n",
      " \"b'\\\\xfdy\\\\xb3\\\\xd5a(\\\\xdd\\\\xeb3D\\\\xc5C\\\\xfcLc\\\\xd8d\\\\x9d\\\\x86O-A\\\\x19\\\\xbe\\\\xe6On\\\\x83\\\\x1cUT\\\\xb4', \"\n",
      " 'b\"\\\\x12\\\\x8c\\\\xfdQ{\\\\x98\\\\xec3\\\\xd2\\\\xbe\\\\xd9\\\\xc4\\\\xcc]\\\\xff{,\\\\x00\\\\x80\\'\\\\x87\\\\x86b '\n",
      " '\\\\x14\\\\xc6ZAl\\\\xceC\\\\xc6\", '\n",
      " \"b'\\\\x9d\\\\x81\\\\xfa\\\\xd6\\\\x1fH\\\\x0f#O\\\\x84\\\\x93\\\\xb1\\\\xd4\\\\x87\\\\xe8\\\\x85a\\\\xfd\\\\x99-\\\\xdd\\\\xeak\\\\xa0\\\\xaf\\\\x12\\\\xd2A\\\\x15\\\\\\\\\\\\x92*', \"\n",
      " 'b\\'\\\\x99\\\\xb2>\\\\xb4\\\\x14\\\\x14C\\\\x122\\\\xe0\\\\xe6\\\\xf6s\\\\x8f\\\\xc4K\\\\x92:\\\\xf8f\\\\x92\\\\x87\\\\xfd\\\\x8eM\\\\xfdd\"z\\\\xbb\\\\xb9-\\', '\n",
      " \"b'\\\\x9b\\\\x15\\\\xa1\\\\xee\\\\x12\\\\x1d\\\\xc4i \"\n",
      " '5\\\\xe8\\\\x1a\\\\x9b/\\\\xd4\\\\xaeC+&\\\\x85\\\\xcf\"!(SMB\\\\xca=\\\\xc1\\\\xa4h\\', '\n",
      " \"b'\\\\xdak$)\\\\xf2-#\\\\xb9;\\\\x00\\\\xff\\\\xd6I\\\\xa4\\\\xa5\\\\xc8\\\\xf9\\\\x9e\\\\x87kx\\\\xb1\\\\xa2\\\\xdf\\\\x93\\\\xcf\\\\xf4\\\\x8f5BP\\\\xb5', \"\n",
      " \"b'\\\\x1cc\\\\x11\\\\x88!%\\\\x0cs\\\\xabp2\\\\n,;\\\\xccu\\\\xe3\\\\xf0\\\\xb6\\\\xea\\\\xa0F02t\\\\x92t\\\\x94\\\\xa7kj\\\\x8f', \"\n",
      " 'b\\'\\\\xe0\\\\x83\\\\xc3\\\\x88\\\\\\\\5\\\\x8e\\\\x89J\\\\xec\\\\x0b;})6\\\\xa1W\"R\\\\x95#2\\\\xab\\\\xd8\\\\x01\\\\xdf\\\\xe8X\\\\xb3!\\\\t\\\\xff\\', '\n",
      " 'b\\'\\\\xec\"\\\\xaam\\\\x18\\\\x00\\\\x87f\\\\xac9\\\\x907\\\\xab-\\\\xb3\\\\x1a\\\\x15E\\\\xfb\\\\x82\\\\xd8L\\\\\\'\\\\x16\\\\xda\\\\xb8\\\\xb1f\\\\xe7lMw\\', '\n",
      " \"b'\\\\x01\\\\xbb\\\\x00S\\\\x83\\\\xeb\\\\xa0\\\\x8c\\\\xff3=\\\\xf5\\\\xd5A\\\\x17\\\\xc78\\\\x11\\\\xdb\\\\x90=f\\\\x0bC1\\\\xec6\\\\x0b<\\\\xa4\\\\x99l', \"\n",
      " \"b'XIS\\\\xe5\\\\n\\\\xdb\\\\x94\\\\x90F\\\\xbccs\\\\n\\\\x1e\\\\x1d\\\\x81l']\")\n"
     ]
    }
   ],
   "source": [
    "def chunk_data(data, chunksize: int):\n",
    "    for i in range(0, len(data), chunksize):\n",
    "        yield data[i : i + chunksize]\n",
    "\n",
    "chunks = list(chunk_data(encrypted_data, chunksize))\n",
    "print(\"n chunks:\", len(chunks))\n",
    "pprint(f\"chunks: {chunks}\")"
   ]
  },
  {
   "cell_type": "code",
   "execution_count": 34,
   "metadata": {},
   "outputs": [
    {
     "data": {
      "text/plain": [
       "<__main__.ECCommitment at 0x7ff556fa1ea0>"
      ]
     },
     "execution_count": 34,
     "metadata": {},
     "output_type": "execute_result"
    }
   ],
   "source": [
    "committer = ECCommitment(g, h)\n",
    "committer"
   ]
  },
  {
   "cell_type": "code",
   "execution_count": 35,
   "metadata": {},
   "outputs": [],
   "source": [
    "class MerkleTree(object):\n",
    "    def __init__(self, hash_type=\"sha3_256\"):\n",
    "        hash_type = hash_type.lower()\n",
    "        if hash_type in [\n",
    "            \"sha256\",\n",
    "            \"sha224\",\n",
    "            \"sha384\",\n",
    "            \"sha512\",\n",
    "            \"sha3_256\",\n",
    "            \"sha3_224\",\n",
    "            \"sha3_384\",\n",
    "            \"sha3_512\",\n",
    "        ]:\n",
    "            self.hash_function = getattr(hashlib, hash_type)\n",
    "        else:\n",
    "            raise Exception(\"`hash_type` {} nor supported\".format(hash_type))\n",
    "\n",
    "        self.reset_tree()\n",
    "\n",
    "    def _to_hex(self, x):\n",
    "        try:  # python3\n",
    "            return x.hex()\n",
    "        except:  # python2\n",
    "            return binascii.hexlify(x)\n",
    "\n",
    "    def reset_tree(self):\n",
    "        self.leaves = list()\n",
    "        self.levels = None\n",
    "        self.is_ready = False\n",
    "\n",
    "    def add_leaf(self, values, do_hash=False):\n",
    "        self.is_ready = False\n",
    "        # check if single leaf\n",
    "        if not isinstance(values, tuple) and not isinstance(values, list):\n",
    "            values = [values]\n",
    "        for v in values:\n",
    "            if do_hash:\n",
    "                v = v.encode(\"utf-8\")\n",
    "                v = self.hash_function(v).hexdigest()\n",
    "            v = bytearray.fromhex(v)\n",
    "            self.leaves.append(v)\n",
    "\n",
    "    def get_leaf(self, index):\n",
    "        return self._to_hex(self.leaves[index])\n",
    "\n",
    "    def get_leaf_count(self):\n",
    "        return len(self.leaves)\n",
    "\n",
    "    def get_tree_ready_state(self):\n",
    "        return self.is_ready\n",
    "\n",
    "    def _calculate_next_level(self):\n",
    "        solo_leave = None\n",
    "        N = len(self.levels[0])  # number of leaves on the level\n",
    "        if N % 2 == 1:  # if odd number of leaves on the level\n",
    "            solo_leave = self.levels[0][-1]\n",
    "            N -= 1\n",
    "\n",
    "        new_level = []\n",
    "        for l, r in zip(self.levels[0][0:N:2], self.levels[0][1:N:2]):\n",
    "            new_level.append(self.hash_function(l + r).digest())\n",
    "        if solo_leave is not None:\n",
    "            new_level.append(solo_leave)\n",
    "        self.levels = [\n",
    "            new_level,\n",
    "        ] + self.levels  # prepend new level\n",
    "\n",
    "    def make_tree(self):\n",
    "        self.is_ready = False\n",
    "        if self.get_leaf_count() > 0:\n",
    "            self.levels = [\n",
    "                self.leaves,\n",
    "            ]\n",
    "            while len(self.levels[0]) > 1:\n",
    "                self._calculate_next_level()\n",
    "        self.is_ready = True\n",
    "\n",
    "    def get_merkle_root(self):\n",
    "        if self.is_ready:\n",
    "            if self.levels is not None:\n",
    "                return self._to_hex(self.levels[0][0])\n",
    "            else:\n",
    "                return None\n",
    "        else:\n",
    "            return None\n",
    "\n",
    "    def get_proof(self, index):\n",
    "        if self.levels is None:\n",
    "            return None\n",
    "        elif not self.is_ready or index > len(self.leaves) - 1 or index < 0:\n",
    "            return None\n",
    "        else:\n",
    "            proof = []\n",
    "            for x in range(len(self.levels) - 1, 0, -1):\n",
    "                level_len = len(self.levels[x])\n",
    "                if (index == level_len - 1) and (\n",
    "                    level_len % 2 == 1\n",
    "                ):  # skip if this is an odd end node\n",
    "                    index = int(index / 2.0)\n",
    "                    continue\n",
    "                is_right_node = index % 2\n",
    "                sibling_index = index - 1 if is_right_node else index + 1\n",
    "                sibling_pos = \"left\" if is_right_node else \"right\"\n",
    "                sibling_value = self._to_hex(self.levels[x][sibling_index])\n",
    "                proof.append({sibling_pos: sibling_value})\n",
    "                index = int(index / 2.0)\n",
    "            return proof\n",
    "\n",
    "def validate_merkle_proof(proof, target_hash, merkle_root):\n",
    "    merkle_root = bytearray.fromhex(merkle_root)\n",
    "    target_hash = bytearray.fromhex(target_hash)\n",
    "    if len(proof) == 0:\n",
    "        return target_hash == merkle_root\n",
    "    else:\n",
    "        proof_hash = target_hash\n",
    "        for p in proof:\n",
    "            try:\n",
    "                # the sibling is a left node\n",
    "                sibling = bytearray.fromhex(p[\"left\"])\n",
    "                proof_hash = hashlib.sha3_256(sibling + proof_hash).digest()\n",
    "            except:\n",
    "                # the sibling is a right node\n",
    "                sibling = bytearray.fromhex(p[\"right\"])\n",
    "                proof_hash = hashlib.sha3_256(proof_hash + sibling).digest()\n",
    "        return proof_hash == merkle_root\n"
   ]
  },
  {
   "cell_type": "code",
   "execution_count": 36,
   "metadata": {},
   "outputs": [
    {
     "name": "stdout",
     "output_type": "stream",
     "text": [
      "Committing: Data = b'\\x8c\\x00\\x9c[\\xd3\\x84\\xe9\\xd9\\xf6\\x1a\\x98\\xb7\\xcb\\xc9\\xb9\\x0c9\\x03L\\xad\\x1f\\xd3\\xba[\\x96\\x17\\xb1\\xa3\\x93\\xde\\xd1\\xf2'\n",
      "Hashed Value = 50366001327247683482752636260973803818453526684612359972737906020344372234305\n",
      "Random Value = 75597626110924612833046533695986495499515762785055351061194772398784596778329\n",
      "Computed Commitment = <Crypto.PublicKey.ECC.EccPoint object at 0x7ff5572c2950>\n",
      "\n",
      "Committing: Data = b'\\xfdy\\xb3\\xd5a(\\xdd\\xeb3D\\xc5C\\xfcLc\\xd8d\\x9d\\x86O-A\\x19\\xbe\\xe6On\\x83\\x1cUT\\xb4'\n",
      "Hashed Value = 67868018335286132395530187885642597945614912859475789356043632607036172284368\n",
      "Random Value = 85653675785040475053686274542074563054910376916294442745559007765224783262889\n",
      "Computed Commitment = <Crypto.PublicKey.ECC.EccPoint object at 0x7ff5572c2a70>\n",
      "\n",
      "Committing: Data = b\"\\x12\\x8c\\xfdQ{\\x98\\xec3\\xd2\\xbe\\xd9\\xc4\\xcc]\\xff{,\\x00\\x80'\\x87\\x86b \\x14\\xc6ZAl\\xceC\\xc6\"\n",
      "Hashed Value = 36387826893975387600457443977955486113664700015506317451365783069115925746071\n",
      "Random Value = 90080118002542025816304318378429738562837529707640348615575468486078559040440\n",
      "Computed Commitment = <Crypto.PublicKey.ECC.EccPoint object at 0x7ff5572c2530>\n",
      "\n",
      "Committing: Data = b'\\x9d\\x81\\xfa\\xd6\\x1fH\\x0f#O\\x84\\x93\\xb1\\xd4\\x87\\xe8\\x85a\\xfd\\x99-\\xdd\\xeak\\xa0\\xaf\\x12\\xd2A\\x15\\\\\\x92*'\n",
      "Hashed Value = 21451205755144499869330940260758031991897023959950131656171117591665016862696\n",
      "Random Value = 113094821845468040731307364861305094956015392868289188667174893976136171877464\n",
      "Computed Commitment = <Crypto.PublicKey.ECC.EccPoint object at 0x7ff5572c36d0>\n",
      "\n",
      "Committing: Data = b'\\x99\\xb2>\\xb4\\x14\\x14C\\x122\\xe0\\xe6\\xf6s\\x8f\\xc4K\\x92:\\xf8f\\x92\\x87\\xfd\\x8eM\\xfdd\"z\\xbb\\xb9-'\n",
      "Hashed Value = 48485765020941464958259821841468531763120093135426554521945425747519720589369\n",
      "Random Value = 15335470049604233182899988404858128745485689714430921358473231277045773412069\n",
      "Computed Commitment = <Crypto.PublicKey.ECC.EccPoint object at 0x7ff5572c0f10>\n",
      "\n",
      "Committing: Data = b'\\x9b\\x15\\xa1\\xee\\x12\\x1d\\xc4i 5\\xe8\\x1a\\x9b/\\xd4\\xaeC+&\\x85\\xcf\"!(SMB\\xca=\\xc1\\xa4h'\n",
      "Hashed Value = 74879740127628536806729234885751630191741603470188606401964999013967867881646\n",
      "Random Value = 88585658773013991538660798233580378688932197920318177042294205968489024782498\n",
      "Computed Commitment = <Crypto.PublicKey.ECC.EccPoint object at 0x7ff5572c1db0>\n",
      "\n",
      "Committing: Data = b'\\xdak$)\\xf2-#\\xb9;\\x00\\xff\\xd6I\\xa4\\xa5\\xc8\\xf9\\x9e\\x87kx\\xb1\\xa2\\xdf\\x93\\xcf\\xf4\\x8f5BP\\xb5'\n",
      "Hashed Value = 44776616684425820896817557410393029058795777672743254224924673439613872729474\n",
      "Random Value = 43079283186668925154518514690947478105513294245414019866510286286605282523302\n",
      "Computed Commitment = <Crypto.PublicKey.ECC.EccPoint object at 0x7ff5572c1420>\n",
      "\n",
      "Committing: Data = b'\\x1cc\\x11\\x88!%\\x0cs\\xabp2\\n,;\\xccu\\xe3\\xf0\\xb6\\xea\\xa0F02t\\x92t\\x94\\xa7kj\\x8f'\n",
      "Hashed Value = 67312135316516526932225839306275996583888775144028889459659573199382199092374\n",
      "Random Value = 54154075384522399250954568189771406240025712491861098414809416435172313543781\n",
      "Computed Commitment = <Crypto.PublicKey.ECC.EccPoint object at 0x7ff5572c2c20>\n",
      "\n",
      "Committing: Data = b'\\xe0\\x83\\xc3\\x88\\\\5\\x8e\\x89J\\xec\\x0b;})6\\xa1W\"R\\x95#2\\xab\\xd8\\x01\\xdf\\xe8X\\xb3!\\t\\xff'\n",
      "Hashed Value = 61679568111664353655801833811917086127997832868533498827956442851753482737069\n",
      "Random Value = 92215692208006191999454828463427100803951244580593173559674579170371219433284\n",
      "Computed Commitment = <Crypto.PublicKey.ECC.EccPoint object at 0x7ff5572c2ce0>\n",
      "\n",
      "Committing: Data = b'\\xec\"\\xaam\\x18\\x00\\x87f\\xac9\\x907\\xab-\\xb3\\x1a\\x15E\\xfb\\x82\\xd8L\\'\\x16\\xda\\xb8\\xb1f\\xe7lMw'\n",
      "Hashed Value = 69522094700833492024851193760947016815595639104382385755915567974492716312324\n",
      "Random Value = 111655785720024183311655642319559242006334804530250067046057523416739171519745\n",
      "Computed Commitment = <Crypto.PublicKey.ECC.EccPoint object at 0x7ff5572c1c90>\n",
      "\n",
      "Committing: Data = b'\\x01\\xbb\\x00S\\x83\\xeb\\xa0\\x8c\\xff3=\\xf5\\xd5A\\x17\\xc78\\x11\\xdb\\x90=f\\x0bC1\\xec6\\x0b<\\xa4\\x99l'\n",
      "Hashed Value = 4895456394976684275648016566023789241986475089595852394399896839951216410049\n",
      "Random Value = 8540477938064077137662034082227883916916698833262299979713325895389394808382\n",
      "Computed Commitment = <Crypto.PublicKey.ECC.EccPoint object at 0x7ff5572c3a90>\n",
      "\n",
      "Committing: Data = b'XIS\\xe5\\n\\xdb\\x94\\x90F\\xbccs\\n\\x1e\\x1d\\x81l'\n",
      "Hashed Value = 16719194340931813865961851582808520478705828470015511228305673088771365672368\n",
      "Random Value = 71506126323078962553753737167096062175721367857000914877293146671547651926852\n",
      "Computed Commitment = <Crypto.PublicKey.ECC.EccPoint object at 0x7ff5572c1e10>\n",
      "\n"
     ]
    },
    {
     "data": {
      "text/plain": [
       "{'755ea86c12fb83d59c657f183db03820b3ca2ba9c13a06f6f4ec84054cd88b8f': {'commitments': defaultdict(<function __main__.commit_data.<locals>.<lambda>()>,\n",
       "              {0: {'index': 0,\n",
       "                'hash': 50366001327247683482752636260973803818453526684612359972737906020344372234305,\n",
       "                'data_chunk': b'\\x8c\\x00\\x9c[\\xd3\\x84\\xe9\\xd9\\xf6\\x1a\\x98\\xb7\\xcb\\xc9\\xb9\\x0c9\\x03L\\xad\\x1f\\xd3\\xba[\\x96\\x17\\xb1\\xa3\\x93\\xde\\xd1\\xf2',\n",
       "                'point': <Crypto.PublicKey.ECC.EccPoint at 0x7ff5572c2950>,\n",
       "                'randomness': 75597626110924612833046533695986495499515762785055351061194772398784596778329,\n",
       "                'merkle_proof': None},\n",
       "               1: {'index': 1,\n",
       "                'hash': 67868018335286132395530187885642597945614912859475789356043632607036172284368,\n",
       "                'data_chunk': b'\\xfdy\\xb3\\xd5a(\\xdd\\xeb3D\\xc5C\\xfcLc\\xd8d\\x9d\\x86O-A\\x19\\xbe\\xe6On\\x83\\x1cUT\\xb4',\n",
       "                'point': <Crypto.PublicKey.ECC.EccPoint at 0x7ff5572c2a70>,\n",
       "                'randomness': 85653675785040475053686274542074563054910376916294442745559007765224783262889,\n",
       "                'merkle_proof': None},\n",
       "               2: {'index': 2,\n",
       "                'hash': 36387826893975387600457443977955486113664700015506317451365783069115925746071,\n",
       "                'data_chunk': b\"\\x12\\x8c\\xfdQ{\\x98\\xec3\\xd2\\xbe\\xd9\\xc4\\xcc]\\xff{,\\x00\\x80'\\x87\\x86b \\x14\\xc6ZAl\\xceC\\xc6\",\n",
       "                'point': <Crypto.PublicKey.ECC.EccPoint at 0x7ff5572c2530>,\n",
       "                'randomness': 90080118002542025816304318378429738562837529707640348615575468486078559040440,\n",
       "                'merkle_proof': None},\n",
       "               3: {'index': 3,\n",
       "                'hash': 21451205755144499869330940260758031991897023959950131656171117591665016862696,\n",
       "                'data_chunk': b'\\x9d\\x81\\xfa\\xd6\\x1fH\\x0f#O\\x84\\x93\\xb1\\xd4\\x87\\xe8\\x85a\\xfd\\x99-\\xdd\\xeak\\xa0\\xaf\\x12\\xd2A\\x15\\\\\\x92*',\n",
       "                'point': <Crypto.PublicKey.ECC.EccPoint at 0x7ff5572c36d0>,\n",
       "                'randomness': 113094821845468040731307364861305094956015392868289188667174893976136171877464,\n",
       "                'merkle_proof': None},\n",
       "               4: {'index': 4,\n",
       "                'hash': 48485765020941464958259821841468531763120093135426554521945425747519720589369,\n",
       "                'data_chunk': b'\\x99\\xb2>\\xb4\\x14\\x14C\\x122\\xe0\\xe6\\xf6s\\x8f\\xc4K\\x92:\\xf8f\\x92\\x87\\xfd\\x8eM\\xfdd\"z\\xbb\\xb9-',\n",
       "                'point': <Crypto.PublicKey.ECC.EccPoint at 0x7ff5572c0f10>,\n",
       "                'randomness': 15335470049604233182899988404858128745485689714430921358473231277045773412069,\n",
       "                'merkle_proof': None},\n",
       "               5: {'index': 5,\n",
       "                'hash': 74879740127628536806729234885751630191741603470188606401964999013967867881646,\n",
       "                'data_chunk': b'\\x9b\\x15\\xa1\\xee\\x12\\x1d\\xc4i 5\\xe8\\x1a\\x9b/\\xd4\\xaeC+&\\x85\\xcf\"!(SMB\\xca=\\xc1\\xa4h',\n",
       "                'point': <Crypto.PublicKey.ECC.EccPoint at 0x7ff5572c1db0>,\n",
       "                'randomness': 88585658773013991538660798233580378688932197920318177042294205968489024782498,\n",
       "                'merkle_proof': None},\n",
       "               6: {'index': 6,\n",
       "                'hash': 44776616684425820896817557410393029058795777672743254224924673439613872729474,\n",
       "                'data_chunk': b'\\xdak$)\\xf2-#\\xb9;\\x00\\xff\\xd6I\\xa4\\xa5\\xc8\\xf9\\x9e\\x87kx\\xb1\\xa2\\xdf\\x93\\xcf\\xf4\\x8f5BP\\xb5',\n",
       "                'point': <Crypto.PublicKey.ECC.EccPoint at 0x7ff5572c1420>,\n",
       "                'randomness': 43079283186668925154518514690947478105513294245414019866510286286605282523302,\n",
       "                'merkle_proof': None},\n",
       "               7: {'index': 7,\n",
       "                'hash': 67312135316516526932225839306275996583888775144028889459659573199382199092374,\n",
       "                'data_chunk': b'\\x1cc\\x11\\x88!%\\x0cs\\xabp2\\n,;\\xccu\\xe3\\xf0\\xb6\\xea\\xa0F02t\\x92t\\x94\\xa7kj\\x8f',\n",
       "                'point': <Crypto.PublicKey.ECC.EccPoint at 0x7ff5572c2c20>,\n",
       "                'randomness': 54154075384522399250954568189771406240025712491861098414809416435172313543781,\n",
       "                'merkle_proof': None},\n",
       "               8: {'index': 8,\n",
       "                'hash': 61679568111664353655801833811917086127997832868533498827956442851753482737069,\n",
       "                'data_chunk': b'\\xe0\\x83\\xc3\\x88\\\\5\\x8e\\x89J\\xec\\x0b;})6\\xa1W\"R\\x95#2\\xab\\xd8\\x01\\xdf\\xe8X\\xb3!\\t\\xff',\n",
       "                'point': <Crypto.PublicKey.ECC.EccPoint at 0x7ff5572c2ce0>,\n",
       "                'randomness': 92215692208006191999454828463427100803951244580593173559674579170371219433284,\n",
       "                'merkle_proof': None},\n",
       "               9: {'index': 9,\n",
       "                'hash': 69522094700833492024851193760947016815595639104382385755915567974492716312324,\n",
       "                'data_chunk': b'\\xec\"\\xaam\\x18\\x00\\x87f\\xac9\\x907\\xab-\\xb3\\x1a\\x15E\\xfb\\x82\\xd8L\\'\\x16\\xda\\xb8\\xb1f\\xe7lMw',\n",
       "                'point': <Crypto.PublicKey.ECC.EccPoint at 0x7ff5572c1c90>,\n",
       "                'randomness': 111655785720024183311655642319559242006334804530250067046057523416739171519745,\n",
       "                'merkle_proof': None},\n",
       "               10: {'index': 10,\n",
       "                'hash': 4895456394976684275648016566023789241986475089595852394399896839951216410049,\n",
       "                'data_chunk': b'\\x01\\xbb\\x00S\\x83\\xeb\\xa0\\x8c\\xff3=\\xf5\\xd5A\\x17\\xc78\\x11\\xdb\\x90=f\\x0bC1\\xec6\\x0b<\\xa4\\x99l',\n",
       "                'point': <Crypto.PublicKey.ECC.EccPoint at 0x7ff5572c3a90>,\n",
       "                'randomness': 8540477938064077137662034082227883916916698833262299979713325895389394808382,\n",
       "                'merkle_proof': None},\n",
       "               11: {'index': 11,\n",
       "                'hash': 16719194340931813865961851582808520478705828470015511228305673088771365672368,\n",
       "                'data_chunk': b'XIS\\xe5\\n\\xdb\\x94\\x90F\\xbccs\\n\\x1e\\x1d\\x81l',\n",
       "                'point': <Crypto.PublicKey.ECC.EccPoint at 0x7ff5572c1e10>,\n",
       "                'randomness': 71506126323078962553753737167096062175721367857000914877293146671547651926852,\n",
       "                'merkle_proof': None}}),\n",
       "  'merkle_tree': <__main__.MerkleTree at 0x7ff5572c0a30>}}"
      ]
     },
     "execution_count": 36,
     "metadata": {},
     "output_type": "execute_result"
    }
   ],
   "source": [
    "def commit_data(committer, data_chunks):\n",
    "    merkle_tree = MerkleTree()\n",
    "    commitments = defaultdict(lambda: [None] * len(data_chunks))\n",
    "    # commitments = {}\n",
    "\n",
    "    for index, chunk in enumerate(data_chunks):\n",
    "        c, m_val, r = committer.commit(chunk)\n",
    "        commitments[index] = {\n",
    "            \"index\": index,\n",
    "            \"hash\": m_val,\n",
    "            \"data_chunk\": chunk,\n",
    "            \"point\": c,\n",
    "            \"randomness\": r,\n",
    "            \"merkle_proof\": None,\n",
    "        }\n",
    "        merkle_tree.add_leaf(ecc_point_to_hex(c))\n",
    "\n",
    "    merkle_tree.make_tree()\n",
    "    return {merkle_tree.get_merkle_root(): {'commitments': commitments, 'merkle_tree': merkle_tree}}\n",
    "\n",
    "def ecc_point_to_hex(point):\n",
    "    point_str = \"{},{}\".format(point.x, point.y)\n",
    "    return binascii.hexlify(point_str.encode()).decode()\n",
    "\n",
    "def hex_to_ecc_point(hex_str, curve):\n",
    "    point_str = binascii.unhexlify(hex_str).decode()\n",
    "    x, y = map(int, point_str.split(\",\"))\n",
    "    return ECC.EccPoint(curve, x, y)\n",
    "\n",
    "store_data = commit_data\n",
    "commitments_E = store_data(committer, chunks)\n",
    "commitments_E\n",
    "# TODO: once this is generaetd, we send it back to the Validator minus the random values\n",
    "# {merkle_root: (data_chunks, hashes, commitment_points)} "
   ]
  },
  {
   "cell_type": "code",
   "execution_count": 37,
   "metadata": {},
   "outputs": [
    {
     "data": {
      "text/plain": [
       "['755ea86c12fb83d59c657f183db03820b3ca2ba9c13a06f6f4ec84054cd88b8f']"
      ]
     },
     "execution_count": 37,
     "metadata": {},
     "output_type": "execute_result"
    }
   ],
   "source": [
    "keys = list(commitments_E.keys())\n",
    "keys"
   ]
  },
  {
   "cell_type": "code",
   "execution_count": 38,
   "metadata": {},
   "outputs": [
    {
     "data": {
      "text/plain": [
       "{'commitments': defaultdict(<function __main__.commit_data.<locals>.<lambda>()>,\n",
       "             {0: {'index': 0,\n",
       "               'hash': 50366001327247683482752636260973803818453526684612359972737906020344372234305,\n",
       "               'data_chunk': b'\\x8c\\x00\\x9c[\\xd3\\x84\\xe9\\xd9\\xf6\\x1a\\x98\\xb7\\xcb\\xc9\\xb9\\x0c9\\x03L\\xad\\x1f\\xd3\\xba[\\x96\\x17\\xb1\\xa3\\x93\\xde\\xd1\\xf2',\n",
       "               'point': <Crypto.PublicKey.ECC.EccPoint at 0x7ff5572c2950>,\n",
       "               'randomness': 75597626110924612833046533695986495499515762785055351061194772398784596778329,\n",
       "               'merkle_proof': None},\n",
       "              1: {'index': 1,\n",
       "               'hash': 67868018335286132395530187885642597945614912859475789356043632607036172284368,\n",
       "               'data_chunk': b'\\xfdy\\xb3\\xd5a(\\xdd\\xeb3D\\xc5C\\xfcLc\\xd8d\\x9d\\x86O-A\\x19\\xbe\\xe6On\\x83\\x1cUT\\xb4',\n",
       "               'point': <Crypto.PublicKey.ECC.EccPoint at 0x7ff5572c2a70>,\n",
       "               'randomness': 85653675785040475053686274542074563054910376916294442745559007765224783262889,\n",
       "               'merkle_proof': None},\n",
       "              2: {'index': 2,\n",
       "               'hash': 36387826893975387600457443977955486113664700015506317451365783069115925746071,\n",
       "               'data_chunk': b\"\\x12\\x8c\\xfdQ{\\x98\\xec3\\xd2\\xbe\\xd9\\xc4\\xcc]\\xff{,\\x00\\x80'\\x87\\x86b \\x14\\xc6ZAl\\xceC\\xc6\",\n",
       "               'point': <Crypto.PublicKey.ECC.EccPoint at 0x7ff5572c2530>,\n",
       "               'randomness': 90080118002542025816304318378429738562837529707640348615575468486078559040440,\n",
       "               'merkle_proof': None},\n",
       "              3: {'index': 3,\n",
       "               'hash': 21451205755144499869330940260758031991897023959950131656171117591665016862696,\n",
       "               'data_chunk': b'\\x9d\\x81\\xfa\\xd6\\x1fH\\x0f#O\\x84\\x93\\xb1\\xd4\\x87\\xe8\\x85a\\xfd\\x99-\\xdd\\xeak\\xa0\\xaf\\x12\\xd2A\\x15\\\\\\x92*',\n",
       "               'point': <Crypto.PublicKey.ECC.EccPoint at 0x7ff5572c36d0>,\n",
       "               'randomness': 113094821845468040731307364861305094956015392868289188667174893976136171877464,\n",
       "               'merkle_proof': None},\n",
       "              4: {'index': 4,\n",
       "               'hash': 48485765020941464958259821841468531763120093135426554521945425747519720589369,\n",
       "               'data_chunk': b'\\x99\\xb2>\\xb4\\x14\\x14C\\x122\\xe0\\xe6\\xf6s\\x8f\\xc4K\\x92:\\xf8f\\x92\\x87\\xfd\\x8eM\\xfdd\"z\\xbb\\xb9-',\n",
       "               'point': <Crypto.PublicKey.ECC.EccPoint at 0x7ff5572c0f10>,\n",
       "               'randomness': 15335470049604233182899988404858128745485689714430921358473231277045773412069,\n",
       "               'merkle_proof': None},\n",
       "              5: {'index': 5,\n",
       "               'hash': 74879740127628536806729234885751630191741603470188606401964999013967867881646,\n",
       "               'data_chunk': b'\\x9b\\x15\\xa1\\xee\\x12\\x1d\\xc4i 5\\xe8\\x1a\\x9b/\\xd4\\xaeC+&\\x85\\xcf\"!(SMB\\xca=\\xc1\\xa4h',\n",
       "               'point': <Crypto.PublicKey.ECC.EccPoint at 0x7ff5572c1db0>,\n",
       "               'randomness': 88585658773013991538660798233580378688932197920318177042294205968489024782498,\n",
       "               'merkle_proof': None},\n",
       "              6: {'index': 6,\n",
       "               'hash': 44776616684425820896817557410393029058795777672743254224924673439613872729474,\n",
       "               'data_chunk': b'\\xdak$)\\xf2-#\\xb9;\\x00\\xff\\xd6I\\xa4\\xa5\\xc8\\xf9\\x9e\\x87kx\\xb1\\xa2\\xdf\\x93\\xcf\\xf4\\x8f5BP\\xb5',\n",
       "               'point': <Crypto.PublicKey.ECC.EccPoint at 0x7ff5572c1420>,\n",
       "               'randomness': 43079283186668925154518514690947478105513294245414019866510286286605282523302,\n",
       "               'merkle_proof': None},\n",
       "              7: {'index': 7,\n",
       "               'hash': 67312135316516526932225839306275996583888775144028889459659573199382199092374,\n",
       "               'data_chunk': b'\\x1cc\\x11\\x88!%\\x0cs\\xabp2\\n,;\\xccu\\xe3\\xf0\\xb6\\xea\\xa0F02t\\x92t\\x94\\xa7kj\\x8f',\n",
       "               'point': <Crypto.PublicKey.ECC.EccPoint at 0x7ff5572c2c20>,\n",
       "               'randomness': 54154075384522399250954568189771406240025712491861098414809416435172313543781,\n",
       "               'merkle_proof': None},\n",
       "              8: {'index': 8,\n",
       "               'hash': 61679568111664353655801833811917086127997832868533498827956442851753482737069,\n",
       "               'data_chunk': b'\\xe0\\x83\\xc3\\x88\\\\5\\x8e\\x89J\\xec\\x0b;})6\\xa1W\"R\\x95#2\\xab\\xd8\\x01\\xdf\\xe8X\\xb3!\\t\\xff',\n",
       "               'point': <Crypto.PublicKey.ECC.EccPoint at 0x7ff5572c2ce0>,\n",
       "               'randomness': 92215692208006191999454828463427100803951244580593173559674579170371219433284,\n",
       "               'merkle_proof': None},\n",
       "              9: {'index': 9,\n",
       "               'hash': 69522094700833492024851193760947016815595639104382385755915567974492716312324,\n",
       "               'data_chunk': b'\\xec\"\\xaam\\x18\\x00\\x87f\\xac9\\x907\\xab-\\xb3\\x1a\\x15E\\xfb\\x82\\xd8L\\'\\x16\\xda\\xb8\\xb1f\\xe7lMw',\n",
       "               'point': <Crypto.PublicKey.ECC.EccPoint at 0x7ff5572c1c90>,\n",
       "               'randomness': 111655785720024183311655642319559242006334804530250067046057523416739171519745,\n",
       "               'merkle_proof': None},\n",
       "              10: {'index': 10,\n",
       "               'hash': 4895456394976684275648016566023789241986475089595852394399896839951216410049,\n",
       "               'data_chunk': b'\\x01\\xbb\\x00S\\x83\\xeb\\xa0\\x8c\\xff3=\\xf5\\xd5A\\x17\\xc78\\x11\\xdb\\x90=f\\x0bC1\\xec6\\x0b<\\xa4\\x99l',\n",
       "               'point': <Crypto.PublicKey.ECC.EccPoint at 0x7ff5572c3a90>,\n",
       "               'randomness': 8540477938064077137662034082227883916916698833262299979713325895389394808382,\n",
       "               'merkle_proof': None},\n",
       "              11: {'index': 11,\n",
       "               'hash': 16719194340931813865961851582808520478705828470015511228305673088771365672368,\n",
       "               'data_chunk': b'XIS\\xe5\\n\\xdb\\x94\\x90F\\xbccs\\n\\x1e\\x1d\\x81l',\n",
       "               'point': <Crypto.PublicKey.ECC.EccPoint at 0x7ff5572c1e10>,\n",
       "               'randomness': 71506126323078962553753737167096062175721367857000914877293146671547651926852,\n",
       "               'merkle_proof': None}}),\n",
       " 'merkle_tree': <__main__.MerkleTree at 0x7ff5572c0a30>}"
      ]
     },
     "execution_count": 38,
     "metadata": {},
     "output_type": "execute_result"
    }
   ],
   "source": [
    "inner_dict = commitments_E[keys[0]]\n",
    "inner_dict"
   ]
  },
  {
   "cell_type": "code",
   "execution_count": 39,
   "metadata": {},
   "outputs": [],
   "source": [
    "hashes = inner_dict[\"commitments\"][\"hashes\"]\n",
    "assert len(hashes) == len(chunks)"
   ]
  },
  {
   "cell_type": "code",
   "execution_count": 40,
   "metadata": {},
   "outputs": [
    {
     "data": {
      "text/plain": [
       "[8, 3]"
      ]
     },
     "execution_count": 40,
     "metadata": {},
     "output_type": "execute_result"
    }
   ],
   "source": [
    "def get_challenge_indices(num_chunks, factor=0.1):\n",
    "    return random.sample(list(range(num_chunks)), int(1 + num_chunks * factor))\n",
    "\n",
    "ci = challenge_indices = get_challenge_indices(len(chunks))\n",
    "ci"
   ]
  },
  {
   "cell_type": "code",
   "execution_count": 41,
   "metadata": {},
   "outputs": [
    {
     "data": {
      "text/plain": [
       "'755ea86c12fb83d59c657f183db03820b3ca2ba9c13a06f6f4ec84054cd88b8f'"
      ]
     },
     "execution_count": 41,
     "metadata": {},
     "output_type": "execute_result"
    }
   ],
   "source": [
    "def get_merkle_root_to_challenge(commitments):\n",
    "    merkle_roots = list(commitments.keys())\n",
    "    return random.choice(merkle_roots)\n",
    "\n",
    "mrc = merkle_root_challenge = get_merkle_root_to_challenge(commitments_E)\n",
    "mrc"
   ]
  },
  {
   "cell_type": "code",
   "execution_count": 42,
   "metadata": {},
   "outputs": [
    {
     "data": {
      "text/plain": [
       "{'755ea86c12fb83d59c657f183db03820b3ca2ba9c13a06f6f4ec84054cd88b8f': [{'index': 8,\n",
       "   'hash': 61679568111664353655801833811917086127997832868533498827956442851753482737069,\n",
       "   'data_chunk': b'\\xe0\\x83\\xc3\\x88\\\\5\\x8e\\x89J\\xec\\x0b;})6\\xa1W\"R\\x95#2\\xab\\xd8\\x01\\xdf\\xe8X\\xb3!\\t\\xff',\n",
       "   'point': <Crypto.PublicKey.ECC.EccPoint at 0x7ff5572c2ce0>,\n",
       "   'randomness': 92215692208006191999454828463427100803951244580593173559674579170371219433284,\n",
       "   'merkle_proof': [{'right': '343135303434363739343031333731343634353930363733393933333437363233343033333739313538303734333636383639303138313138343834333034303035303238343639303237372c313039363137393438323930343938363033393032333931373930393638363732333030303137313239363636303434393831383031363434373733353934353534343436333331383133323239'},\n",
       "    {'right': 'd90542e242422c550f6ecc313c9994041d69a05e3142a4e4e3735a0657f34e12'},\n",
       "    {'left': '275fd24af88283dbc39417f9eea613cb14857e088edf1636732e9572e6e8aa97'}]},\n",
       "  {'index': 3,\n",
       "   'hash': 21451205755144499869330940260758031991897023959950131656171117591665016862696,\n",
       "   'data_chunk': b'\\x9d\\x81\\xfa\\xd6\\x1fH\\x0f#O\\x84\\x93\\xb1\\xd4\\x87\\xe8\\x85a\\xfd\\x99-\\xdd\\xeak\\xa0\\xaf\\x12\\xd2A\\x15\\\\\\x92*',\n",
       "   'point': <Crypto.PublicKey.ECC.EccPoint at 0x7ff5572c36d0>,\n",
       "   'randomness': 113094821845468040731307364861305094956015392868289188667174893976136171877464,\n",
       "   'merkle_proof': [{'left': '35353830343938363635313839353235383333333836393936343238393234353839343135333531363833373530373032323034373334333232323330343339323938393039313834363738352c33303338333034363934323633303935313832383232323537353233323436303839313838363836343034383638383037393834313038373536383532333535393936313135383338303232'},\n",
       "    {'left': '58a68a57a178eb0cba68bdf6eb21ebd584f037c611e7281f0fc07eeac6281718'},\n",
       "    {'right': '30646e843b66b91fbc9ac02ab66af72d3f96b4ec5b65e972439d4d99e9996c9e'},\n",
       "    {'right': 'e388189cd1cebc10f9ff2ef89bee68c7777152a87a28498670077b650cf281de'}]}]}"
      ]
     },
     "execution_count": 42,
     "metadata": {},
     "output_type": "execute_result"
    }
   ],
   "source": [
    "responses = []\n",
    "challenge_data = commitments_E[merkle_root_challenge]\n",
    "merkle_tree = challenge_data['merkle_tree']\n",
    "for i in challenge_indices:\n",
    "    challenge_data['commitments'][i]['merkle_proof'] = merkle_tree.get_proof(i)\n",
    "    responses.append(challenge_data['commitments'][i])\n",
    "\n",
    "challenge_response = {merkle_root_challenge: responses}\n",
    "challenge_response"
   ]
  },
  {
   "cell_type": "code",
   "execution_count": 43,
   "metadata": {},
   "outputs": [
    {
     "name": "stdout",
     "output_type": "stream",
     "text": [
      "merkle_root: 755ea86c12fb83d59c657f183db03820b3ca2ba9c13a06f6f4ec84054cd88b8f\n"
     ]
    },
    {
     "data": {
      "text/plain": [
       "[{'index': 8,\n",
       "  'hash': 61679568111664353655801833811917086127997832868533498827956442851753482737069,\n",
       "  'data_chunk': b'\\xe0\\x83\\xc3\\x88\\\\5\\x8e\\x89J\\xec\\x0b;})6\\xa1W\"R\\x95#2\\xab\\xd8\\x01\\xdf\\xe8X\\xb3!\\t\\xff',\n",
       "  'point': <Crypto.PublicKey.ECC.EccPoint at 0x7ff5572c2ce0>,\n",
       "  'randomness': 92215692208006191999454828463427100803951244580593173559674579170371219433284,\n",
       "  'merkle_proof': [{'right': '343135303434363739343031333731343634353930363733393933333437363233343033333739313538303734333636383639303138313138343834333034303035303238343639303237372c313039363137393438323930343938363033393032333931373930393638363732333030303137313239363636303434393831383031363434373733353934353534343436333331383133323239'},\n",
       "   {'right': 'd90542e242422c550f6ecc313c9994041d69a05e3142a4e4e3735a0657f34e12'},\n",
       "   {'left': '275fd24af88283dbc39417f9eea613cb14857e088edf1636732e9572e6e8aa97'}]},\n",
       " {'index': 3,\n",
       "  'hash': 21451205755144499869330940260758031991897023959950131656171117591665016862696,\n",
       "  'data_chunk': b'\\x9d\\x81\\xfa\\xd6\\x1fH\\x0f#O\\x84\\x93\\xb1\\xd4\\x87\\xe8\\x85a\\xfd\\x99-\\xdd\\xeak\\xa0\\xaf\\x12\\xd2A\\x15\\\\\\x92*',\n",
       "  'point': <Crypto.PublicKey.ECC.EccPoint at 0x7ff5572c36d0>,\n",
       "  'randomness': 113094821845468040731307364861305094956015392868289188667174893976136171877464,\n",
       "  'merkle_proof': [{'left': '35353830343938363635313839353235383333333836393936343238393234353839343135333531363833373530373032323034373334333232323330343339323938393039313834363738352c33303338333034363934323633303935313832383232323537353233323436303839313838363836343034383638383037393834313038373536383532333535393936313135383338303232'},\n",
       "   {'left': '58a68a57a178eb0cba68bdf6eb21ebd584f037c611e7281f0fc07eeac6281718'},\n",
       "   {'right': '30646e843b66b91fbc9ac02ab66af72d3f96b4ec5b65e972439d4d99e9996c9e'},\n",
       "   {'right': 'e388189cd1cebc10f9ff2ef89bee68c7777152a87a28498670077b650cf281de'}]}]"
      ]
     },
     "execution_count": 43,
     "metadata": {},
     "output_type": "execute_result"
    }
   ],
   "source": [
    "merkle_root = list(challenge_response.keys())[0]\n",
    "commitments = challenge_response[merkle_root]\n",
    "print(\"merkle_root:\", merkle_root)\n",
    "commitments"
   ]
  },
  {
   "cell_type": "code",
   "execution_count": 44,
   "metadata": {},
   "outputs": [
    {
     "data": {
      "text/plain": [
       "2"
      ]
     },
     "execution_count": 44,
     "metadata": {},
     "output_type": "execute_result"
    }
   ],
   "source": [
    "len(commitments)"
   ]
  },
  {
   "cell_type": "code",
   "execution_count": 45,
   "metadata": {},
   "outputs": [
    {
     "data": {
      "text/plain": [
       "{'index': 8,\n",
       " 'hash': 61679568111664353655801833811917086127997832868533498827956442851753482737069,\n",
       " 'data_chunk': b'\\xe0\\x83\\xc3\\x88\\\\5\\x8e\\x89J\\xec\\x0b;})6\\xa1W\"R\\x95#2\\xab\\xd8\\x01\\xdf\\xe8X\\xb3!\\t\\xff',\n",
       " 'point': <Crypto.PublicKey.ECC.EccPoint at 0x7ff5572c2ce0>,\n",
       " 'randomness': 92215692208006191999454828463427100803951244580593173559674579170371219433284,\n",
       " 'merkle_proof': [{'right': '343135303434363739343031333731343634353930363733393933333437363233343033333739313538303734333636383639303138313138343834333034303035303238343639303237372c313039363137393438323930343938363033393032333931373930393638363732333030303137313239363636303434393831383031363434373733353934353534343436333331383133323239'},\n",
       "  {'right': 'd90542e242422c550f6ecc313c9994041d69a05e3142a4e4e3735a0657f34e12'},\n",
       "  {'left': '275fd24af88283dbc39417f9eea613cb14857e088edf1636732e9572e6e8aa97'}]}"
      ]
     },
     "execution_count": 45,
     "metadata": {},
     "output_type": "execute_result"
    }
   ],
   "source": [
    "commitment_i = commitments[0]\n",
    "commitment_i"
   ]
  },
  {
   "cell_type": "code",
   "execution_count": 46,
   "metadata": {},
   "outputs": [
    {
     "data": {
      "text/plain": [
       "[{'right': '343135303434363739343031333731343634353930363733393933333437363233343033333739313538303734333636383639303138313138343834333034303035303238343639303237372c313039363137393438323930343938363033393032333931373930393638363732333030303137313239363636303434393831383031363434373733353934353534343436333331383133323239'},\n",
       " {'right': 'd90542e242422c550f6ecc313c9994041d69a05e3142a4e4e3735a0657f34e12'},\n",
       " {'left': '275fd24af88283dbc39417f9eea613cb14857e088edf1636732e9572e6e8aa97'}]"
      ]
     },
     "execution_count": 46,
     "metadata": {},
     "output_type": "execute_result"
    }
   ],
   "source": [
    "merkle_proof_i = commitments[0]['merkle_proof']\n",
    "merkle_proof_i"
   ]
  },
  {
   "cell_type": "code",
   "execution_count": 47,
   "metadata": {},
   "outputs": [
    {
     "data": {
      "text/plain": [
       "{'index': 8,\n",
       " 'hash': 61679568111664353655801833811917086127997832868533498827956442851753482737069,\n",
       " 'data_chunk': b'\\xe0\\x83\\xc3\\x88\\\\5\\x8e\\x89J\\xec\\x0b;})6\\xa1W\"R\\x95#2\\xab\\xd8\\x01\\xdf\\xe8X\\xb3!\\t\\xff',\n",
       " 'point': <Crypto.PublicKey.ECC.EccPoint at 0x7ff5572c2ce0>,\n",
       " 'randomness': 92215692208006191999454828463427100803951244580593173559674579170371219433284,\n",
       " 'merkle_proof': [{'right': '343135303434363739343031333731343634353930363733393933333437363233343033333739313538303734333636383639303138313138343834333034303035303238343639303237372c313039363137393438323930343938363033393032333931373930393638363732333030303137313239363636303434393831383031363434373733353934353534343436333331383133323239'},\n",
       "  {'right': 'd90542e242422c550f6ecc313c9994041d69a05e3142a4e4e3735a0657f34e12'},\n",
       "  {'left': '275fd24af88283dbc39417f9eea613cb14857e088edf1636732e9572e6e8aa97'}]}"
      ]
     },
     "execution_count": 47,
     "metadata": {},
     "output_type": "execute_result"
    }
   ],
   "source": [
    "commitments[0]"
   ]
  },
  {
   "cell_type": "code",
   "execution_count": 48,
   "metadata": {},
   "outputs": [
    {
     "name": "stdout",
     "output_type": "stream",
     "text": [
      "\n",
      "Opening: Hashed Value = 61679568111664353655801833811917086127997832868533498827956442851753482737069\n",
      "Random Value = 92215692208006191999454828463427100803951244580593173559674579170371219433284\n",
      "Recomputed Commitment = <Crypto.PublicKey.ECC.EccPoint object at 0x7ff5572c3850>\n",
      "Original Commitment = <Crypto.PublicKey.ECC.EccPoint object at 0x7ff5572c2ce0>\n",
      "\n",
      "Opening: Hashed Value = 21451205755144499869330940260758031991897023959950131656171117591665016862696\n",
      "Random Value = 113094821845468040731307364861305094956015392868289188667174893976136171877464\n",
      "Recomputed Commitment = <Crypto.PublicKey.ECC.EccPoint object at 0x7ff5572c3430>\n",
      "Original Commitment = <Crypto.PublicKey.ECC.EccPoint object at 0x7ff5572c36d0>\n"
     ]
    }
   ],
   "source": [
    "for commitment_i in commitments:\n",
    "    index = commitment_i['index']\n",
    "    commitment = commitment_i['point']\n",
    "    data = commitment_i['data_chunk']\n",
    "    r = commitment_i['randomness']\n",
    "    merkle_proof_i = commitment_i['merkle_proof']\n",
    "\n",
    "    if not committer.open(commitment, hash_data(data), r):\n",
    "        print(f\"Opening commitment {index} failed\")\n",
    "\n",
    "    if not validate_merkle_proof(\n",
    "        merkle_proof_i, ecc_point_to_hex(commitment_i['point']), merkle_root\n",
    "    ):\n",
    "        print(f\"Merkle proof {index} validation failed\")"
   ]
  },
  {
   "cell_type": "code",
   "execution_count": 49,
   "metadata": {},
   "outputs": [],
   "source": [
    "def verify(committer, commitments, merkle_root):\n",
    "    for commitment_i in commitments:\n",
    "        index = commitment_i['index']\n",
    "        commitment = commitment_i['point']\n",
    "        data = commitment_i['data_chunk']\n",
    "        r = commitment_i['randomness']\n",
    "        merkle_proof_i = commitment_i['merkle_proof']\n",
    "\n",
    "        if not committer.open(commitment, hash_data(data), r):\n",
    "            print(f\"Opening commitment {index} failed\")\n",
    "            return False\n",
    "\n",
    "        if not validate_merkle_proof(\n",
    "            merkle_proof_i, ecc_point_to_hex(commitment_i['point']), merkle_root\n",
    "        ):\n",
    "            print(f\"Merkle proof {index} validation failed\")\n",
    "            return False\n",
    "\n",
    "    return True"
   ]
  },
  {
   "cell_type": "code",
   "execution_count": 50,
   "metadata": {},
   "outputs": [
    {
     "name": "stdout",
     "output_type": "stream",
     "text": [
      "\n",
      "Opening: Hashed Value = 61679568111664353655801833811917086127997832868533498827956442851753482737069\n",
      "Random Value = 92215692208006191999454828463427100803951244580593173559674579170371219433284\n",
      "Recomputed Commitment = <Crypto.PublicKey.ECC.EccPoint object at 0x7ff5572c1e70>\n",
      "Original Commitment = <Crypto.PublicKey.ECC.EccPoint object at 0x7ff5572c2ce0>\n",
      "\n",
      "Opening: Hashed Value = 21451205755144499869330940260758031991897023959950131656171117591665016862696\n",
      "Random Value = 113094821845468040731307364861305094956015392868289188667174893976136171877464\n",
      "Recomputed Commitment = <Crypto.PublicKey.ECC.EccPoint object at 0x7ff5572c38e0>\n",
      "Original Commitment = <Crypto.PublicKey.ECC.EccPoint object at 0x7ff5572c36d0>\n"
     ]
    },
    {
     "data": {
      "text/plain": [
       "True"
      ]
     },
     "execution_count": 50,
     "metadata": {},
     "output_type": "execute_result"
    }
   ],
   "source": [
    "verify(committer, commitments, merkle_root)"
   ]
  }
 ],
 "metadata": {
  "kernelspec": {
   "display_name": "master",
   "language": "python",
   "name": "python3"
  },
  "language_info": {
   "codemirror_mode": {
    "name": "ipython",
    "version": 3
   },
   "file_extension": ".py",
   "mimetype": "text/x-python",
   "name": "python",
   "nbconvert_exporter": "python",
   "pygments_lexer": "ipython3",
   "version": "3.10.13"
  }
 },
 "nbformat": 4,
 "nbformat_minor": 2
}
