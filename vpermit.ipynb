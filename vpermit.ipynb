{
 "cells": [
  {
   "cell_type": "code",
   "execution_count": 1,
   "metadata": {},
   "outputs": [
    {
     "data": {
      "text/plain": [
       "metagraph(netuid:1, n:1024, block:1679858, network:finney)"
      ]
     },
     "execution_count": 1,
     "metadata": {},
     "output_type": "execute_result"
    }
   ],
   "source": [
    "import bittensor as bt\n",
    "s=bt.subtensor(\"finney\")\n",
    "m=s.metagraph(1)\n",
    "m"
   ]
  },
  {
   "cell_type": "code",
   "execution_count": 3,
   "metadata": {},
   "outputs": [
    {
     "data": {
      "text/plain": [
       "Parameter containing:\n",
       "tensor([False, False,  True,  ..., False, False, False])"
      ]
     },
     "execution_count": 3,
     "metadata": {},
     "output_type": "execute_result"
    }
   ],
   "source": [
    "v=m.validator_permit\n",
    "v"
   ]
  },
  {
   "cell_type": "code",
   "execution_count": 6,
   "metadata": {},
   "outputs": [
    {
     "data": {
      "text/plain": [
       "tensor([   2,    3,    5,    6,    7,   12,   15,   19,   20,   35,   38,   41,\n",
       "          48,   53,   54,   61,   64,   77,   80,   84,   95,  116,  117,  125,\n",
       "         130,  132,  137,  152,  153,  168,  173,  200,  205,  220,  226,  229,\n",
       "         234,  239,  259,  277,  280,  290,  309,  312,  313,  337,  338,  348,\n",
       "         356,  380,  386,  393,  418,  444,  448,  450,  457,  463,  468,  476,\n",
       "         480,  493,  502,  518,  520,  527,  535,  538,  550,  556,  563,  566,\n",
       "         572,  583,  586,  593,  604,  617,  620,  641,  652,  656,  661,  666,\n",
       "         673,  674,  687,  689,  703,  714,  717,  720,  725,  733,  737,  738,\n",
       "         742,  763,  788,  792,  793,  795,  799,  811,  814,  829,  832,  838,\n",
       "         844,  849,  860,  871,  876,  891,  913,  917,  935,  940,  942,  946,\n",
       "         964,  970,  983, 1001, 1002, 1004, 1006, 1013])"
      ]
     },
     "execution_count": 6,
     "metadata": {},
     "output_type": "execute_result"
    }
   ],
   "source": [
    "import torch\n",
    "vuids = torch.where(v==1)[0]\n",
    "vuids"
   ]
  },
  {
   "cell_type": "code",
   "execution_count": 15,
   "metadata": {},
   "outputs": [
    {
     "data": {
      "text/plain": [
       "tensor([  0,   1,   2,   3,   4,   5,  15,  16,  27,  30,  31,  34,  41,  45,\n",
       "         51,  62,  63,  72,  81,  85,  86,  90,  94,  98, 103, 115, 119, 120,\n",
       "        123])"
      ]
     },
     "execution_count": 15,
     "metadata": {},
     "output_type": "execute_result"
    }
   ],
   "source": [
    "quids=torch.where(m.S[vuids] > 10000)[0]\n",
    "quids"
   ]
  },
  {
   "cell_type": "code",
   "execution_count": 17,
   "metadata": {},
   "outputs": [
    {
     "data": {
      "text/plain": [
       "array([AxonInfo( /ipv4/51.91.215.161:11003, 5GMq8QGy633wWbbi7GWDjB5TDouFx3zkm1a516RGd3vniLrN, 5CiQiCy9dZASdizydEJdP6A7hKmBjCKRp28EYSQkehWiRSau, 610 ),\n",
       "       AxonInfo( /ipv4/216.153.57.106:6688, 5HiwKZsa535Yc1rweY3Qt2v3p9cCzxzjPZJ7trbKjDpcPrDy, 5GsvYsviXvugYLTJ1EsxMporNKujJBnaJvzJT4cnTvpzBwZD, 610 ),\n",
       "       AxonInfo( /ipv4/34.90.71.181:8091, 5HEo565WAy4Dbq3Sv271SAi7syBSofyfhhwRNjFNSM2gP9M2, 5ChuGqW2cxc5AZJ29z6vyTkTncg75L9ovfp8QN8eB8niSD75, 620 ),\n",
       "       AxonInfo( /ipv4/64.247.206.79:8091, 5HK5tp6t2S59DywmHRWPBVJeJ86T61KjurYqeooqj8sREpeN, 5E7W9QXNoW7se7B11vWRMKRCSWkkAu9EYotG5Ci2f9cqV8jn, 610 ),\n",
       "       AxonInfo( /ipv4/51.91.30.166:40203, 5EXYcaCdnvnMZbozeknFWbj6aKXojfBi9jUpJYHea68j4q1a, 5CsxoeDvWsQFZJnDCyzxaNKgA8pBJGUJyE1DThH8xU25qUMg, 601 ),\n",
       "       AxonInfo( /ipv4/149.137.225.62:8091, 5F4tQyWrhfGVcNhoqeiNsR6KjD4wMZ2kfhLj4oHYuyHbZAc3, 5Ccmf1dJKzGtXX7h17eN72MVMRsFwvYjPVmkXPUaapczECf6, 610 ),\n",
       "       AxonInfo( /ipv4/146.59.92.165:60019, 5GU9Qqs2Dx6fK5DRnLEYnti1qBM1LFLhBXofR7kE9Wsmb2M2, 5CQ6dMW8JZhKCZX9kWsZRqa3kZRKmNHxbPPVFEt6FgyvGv2G, 600 ),\n",
       "       AxonInfo( /ipv4/144.91.125.254:27505, 5D4zieKMoRVm477oUyMTZAWZ9orzpiJM8K6ufQQjryiXwpGU, 5DAchgvPkoexHJnPURimXdyz1VVU2q9HzeqzsFVHc9SADHoj, 620 ),\n",
       "       AxonInfo( /ipv4/54.81.176.212:2046, 5FsjwVP3yJ46EBBzRcYVLpMxe6hx3KPVXLNabHV9gekuJZzA, 5H8oXwSRqkUcdkpUFofgnaRgoRdWEVX6ema9GjJp5Z6jVGBK, 600 ),\n",
       "       AxonInfo( /ipv4/51.91.215.161:11030, 5Ct8t7vwqbBQ4U49L39qC1o2rQQTdJXEQTd8TJ74PH72UgmN, 5CiQiCy9dZASdizydEJdP6A7hKmBjCKRp28EYSQkehWiRSau, 620 ),\n",
       "       AxonInfo( /ipv4/54.159.32.80:2011, 5DoFDeF3EAmcGsjLgyu421sWdJQpiB8P37ZYuss48VPPF97t, 5DfK86358xkYnUQ24uSZCMEK86JfJakRqGa1pwWPeHDW5Q4q, 600 ),\n",
       "       AxonInfo( /ipv4/51.91.215.161:11012, 5DUcwDJjffCFLjS791zmrTGZkoknkK1RtY7z3CQBcMqUxstk, 5CiQiCy9dZASdizydEJdP6A7hKmBjCKRp28EYSQkehWiRSau, 610 ),\n",
       "       AxonInfo( /ipv4/18.234.29.185:10070, 5GTxvU1Vwrn57WEGPB5EVweRGZ3Hugsd9zgeY23VdpGyMMmi, 5CaGmWgcW6Nt26Mz8Md36JskkSXczsPKnYsfZ6JBcCNZvjNT, 610 ),\n",
       "       AxonInfo( /ipv4/54.227.25.215:10054, 5FeaubNhMagPMH5Um9NzHHiDxnt5TJAFhsGwchSGgzP3mmQx, 5FhXUSmSZ2ec7ozRSA8Bg3ywmGwrjoLLzsXjNcwmZme2GcSC, 601 ),\n",
       "       AxonInfo( /ipv4/18.234.29.185:2165, 5GqJqjcuj56xRX4SsX5Un6cqdP6pjnzMpzi91jX8CM6gmM7P, 5CaGmWgcW6Nt26Mz8Md36JskkSXczsPKnYsfZ6JBcCNZvjNT, 600 ),\n",
       "       AxonInfo( /ipv4/216.153.57.106:6690, 5CPJdoT4rzLPwohryKBmSYMmHwFQmmBVbgQAXdcigiiZG4ve, 5GsvYsviXvugYLTJ1EsxMporNKujJBnaJvzJT4cnTvpzBwZD, 610 ),\n",
       "       AxonInfo( /ipv4/18.234.29.185:2173, 5DZf7DujsL56yUZSEGS2DE6N7uqv4o36pAYaB7ybCVtsx5j4, 5CaGmWgcW6Nt26Mz8Md36JskkSXczsPKnYsfZ6JBcCNZvjNT, 600 ),\n",
       "       AxonInfo( /ipv4/144.91.125.254:27517, 5EHpm2UK3CyhH1zZiJmM6erGrzkmVAF9EnT1QLSPhMzQaQHG, 5DAchgvPkoexHJnPURimXdyz1VVU2q9HzeqzsFVHc9SADHoj, 620 ),\n",
       "       AxonInfo( /ipv4/216.153.57.46:6680, 5HTE4eARiXbokC1HV4r9A8ekCCZE8E3Dzm74gKf78Pyv1qSZ, 5DSX9NzUWywjhCbDpC4vqQpQt5PCYXYpnyWszMntXmHXxJbu, 610 ),\n",
       "       AxonInfo( /ipv4/54.227.25.215:10016, 5F1jraNAAiQe2mX8kUnBCSqhxmLT46wSAxupZ5VQaBiU6mst, 5FhXUSmSZ2ec7ozRSA8Bg3ywmGwrjoLLzsXjNcwmZme2GcSC, 601 ),\n",
       "       AxonInfo( /ipv4/18.234.29.185:2066, 5FQqoegoK3pR1tazmHphsPDbdXJX2jHoLL9ixSeR1qCDMHzc, 5CaGmWgcW6Nt26Mz8Md36JskkSXczsPKnYsfZ6JBcCNZvjNT, 600 ),\n",
       "       AxonInfo( /ipv4/18.234.29.185:2142, 5DP5trFZTW2oC8V7RYMZcKMeAmLWkovjK4gby8onL5Qbo3wL, 5CaGmWgcW6Nt26Mz8Md36JskkSXczsPKnYsfZ6JBcCNZvjNT, 600 ),\n",
       "       AxonInfo( /ipv4/54.81.176.212:10006, 5G17BUr1PXrmBscr9oWBtrbYBJwcvo2ER5moCsTT59KW45Y1, 5H8oXwSRqkUcdkpUFofgnaRgoRdWEVX6ema9GjJp5Z6jVGBK, 600 ),\n",
       "       AxonInfo( /ipv4/51.91.30.166:40025, 5EL3L88sdZgds18rqz7kyTZaeF8cELkHToCSoXGo8L2KrjGG, 5CsxoeDvWsQFZJnDCyzxaNKgA8pBJGUJyE1DThH8xU25qUMg, 601 ),\n",
       "       AxonInfo( /ipv4/54.159.32.80:2091, 5EC2WyJEtmJF4LauK2mt4tXzPAJP5ap8LhNrCHyXiX7ezDXN, 5DfK86358xkYnUQ24uSZCMEK86JfJakRqGa1pwWPeHDW5Q4q, 600 ),\n",
       "       AxonInfo( /ipv4/18.218.191.34:40047, 5HjB7ubsyC9cc1CxApHVAHjPFyu7icPiiUn9kmxkzRXvhv8V, 5CJHeuSPAtwSfYVzsasC5XAMdFtzdaRGdQzT2nFzpU9cBqLU, 600 ),\n",
       "       AxonInfo( /ipv4/54.159.32.80:6126, 5HTZRJz58A5zggvVMx9M5vE16KcvSHbUjYb3Ja129v9bUECc, 5Gx55PPNUZAffaJbG5jhtbJydSXM4yrJjcRJTwQvfj3Ltx6z, 600 ),\n",
       "       AxonInfo( /ipv4/144.91.125.254:27511, 5DnViSacXqrP8FnQMtpAFGyahUPvU2A6pbrX7wcexb3bmVjb, 5DAchgvPkoexHJnPURimXdyz1VVU2q9HzeqzsFVHc9SADHoj, 620 ),\n",
       "       AxonInfo( /ipv4/144.91.125.254:27502, 5HgKApmbGpjEeAFVAYGtrTmYTdugbdWcnG2jq1BLLvxkGjX4, 5DAchgvPkoexHJnPURimXdyz1VVU2q9HzeqzsFVHc9SADHoj, 620 )],\n",
       "      dtype=object)"
      ]
     },
     "execution_count": 17,
     "metadata": {},
     "output_type": "execute_result"
    }
   ],
   "source": [
    "import numpy as np\n",
    "qaxons = np.asarray(m.axons)[quids]\n",
    "qaxons"
   ]
  }
 ],
 "metadata": {
  "kernelspec": {
   "display_name": "store",
   "language": "python",
   "name": "python3"
  },
  "language_info": {
   "codemirror_mode": {
    "name": "ipython",
    "version": 3
   },
   "file_extension": ".py",
   "mimetype": "text/x-python",
   "name": "python",
   "nbconvert_exporter": "python",
   "pygments_lexer": "ipython3",
   "version": "3.10.13"
  }
 },
 "nbformat": 4,
 "nbformat_minor": 2
}
