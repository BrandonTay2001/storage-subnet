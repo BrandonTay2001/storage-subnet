{
 "cells": [
  {
   "cell_type": "code",
   "execution_count": 2,
   "metadata": {},
   "outputs": [
    {
     "data": {
      "application/vnd.jupyter.widget-view+json": {
       "model_id": "1f81622ec8f7479197ed2c3c813d824c",
       "version_major": 2,
       "version_minor": 0
      },
      "text/plain": [
       "interactive(children=(Select(description='epoch', options=('1641', '1642'), value='1641'), IntSlider(value=14,…"
      ]
     },
     "metadata": {},
     "output_type": "display_data"
    }
   ],
   "source": [
    "import json\n",
    "import numpy as np\n",
    "import ipywidgets as ipyw\n",
    "import plotly.graph_objects as go\n",
    "from IPython.display import clear_output, display\n",
    "\n",
    "data_set = {}\n",
    "\n",
    "with open(\"emission_data.json\", \"r\", encoding=\"utf-8\") as file:\n",
    "    data_set = json.load(file)\n",
    "\n",
    "blocks = {epoch: [np.array(list(map(float, block.values()))) for block in data_set[epoch].values()] for epoch in data_set.keys()}\n",
    "\n",
    "def plot_graph(epoch, block):\n",
    "    clear_output(wait=True)\n",
    "    \n",
    "    emissions = blocks[epoch][block]\n",
    "    UIDs = list(range(len(emissions)))  # Convert range to list\n",
    "\n",
    "    fig = go.Figure(data = go.Bar(x=UIDs, y=emissions, text=emissions, textposition='auto'))\n",
    "\n",
    "    fig.update_layout(\n",
    "        autosize=False,\n",
    "        width = 1000,\n",
    "        height = 500,\n",
    "        margin = dict(l = 50, r = 50, b = 100, t = 100, pad = 4),\n",
    "        xaxis = dict(\n",
    "            tickangle = -45,\n",
    "            range = [0, 255],\n",
    "            autorange = False,\n",
    "            constrain = \"domain\",\n",
    "            constraintoward = \"center\"\n",
    "        ),\n",
    "    )\n",
    "\n",
    "    fig.show()\n",
    "\n",
    "epoch_dropdown = ipyw.Select(options=blocks.keys())\n",
    "block_slider = ipyw.IntSlider(min=0, max=len(blocks[epoch_dropdown.value]) - 1)\n",
    "\n",
    "def update_block_slider(*args):\n",
    "    block_slider.max = len(blocks[epoch_dropdown.value]) - 1\n",
    "\n",
    "epoch_dropdown.observe(update_block_slider, 'value')\n",
    "\n",
    "graph_box = ipyw.interactive(plot_graph, epoch=epoch_dropdown, block=block_slider)\n",
    "\n",
    "def update_and_display(*args):\n",
    "    clear_output(wait=True)\n",
    "    display(graph_box)\n",
    "\n",
    "epoch_dropdown.observe(update_and_display, 'value')\n",
    "block_slider.observe(update_and_display, 'value')\n",
    "\n",
    "update_and_display()"
   ]
  }
 ],
 "metadata": {
  "kernelspec": {
   "display_name": "storage-subnet-yLjW7Sxu-py3.10",
   "language": "python",
   "name": "python3"
  },
  "language_info": {
   "codemirror_mode": {
    "name": "ipython",
    "version": 3
   },
   "file_extension": ".py",
   "mimetype": "text/x-python",
   "name": "python",
   "nbconvert_exporter": "python",
   "pygments_lexer": "ipython3",
   "version": "3.10.12"
  }
 },
 "nbformat": 4,
 "nbformat_minor": 2
}
